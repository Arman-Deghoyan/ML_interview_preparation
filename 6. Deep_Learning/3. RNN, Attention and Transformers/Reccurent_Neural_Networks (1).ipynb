{
 "cells": [
  {
   "cell_type": "markdown",
   "metadata": {
    "colab_type": "text",
    "id": "b3czsZauXGtH"
   },
   "source": [
    "# Reccurent Neural Networks"
   ]
  },
  {
   "cell_type": "markdown",
   "metadata": {
    "colab_type": "text",
    "id": "4ERlg73cXGtL"
   },
   "source": [
    "This colab notebook is an introduction to Reccurent Neural Networks."
   ]
  },
  {
   "cell_type": "markdown",
   "metadata": {
    "colab_type": "text",
    "id": "_-7oNDyoXGtN"
   },
   "source": [
    "Suppose we have sequence data like, stock price, DNA sequence or comments o reddit. There is some kind of dependence of observations, i.e. stock price can depend on history of prices, each comment has some dependence to previous comment as it can be a reply. To encode this dependence into NN we can use Reccurent variants of it."
   ]
  },
  {
   "cell_type": "markdown",
   "metadata": {
    "colab_type": "text",
    "id": "CdJ4fEg5XGtO"
   },
   "source": [
    "![alt text](https://miro.medium.com/max/5200/1*tBUpKzl1F8FU5K_eKBYDHA.png)"
   ]
  },
  {
   "cell_type": "markdown",
   "metadata": {
    "colab_type": "text",
    "id": "NxhSa9AEXGtQ"
   },
   "source": [
    "Suppose we want to predict stock prices of Google at time $t$, while we have the data on stock price of Google, Microsoft and Apple until time $t-1$ included. "
   ]
  },
  {
   "cell_type": "markdown",
   "metadata": {
    "colab_type": "text",
    "id": "EB90nrDgXGtR"
   },
   "source": [
    "FFNN neuron has the following mathematical formulation.\n",
    "$$h_t = \\sigma(w_1x_{Gt}+w_2x_{At}+w_3x_{Mt}+b)$$\n",
    "while reccurent neuron has the following mathematical formulation.\n",
    "$$h_t = \\sigma(w_1x_{Gt}+w_2x_{At}+w_3x_{Mt}+b+w_hh_{t-1})$$"
   ]
  },
  {
   "cell_type": "markdown",
   "metadata": {
    "colab_type": "text",
    "id": "PBxFYo_sXGtS"
   },
   "source": [
    "Let's unfold it."
   ]
  },
  {
   "cell_type": "markdown",
   "metadata": {
    "colab_type": "text",
    "id": "7p4BeG3uXGtT"
   },
   "source": [
    "$$IN_t = w_1x_{Gt}+w_2x_{At}+w_3x_{Mt}+b$$<br>\n",
    "$$h_t = \\sigma(IN_t+w_hh_{t-1})$$<br>\n",
    "$$h_t = \\sigma(IN_t+w_h\\sigma(IN_{t-1}+w_hh_{t-2})$$<br>\n",
    "$$h_t = \\sigma(IN_t+w_h\\sigma(IN_{t-1}+w_h\\sigma(IN_{t-2}+w_hh_{t-3})$$<br>\n",
    "$$...$$<br>\n",
    "$$h_t = \\sigma(IN_t+w_h\\sigma(IN_{t-1}+w_h\\sigma(...\\sigma(IN_{0}+w_h\\sigma(IN_{0}+0w_h)$$<br>"
   ]
  },
  {
   "cell_type": "markdown",
   "metadata": {
    "colab_type": "text",
    "id": "Kt9s1JsZXGtU"
   },
   "source": [
    "![alt text](https://miro.medium.com/max/2800/1*DItCSHJ-NA2wy4lFfXv-_Q.png)"
   ]
  },
  {
   "cell_type": "markdown",
   "metadata": {
    "colab_type": "text",
    "id": "09kdpQo5XGtW"
   },
   "source": [
    "The backpropogation of RNN is similar to FFNN. However, there is weight sharing as in CNNs."
   ]
  },
  {
   "cell_type": "markdown",
   "metadata": {
    "colab_type": "text",
    "id": "BIBoe0FyXGtX"
   },
   "source": [
    "![alt text](https://dudeperf3ct.github.io/images/rnn/backprop_3.png)"
   ]
  },
  {
   "cell_type": "markdown",
   "metadata": {
    "colab_type": "text",
    "id": "ouXdSlFCXGtY"
   },
   "source": [
    "Let's make an assumption that stock price is not affected by prices older than a month. Then we can divide our dataset into 30 day length chunks and consider them as observations. "
   ]
  },
  {
   "cell_type": "code",
   "execution_count": 0,
   "metadata": {
    "colab": {},
    "colab_type": "code",
    "id": "NnVUP8pWXGtZ"
   },
   "outputs": [],
   "source": [
    "import pandas_datareader.data as web\n",
    "from pandas_datareader import get_data_yahoo\n",
    "import pandas as pd\n",
    "import numpy as np\n",
    "import matplotlib.pyplot as plt"
   ]
  },
  {
   "cell_type": "code",
   "execution_count": 0,
   "metadata": {
    "colab": {},
    "colab_type": "code",
    "id": "50yhRdHZXGtd"
   },
   "outputs": [],
   "source": [
    "# getting stock daily data\n",
    "google = get_data_yahoo('GOOGL')\n",
    "microsoft = get_data_yahoo('MSFT')\n",
    "apple = get_data_yahoo('AAPL')"
   ]
  },
  {
   "cell_type": "code",
   "execution_count": 0,
   "metadata": {
    "colab": {},
    "colab_type": "code",
    "id": "GnGn21K7XGti"
   },
   "outputs": [],
   "source": [
    "# calculating daily differences\n",
    "google['diff'] = google['Adj Close'] - google['Adj Close'].shift(1)\n",
    "microsoft['diff'] = microsoft['Adj Close'] - microsoft['Adj Close'].shift(1)\n",
    "apple['diff'] = apple['Adj Close'] - apple['Adj Close'].shift(1)"
   ]
  },
  {
   "cell_type": "code",
   "execution_count": 0,
   "metadata": {
    "colab": {},
    "colab_type": "code",
    "id": "NJO_P9qLXGto"
   },
   "outputs": [],
   "source": [
    "# converting to 30 day samples\n",
    "google_list = google['diff'].to_list()[1:]\n",
    "microsoft_list = microsoft['diff'].to_list()[1:]\n",
    "apple_list = apple['diff'].to_list()[1:]\n",
    "X = []\n",
    "for i in range(len(google_list)-30):\n",
    "    gnp = np.array(google_list[i:i+30]).reshape(30,1)\n",
    "    mnp = np.array(microsoft_list[i:i+30]).reshape(30,1)\n",
    "    anp = np.array(apple_list[i:i+30]).reshape(30,1)\n",
    "    x = np.concatenate([gnp,mnp,anp]).reshape(30,3)\n",
    "    X.append(x)\n",
    "Y = np.array(google_list[30:]).reshape(-1,1)\n",
    "X = np.array(X)"
   ]
  },
  {
   "cell_type": "code",
   "execution_count": 0,
   "metadata": {
    "colab": {},
    "colab_type": "code",
    "id": "Ey6yYMwkXGtv"
   },
   "outputs": [],
   "source": [
    "from tensorflow.keras.layers import SimpleRNN,Dense,Dropout,BatchNormalization,Input\n",
    "from tensorflow.keras.models import Sequential, Model\n",
    "from sklearn.model_selection import train_test_split\n",
    "from sklearn.preprocessing import StandardScaler"
   ]
  },
  {
   "cell_type": "code",
   "execution_count": 0,
   "metadata": {
    "colab": {},
    "colab_type": "code",
    "id": "M7vAT5IpXGtz"
   },
   "outputs": [],
   "source": [
    "#X_train, X_test, Y_train, Y_test = train_test_split(X,Y,test_size = 0.3)\n",
    "X_train = X[:-300]\n",
    "X_test = X[-300:]\n",
    "Y_train = Y[:-300]\n",
    "Y_test = Y[-300:]"
   ]
  },
  {
   "cell_type": "code",
   "execution_count": 0,
   "metadata": {
    "colab": {},
    "colab_type": "code",
    "id": "d0-4ZJK1XGt5"
   },
   "outputs": [],
   "source": [
    "scaler = StandardScaler()\n",
    "scaler.fit(X_train.reshape(-1,90))\n",
    "X_train_scaled = scaler.transform(X_train.reshape(-1,90)).reshape(-1,30,3)\n",
    "X_test_scaled = scaler.transform(X_test.reshape(-1,90)).reshape(-1,30,3)\n",
    "\n",
    "scaler_y = StandardScaler()\n",
    "scaler_y.fit(Y_train)\n",
    "Y_train_scaled = scaler_y.transform(Y_train)\n",
    "Y_test_scaled = scaler_y.transform(Y_test)"
   ]
  },
  {
   "cell_type": "code",
   "execution_count": 0,
   "metadata": {
    "colab": {},
    "colab_type": "code",
    "id": "XnPqucjaXGt-"
   },
   "outputs": [],
   "source": [
    "model = Sequential()\n",
    "model.add(BatchNormalization())\n",
    "model.add(SimpleRNN(128,return_sequences = True))\n",
    "model.add(SimpleRNN(128,return_sequences = True))\n",
    "model.add(SimpleRNN(128))\n",
    "model.add(Dropout(0.8))\n",
    "model.add(Dense(1))\n",
    "\n",
    "model.compile(optimizer = 'adam', loss = 'mse')"
   ]
  },
  {
   "cell_type": "code",
   "execution_count": 0,
   "metadata": {
    "colab": {
     "base_uri": "https://localhost:8080/",
     "height": 1000
    },
    "colab_type": "code",
    "id": "b2Nh3e_MXGuC",
    "outputId": "393e6ac2-4590-44ad-87f6-06c86d4220e9"
   },
   "outputs": [
    {
     "name": "stdout",
     "output_type": "stream",
     "text": [
      "WARNING:tensorflow:From /usr/local/lib/python3.6/dist-packages/tensorflow_core/python/ops/resource_variable_ops.py:1630: calling BaseResourceVariable.__init__ (from tensorflow.python.ops.resource_variable_ops) with constraint is deprecated and will be removed in a future version.\n",
      "Instructions for updating:\n",
      "If using Keras pass *_constraint arguments to layers.\n",
      "WARNING:tensorflow:Large dropout rate: 0.8 (>0.5). In TensorFlow 2.x, dropout() uses dropout rate instead of keep_prob. Please ensure that this is intended.\n",
      "Train on 2169 samples, validate on 300 samples\n",
      "Epoch 1/100\n",
      "2169/2169 [==============================] - 3s 1ms/sample - loss: 3.5287 - val_loss: 4.7879\n",
      "Epoch 2/100\n",
      "2169/2169 [==============================] - 2s 725us/sample - loss: 2.7071 - val_loss: 4.6517\n",
      "Epoch 3/100\n",
      "2169/2169 [==============================] - 2s 707us/sample - loss: 1.8930 - val_loss: 4.7457\n",
      "Epoch 4/100\n",
      "2169/2169 [==============================] - 2s 718us/sample - loss: 1.5568 - val_loss: 4.8423\n",
      "Epoch 5/100\n",
      "2169/2169 [==============================] - 2s 747us/sample - loss: 1.4091 - val_loss: 4.7779\n",
      "Epoch 6/100\n",
      "2169/2169 [==============================] - 2s 776us/sample - loss: 1.2948 - val_loss: 4.7180\n",
      "Epoch 7/100\n",
      "2169/2169 [==============================] - 2s 815us/sample - loss: 1.2618 - val_loss: 4.7894\n",
      "Epoch 8/100\n",
      "2169/2169 [==============================] - 2s 795us/sample - loss: 1.1622 - val_loss: 4.7744\n",
      "Epoch 9/100\n",
      "2169/2169 [==============================] - 2s 714us/sample - loss: 1.1469 - val_loss: 4.6941\n",
      "Epoch 10/100\n",
      "2169/2169 [==============================] - 2s 734us/sample - loss: 1.1726 - val_loss: 4.6932\n",
      "Epoch 11/100\n",
      "2169/2169 [==============================] - 2s 718us/sample - loss: 1.3836 - val_loss: 4.5874\n",
      "Epoch 12/100\n",
      "2169/2169 [==============================] - 2s 718us/sample - loss: 1.2360 - val_loss: 4.6628\n",
      "Epoch 13/100\n",
      "2169/2169 [==============================] - 2s 703us/sample - loss: 1.1471 - val_loss: 4.6412\n",
      "Epoch 14/100\n",
      "2169/2169 [==============================] - 2s 776us/sample - loss: 1.0769 - val_loss: 4.6279\n",
      "Epoch 15/100\n",
      "2169/2169 [==============================] - 2s 769us/sample - loss: 1.0645 - val_loss: 4.6015\n",
      "Epoch 16/100\n",
      "2169/2169 [==============================] - 2s 724us/sample - loss: 1.0469 - val_loss: 4.6191\n",
      "Epoch 17/100\n",
      "2169/2169 [==============================] - 2s 727us/sample - loss: 1.0072 - val_loss: 4.6317\n",
      "Epoch 18/100\n",
      "2169/2169 [==============================] - 2s 702us/sample - loss: 1.0055 - val_loss: 4.6276\n",
      "Epoch 19/100\n",
      "2169/2169 [==============================] - 2s 712us/sample - loss: 0.9912 - val_loss: 4.6000\n",
      "Epoch 20/100\n",
      "2169/2169 [==============================] - 2s 708us/sample - loss: 0.9858 - val_loss: 4.5950\n",
      "Epoch 21/100\n",
      "2169/2169 [==============================] - 2s 732us/sample - loss: 0.9915 - val_loss: 4.5962\n",
      "Epoch 22/100\n",
      "2169/2169 [==============================] - 2s 715us/sample - loss: 0.9881 - val_loss: 4.5996\n",
      "Epoch 23/100\n",
      "2169/2169 [==============================] - 2s 712us/sample - loss: 0.9733 - val_loss: 4.6013\n",
      "Epoch 24/100\n",
      "2169/2169 [==============================] - 2s 758us/sample - loss: 0.9547 - val_loss: 4.5942\n",
      "Epoch 25/100\n",
      "2169/2169 [==============================] - 2s 777us/sample - loss: 0.9640 - val_loss: 4.6023\n",
      "Epoch 26/100\n",
      "2169/2169 [==============================] - 2s 771us/sample - loss: 0.9453 - val_loss: 4.5942\n",
      "Epoch 27/100\n",
      "2169/2169 [==============================] - 2s 747us/sample - loss: 0.9396 - val_loss: 4.5803\n",
      "Epoch 28/100\n",
      "2169/2169 [==============================] - 2s 711us/sample - loss: 0.9403 - val_loss: 4.6060\n",
      "Epoch 29/100\n",
      "2169/2169 [==============================] - 2s 727us/sample - loss: 0.9286 - val_loss: 4.5805\n",
      "Epoch 30/100\n",
      "2169/2169 [==============================] - 2s 717us/sample - loss: 0.9111 - val_loss: 4.6153\n",
      "Epoch 31/100\n",
      "2169/2169 [==============================] - 2s 733us/sample - loss: 0.8798 - val_loss: 4.5823\n",
      "Epoch 32/100\n",
      "2169/2169 [==============================] - 2s 737us/sample - loss: 0.8850 - val_loss: 4.5433\n",
      "Epoch 33/100\n",
      "2169/2169 [==============================] - 2s 774us/sample - loss: 0.8497 - val_loss: 4.5696\n",
      "Epoch 34/100\n",
      "2169/2169 [==============================] - 2s 709us/sample - loss: 0.8387 - val_loss: 4.4683\n",
      "Epoch 35/100\n",
      "2169/2169 [==============================] - 2s 708us/sample - loss: 0.7924 - val_loss: 4.6293\n",
      "Epoch 36/100\n",
      "2169/2169 [==============================] - 2s 729us/sample - loss: 0.7753 - val_loss: 4.5866\n",
      "Epoch 37/100\n",
      "2169/2169 [==============================] - 2s 723us/sample - loss: 0.7473 - val_loss: 4.5597\n",
      "Epoch 38/100\n",
      "2169/2169 [==============================] - 2s 716us/sample - loss: 0.7316 - val_loss: 4.5262\n",
      "Epoch 39/100\n",
      "2169/2169 [==============================] - 2s 730us/sample - loss: 0.7329 - val_loss: 4.7262\n",
      "Epoch 40/100\n",
      "2169/2169 [==============================] - 2s 716us/sample - loss: 0.6854 - val_loss: 4.6297\n",
      "Epoch 41/100\n",
      "2169/2169 [==============================] - 2s 731us/sample - loss: 0.6648 - val_loss: 4.6065\n",
      "Epoch 42/100\n",
      "2169/2169 [==============================] - 2s 816us/sample - loss: 0.6635 - val_loss: 4.6600\n",
      "Epoch 43/100\n",
      "2169/2169 [==============================] - 2s 796us/sample - loss: 0.6101 - val_loss: 4.6417\n",
      "Epoch 44/100\n",
      "2169/2169 [==============================] - 2s 729us/sample - loss: 0.5754 - val_loss: 4.5914\n",
      "Epoch 45/100\n",
      "2169/2169 [==============================] - 2s 741us/sample - loss: 0.6021 - val_loss: 4.5350\n",
      "Epoch 46/100\n",
      "2169/2169 [==============================] - 2s 718us/sample - loss: 0.5632 - val_loss: 4.8164\n",
      "Epoch 47/100\n",
      "2169/2169 [==============================] - 2s 750us/sample - loss: 0.5672 - val_loss: 4.5632\n",
      "Epoch 48/100\n",
      "2169/2169 [==============================] - 2s 741us/sample - loss: 0.5004 - val_loss: 4.6000\n",
      "Epoch 49/100\n",
      "2169/2169 [==============================] - 2s 779us/sample - loss: 0.5185 - val_loss: 4.7096\n",
      "Epoch 50/100\n",
      "2169/2169 [==============================] - 2s 722us/sample - loss: 0.4866 - val_loss: 4.7128\n",
      "Epoch 51/100\n",
      "2169/2169 [==============================] - 2s 724us/sample - loss: 0.4835 - val_loss: 4.5611\n",
      "Epoch 52/100\n",
      "2169/2169 [==============================] - 2s 747us/sample - loss: 0.5101 - val_loss: 4.7459\n",
      "Epoch 53/100\n",
      "2169/2169 [==============================] - 2s 738us/sample - loss: 0.4348 - val_loss: 4.6789\n",
      "Epoch 54/100\n",
      "2169/2169 [==============================] - 2s 712us/sample - loss: 0.4391 - val_loss: 4.7840\n",
      "Epoch 55/100\n",
      "2169/2169 [==============================] - 2s 706us/sample - loss: 0.4328 - val_loss: 4.8461\n",
      "Epoch 56/100\n",
      "2169/2169 [==============================] - 2s 703us/sample - loss: 0.4365 - val_loss: 4.8969\n",
      "Epoch 57/100\n",
      "2169/2169 [==============================] - 2s 718us/sample - loss: 0.4410 - val_loss: 4.7393\n",
      "Epoch 58/100\n",
      "2169/2169 [==============================] - 2s 763us/sample - loss: 0.3813 - val_loss: 4.8578\n",
      "Epoch 59/100\n",
      "2169/2169 [==============================] - 2s 807us/sample - loss: 0.4191 - val_loss: 4.8267\n",
      "Epoch 60/100\n",
      "2169/2169 [==============================] - 2s 789us/sample - loss: 0.3991 - val_loss: 4.8373\n",
      "Epoch 61/100\n",
      "2169/2169 [==============================] - 2s 752us/sample - loss: 0.3826 - val_loss: 4.7371\n",
      "Epoch 62/100\n",
      "2169/2169 [==============================] - 2s 716us/sample - loss: 0.3832 - val_loss: 4.7996\n",
      "Epoch 63/100\n",
      "2169/2169 [==============================] - 2s 732us/sample - loss: 0.3816 - val_loss: 4.7951\n",
      "Epoch 64/100\n",
      "2169/2169 [==============================] - 2s 757us/sample - loss: 0.3856 - val_loss: 4.7960\n",
      "Epoch 65/100\n",
      "2169/2169 [==============================] - 2s 801us/sample - loss: 0.3879 - val_loss: 4.6614\n",
      "Epoch 66/100\n",
      "2169/2169 [==============================] - 2s 806us/sample - loss: 0.3567 - val_loss: 4.7593\n",
      "Epoch 67/100\n",
      "2169/2169 [==============================] - 2s 729us/sample - loss: 0.3441 - val_loss: 4.8110\n",
      "Epoch 68/100\n",
      "2169/2169 [==============================] - 2s 715us/sample - loss: 0.3653 - val_loss: 4.7608\n",
      "Epoch 69/100\n",
      "2169/2169 [==============================] - 2s 723us/sample - loss: 0.3481 - val_loss: 4.8494\n",
      "Epoch 70/100\n",
      "2169/2169 [==============================] - 2s 748us/sample - loss: 0.3517 - val_loss: 4.9027\n",
      "Epoch 71/100\n",
      "2169/2169 [==============================] - 2s 788us/sample - loss: 0.3521 - val_loss: 5.1256\n",
      "Epoch 72/100\n",
      "2169/2169 [==============================] - 2s 726us/sample - loss: 0.3440 - val_loss: 4.6589\n",
      "Epoch 73/100\n",
      "2169/2169 [==============================] - 2s 713us/sample - loss: 0.3303 - val_loss: 4.8201\n",
      "Epoch 74/100\n",
      "2169/2169 [==============================] - 2s 707us/sample - loss: 0.3338 - val_loss: 4.7605\n",
      "Epoch 75/100\n",
      "2169/2169 [==============================] - 2s 723us/sample - loss: 0.3374 - val_loss: 4.8628\n",
      "Epoch 76/100\n",
      "2169/2169 [==============================] - 2s 789us/sample - loss: 0.3651 - val_loss: 4.8583\n",
      "Epoch 77/100\n",
      "2169/2169 [==============================] - 2s 764us/sample - loss: 0.3344 - val_loss: 4.8335\n",
      "Epoch 78/100\n",
      "2169/2169 [==============================] - 2s 730us/sample - loss: 0.3193 - val_loss: 4.9031\n",
      "Epoch 79/100\n",
      "2169/2169 [==============================] - 2s 726us/sample - loss: 0.3214 - val_loss: 4.7614\n",
      "Epoch 80/100\n",
      "2169/2169 [==============================] - 2s 747us/sample - loss: 0.3145 - val_loss: 4.9535\n",
      "Epoch 81/100\n",
      "2169/2169 [==============================] - 2s 740us/sample - loss: 0.2897 - val_loss: 4.8832\n",
      "Epoch 82/100\n",
      "2169/2169 [==============================] - 2s 722us/sample - loss: 0.3152 - val_loss: 4.8723\n",
      "Epoch 83/100\n",
      "2169/2169 [==============================] - 2s 772us/sample - loss: 0.3293 - val_loss: 4.8095\n",
      "Epoch 84/100\n",
      "2169/2169 [==============================] - 2s 716us/sample - loss: 0.3089 - val_loss: 4.9850\n",
      "Epoch 85/100\n",
      "2169/2169 [==============================] - 2s 729us/sample - loss: 0.3176 - val_loss: 4.8700\n",
      "Epoch 86/100\n",
      "2169/2169 [==============================] - 2s 781us/sample - loss: 0.3011 - val_loss: 5.0493\n",
      "Epoch 87/100\n",
      "2169/2169 [==============================] - 2s 759us/sample - loss: 0.3143 - val_loss: 4.8785\n",
      "Epoch 88/100\n",
      "2169/2169 [==============================] - 2s 800us/sample - loss: 0.3155 - val_loss: 4.9582\n",
      "Epoch 89/100\n",
      "2169/2169 [==============================] - 2s 838us/sample - loss: 0.2998 - val_loss: 5.1113\n",
      "Epoch 90/100\n",
      "2169/2169 [==============================] - 2s 795us/sample - loss: 0.3072 - val_loss: 4.9315\n",
      "Epoch 91/100\n",
      "2169/2169 [==============================] - 2s 774us/sample - loss: 0.3044 - val_loss: 4.9565\n",
      "Epoch 92/100\n",
      "2169/2169 [==============================] - 2s 753us/sample - loss: 0.2914 - val_loss: 4.9535\n",
      "Epoch 93/100\n",
      "2169/2169 [==============================] - 2s 755us/sample - loss: 0.2779 - val_loss: 4.9945\n",
      "Epoch 94/100\n",
      "2169/2169 [==============================] - 2s 745us/sample - loss: 0.2786 - val_loss: 4.9628\n",
      "Epoch 95/100\n",
      "2169/2169 [==============================] - 2s 722us/sample - loss: 0.2630 - val_loss: 4.8988\n",
      "Epoch 96/100\n",
      "2169/2169 [==============================] - 2s 721us/sample - loss: 0.2865 - val_loss: 4.9874\n",
      "Epoch 97/100\n",
      "2169/2169 [==============================] - 2s 761us/sample - loss: 0.2751 - val_loss: 4.8811\n",
      "Epoch 98/100\n",
      "2169/2169 [==============================] - 2s 797us/sample - loss: 0.2523 - val_loss: 4.8023\n",
      "Epoch 99/100\n",
      "2169/2169 [==============================] - 2s 746us/sample - loss: 0.2884 - val_loss: 4.8823\n",
      "Epoch 100/100\n",
      "2169/2169 [==============================] - 2s 726us/sample - loss: 0.2781 - val_loss: 4.9235\n"
     ]
    },
    {
     "data": {
      "text/plain": [
       "<tensorflow.python.keras.callbacks.History at 0x7f4c55f61048>"
      ]
     },
     "execution_count": 10,
     "metadata": {
      "tags": []
     },
     "output_type": "execute_result"
    }
   ],
   "source": [
    "model.fit(X_train_scaled,Y_train_scaled,\n",
    "          batch_size = 64, epochs = 100, verbose = 1,\n",
    "          validation_data= (X_test_scaled,Y_test_scaled))"
   ]
  },
  {
   "cell_type": "code",
   "execution_count": 0,
   "metadata": {
    "colab": {
     "base_uri": "https://localhost:8080/",
     "height": 483
    },
    "colab_type": "code",
    "id": "0a6cE1lYXGuL",
    "outputId": "d93cc713-e7ab-445a-eb03-6e74ec0e2128"
   },
   "outputs": [
    {
     "data": {
      "image/png": "[encoded data removed]",
      "text/plain": [
       "<Figure size 1152x576 with 1 Axes>"
      ]
     },
     "metadata": {
      "tags": []
     },
     "output_type": "display_data"
    }
   ],
   "source": [
    "plt.figure(figsize = (10,4))\n",
    "plt.plot(Y_test, label = 'real')\n",
    "plt.plot(scaler_y.inverse_transform(model.predict(X_test_scaled)),\n",
    "         'r',label = 'predicted')\n",
    "plt.legend()\n",
    "plt.show()"
   ]
  },
  {
   "cell_type": "markdown",
   "metadata": {
    "colab_type": "text",
    "id": "u2rBf7ClXGuO"
   },
   "source": [
    "One of the problems with RNN is the vanishing and exploding gradient problem. When we apply sigmoid function over and over it either shrinks or explodes depending where we start. As in our example we apply more than 30 sigmoids to propogae the gradient it can be rather small or big."
   ]
  },
  {
   "cell_type": "markdown",
   "metadata": {
    "colab_type": "text",
    "id": "IBlmy1UhXGuP"
   },
   "source": [
    "![alt text](https://miro.medium.com/max/1400/1*gFC2bTg3uihp1klknWU0qg.gif)"
   ]
  },
  {
   "cell_type": "markdown",
   "metadata": {
    "colab_type": "text",
    "id": "gydVMKQzXGuQ"
   },
   "source": [
    "To remedy this problem there are some variants of RNNs which try to add long term memory to neurons to preserve the gradients (like residual connections in ResNets). We will discuss those models in 2nd part."
   ]
  },
  {
   "cell_type": "markdown",
   "metadata": {
    "colab_type": "text",
    "id": "gYR2gujHXGuS"
   },
   "source": [
    "on backprop http://www.wildml.com/2015/10/recurrent-neural-networks-tutorial-part-3-backpropagation-through-time-and-vanishing-gradients/<br>\n",
    "more on backprop with examples also on other RNNs https://datascience-enthusiast.com/DL/Building_a_Recurrent_Neural_Network-Step_by_Step_v1.html<br>\n",
    "for other types https://towardsdatascience.com/illustrated-guide-to-lstms-and-gru-s-a-step-by-step-explanation-44e9eb85bf21"
   ]
  },
  {
   "cell_type": "code",
   "execution_count": 0,
   "metadata": {
    "colab": {},
    "colab_type": "code",
    "id": "uytj6qebXGuT"
   },
   "outputs": [],
   "source": [
    "Y_train_bin = np.array([int(y>0) for y in Y_train])\n",
    "Y_test_bin = np.array([int(y>0) for y in Y_test])"
   ]
  },
  {
   "cell_type": "code",
   "execution_count": 0,
   "metadata": {
    "colab": {},
    "colab_type": "code",
    "id": "e0HLeybmXGuW"
   },
   "outputs": [],
   "source": [
    "model = Sequential()\n",
    "model.add(BatchNormalization())\n",
    "model.add(SimpleRNN(128,return_sequences = True))\n",
    "model.add(SimpleRNN(128,return_sequences = True))\n",
    "model.add(SimpleRNN(128))\n",
    "model.add(Dropout(0.5))\n",
    "model.add(Dense(1, activation = 'sigmoid'))\n",
    "\n",
    "model.compile(optimizer = 'adam', loss = 'binary_crossentropy',metrics = ['accuracy'])"
   ]
  },
  {
   "cell_type": "markdown",
   "metadata": {
    "colab_type": "text",
    "id": "5LY7FTySfyI8"
   },
   "source": [
    "![alt text](http://i.imgur.com/J3DwxSF.png)"
   ]
  },
  {
   "cell_type": "markdown",
   "metadata": {
    "colab_type": "text",
    "id": "r1LeoY-6f-TF"
   },
   "source": [
    "![alt text](https://i.stack.imgur.com/6VAOt.jpg)"
   ]
  },
  {
   "cell_type": "code",
   "execution_count": 0,
   "metadata": {
    "colab": {
     "base_uri": "https://localhost:8080/",
     "height": 391
    },
    "colab_type": "code",
    "id": "I6whrM-dXGuZ",
    "outputId": "ea844ebd-729c-44a7-c25f-5b3a07e73a86",
    "scrolled": true
   },
   "outputs": [
    {
     "name": "stdout",
     "output_type": "stream",
     "text": [
      "Train on 2169 samples, validate on 300 samples\n",
      "Epoch 1/10\n",
      "2169/2169 [==============================] - 2s 1ms/sample - loss: 0.8153 - acc: 0.4961 - val_loss: 0.6964 - val_acc: 0.5300\n",
      "Epoch 2/10\n",
      "2169/2169 [==============================] - 2s 753us/sample - loss: 0.7726 - acc: 0.5127 - val_loss: 0.7130 - val_acc: 0.5133\n",
      "Epoch 3/10\n",
      "2169/2169 [==============================] - 2s 745us/sample - loss: 0.7730 - acc: 0.4961 - val_loss: 0.7003 - val_acc: 0.5400\n",
      "Epoch 4/10\n",
      "2169/2169 [==============================] - 2s 735us/sample - loss: 0.7445 - acc: 0.5178 - val_loss: 0.6931 - val_acc: 0.5567\n",
      "Epoch 5/10\n",
      "2169/2169 [==============================] - 2s 750us/sample - loss: 0.7397 - acc: 0.5284 - val_loss: 0.7047 - val_acc: 0.5167\n",
      "Epoch 6/10\n",
      "2169/2169 [==============================] - 2s 725us/sample - loss: 0.7253 - acc: 0.5413 - val_loss: 0.7003 - val_acc: 0.5500\n",
      "Epoch 7/10\n",
      "2169/2169 [==============================] - 2s 720us/sample - loss: 0.7105 - acc: 0.5357 - val_loss: 0.7065 - val_acc: 0.5300\n",
      "Epoch 8/10\n",
      "2169/2169 [==============================] - 2s 785us/sample - loss: 0.7040 - acc: 0.5648 - val_loss: 0.7065 - val_acc: 0.5033\n",
      "Epoch 9/10\n",
      "2169/2169 [==============================] - 2s 726us/sample - loss: 0.6848 - acc: 0.5717 - val_loss: 0.6976 - val_acc: 0.5667\n",
      "Epoch 10/10\n",
      "2169/2169 [==============================] - 2s 724us/sample - loss: 0.6816 - acc: 0.5846 - val_loss: 0.7128 - val_acc: 0.5033\n"
     ]
    },
    {
     "data": {
      "text/plain": [
       "<tensorflow.python.keras.callbacks.History at 0x7f4c4789a978>"
      ]
     },
     "execution_count": 22,
     "metadata": {
      "tags": []
     },
     "output_type": "execute_result"
    }
   ],
   "source": [
    "model.fit(X_train_scaled,Y_train_bin,\n",
    "          batch_size = 64, epochs = 10, verbose = 1,\n",
    "          validation_data= (X_test_scaled,Y_test_bin))"
   ]
  },
  {
   "cell_type": "code",
   "execution_count": 0,
   "metadata": {
    "colab": {},
    "colab_type": "code",
    "id": "vWpS8ApfXGug"
   },
   "outputs": [],
   "source": [
    "from sklearn.metrics import confusion_matrix\n",
    "from sklearn.utils.multiclass import unique_labels\n",
    "def plot_confusion_matrix(y_true, y_pred, classes,\n",
    "                          normalize=False,\n",
    "                          title=None,\n",
    "                          cmap=plt.cm.Blues):\n",
    "    \"\"\"\n",
    "    This function prints and plots the confusion matrix.\n",
    "    Normalization can be applied by setting `normalize=True`.\n",
    "    \"\"\"\n",
    "    if not title:\n",
    "        if normalize:\n",
    "            title = 'Normalized confusion matrix'\n",
    "        else:\n",
    "            title = 'Confusion matrix, without normalization'\n",
    "\n",
    "    # Compute confusion matrix\n",
    "    cm = confusion_matrix(y_true, y_pred)\n",
    "    # Only use the labels that appear in the data\n",
    "    classes = ['rise','fall']\n",
    "    if normalize:\n",
    "        cm = cm.astype('float') / cm.sum(axis=1)[:, np.newaxis]\n",
    "        print(\"Normalized confusion matrix\")\n",
    "    else:\n",
    "        print('Confusion matrix, without normalization')\n",
    "    fig, ax = plt.subplots()\n",
    "    im = ax.imshow(cm, interpolation='nearest', cmap=cmap)\n",
    "    ax.figure.colorbar(im, ax=ax)\n",
    "    # We want to show all ticks...\n",
    "    ax.set(xticks=np.arange(cm.shape[1]),\n",
    "           yticks=np.arange(cm.shape[0]),\n",
    "           # ... and label them with the respective list entries\n",
    "           xticklabels=classes, yticklabels=classes,\n",
    "           title=title,\n",
    "           ylabel='True label',\n",
    "           xlabel='Predicted label')\n",
    "\n",
    "    # Rotate the tick labels and set their alignment.\n",
    "    plt.setp(ax.get_xticklabels(), rotation=45, ha=\"right\",\n",
    "             rotation_mode=\"anchor\")\n",
    "\n",
    "    # Loop over data dimensions and create text annotations.\n",
    "    fmt = '.2f' if normalize else 'd'\n",
    "    thresh = cm.max() / 2.\n",
    "    for i in range(cm.shape[0]):\n",
    "        for j in range(cm.shape[1]):\n",
    "            ax.text(j, i, format(cm[i, j], fmt),\n",
    "                    ha=\"center\", va=\"center\",\n",
    "                    color=\"white\" if cm[i, j] > thresh else \"black\")\n",
    "    fig.tight_layout()\n",
    "    return ax"
   ]
  },
  {
   "cell_type": "code",
   "execution_count": 0,
   "metadata": {
    "colab": {
     "base_uri": "https://localhost:8080/",
     "height": 611
    },
    "colab_type": "code",
    "id": "O2Zpqt_mXGut",
    "outputId": "f078ccbb-ab4b-4eaf-857e-815d7ada6079"
   },
   "outputs": [
    {
     "name": "stdout",
     "output_type": "stream",
     "text": [
      "Confusion matrix, without normalization\n"
     ]
    },
    {
     "data": {
      "image/png": "[encoded data removed]",
      "text/plain": [
       "<Figure size 432x288 with 2 Axes>"
      ]
     },
     "metadata": {
      "tags": []
     },
     "output_type": "display_data"
    },
    {
     "name": "stdout",
     "output_type": "stream",
     "text": [
      "Normalized confusion matrix\n"
     ]
    },
    {
     "data": {
      "image/png": "[encoded data removed]",
      "text/plain": [
       "<Figure size 432x288 with 2 Axes>"
      ]
     },
     "metadata": {
      "tags": []
     },
     "output_type": "display_data"
    }
   ],
   "source": [
    "# Plot non-normalized confusion matrix\n",
    "plot_confusion_matrix(Y_test_bin, np.array([int(i>0.52) for i in model.predict(X_test_scaled)]),\n",
    "                      classes=['rise','fall'],\n",
    "                      title='Confusion matrix, without normalization')\n",
    "\n",
    "plt.show()\n",
    "# Plot normalized confusion matrix\n",
    "plot_confusion_matrix(Y_test_bin, np.array([int(i>0.52) for i in model.predict(X_test_scaled)]),\n",
    "                      classes=['rise','fall'], normalize=True,\n",
    "                      title='Normalized confusion matrix')\n",
    "\n",
    "plt.show()"
   ]
  },
  {
   "cell_type": "markdown",
   "metadata": {
    "colab_type": "text",
    "id": "DLm0sc4Mo1Ri"
   },
   "source": [
    "# LSTM & GRU"
   ]
  },
  {
   "cell_type": "markdown",
   "metadata": {
    "colab_type": "text",
    "id": "qmuyf7K2ovX6"
   },
   "source": [
    "on LSTMs: https://colah.github.io/posts/2015-08-Understanding-LSTMs/ also most images are from here"
   ]
  },
  {
   "cell_type": "markdown",
   "metadata": {},
   "source": [
    "![aaa](LSTM.png)"
   ]
  },
  {
   "cell_type": "markdown",
   "metadata": {},
   "source": [
    "# 1.Arachin@ vor katarvuma et long term memory ic forget a linum inch vor ban\n",
    "# 2.Learn gate na vor@ short term memory n aysinqn naxord neuroni output u event irar het kpnumem vor learn anen nor ekac dataic u naxord pahi memory ic short inch ka ban\n",
    "# 3.heto remember gate ov learn gate@ u forget gate@ kpnumen irar jogen inch remember arvi long term\n",
    "# 4 verchum es uje forget gate@ kpnuma arden urish dzev learn gate in vor jogi short term inch output ani."
   ]
  },
  {
   "cell_type": "markdown",
   "metadata": {},
   "source": [
    "![aaaa](LSTM2.png)"
   ]
  },
  {
   "cell_type": "markdown",
   "metadata": {
    "colab_type": "text",
    "id": "hm0NPydoovX6"
   },
   "source": [
    "As was established above, RNNs have vanishing and exploding gradient problem."
   ]
  },
  {
   "cell_type": "markdown",
   "metadata": {
    "colab_type": "text",
    "id": "J-VRsUioovX7"
   },
   "source": [
    "![alt text](https://miro.medium.com/max/1400/1*gFC2bTg3uihp1klknWU0qg.gif)"
   ]
  },
  {
   "cell_type": "markdown",
   "metadata": {
    "colab_type": "text",
    "id": "h7_OVAK1ovX8"
   },
   "source": [
    "To remedy this problem some new architectures of RNNs have been developed. Let's start with LSTM (Long-Short-Term-Memory)"
   ]
  },
  {
   "cell_type": "markdown",
   "metadata": {
    "colab_type": "text",
    "id": "IkB3k7fbovX8"
   },
   "source": [
    "![alt text](http://dprogrammer.org/wp-content/uploads/2019/04/RNN-vs-LSTM-vs-GRU-1200x361.png)"
   ]
  },
  {
   "cell_type": "markdown",
   "metadata": {
    "colab_type": "text",
    "id": "vYRgSan3ovX9"
   },
   "source": [
    "So one of main differences of LSTM to RNN is that each neuron has 2 types of states, _cell state_ and _hidden state_. Hidden state has the same purpose as RNNs hidden state. Cell state is responsible for long-term memory.\n"
   ]
  },
  {
   "cell_type": "markdown",
   "metadata": {
    "colab_type": "text",
    "id": "mqDqTrUSovX-"
   },
   "source": [
    "In LSTM there are several things added for each neuron."
   ]
  },
  {
   "cell_type": "markdown",
   "metadata": {
    "colab_type": "text",
    "id": "bNv91lqPovX-"
   },
   "source": [
    "![alt text](https://www.researchgate.net/profile/Savvas_Varsamopoulos/publication/329362532/figure/fig5/AS:699592479870977@1543807253596/Structure-of-the-LSTM-cell-and-equations-that-describe-the-gates-of-an-LSTM-cell.jpg)"
   ]
  },
  {
   "cell_type": "markdown",
   "metadata": {
    "colab_type": "text",
    "id": "PSVR-hIhovX_"
   },
   "source": [
    "![alt text](http://1.bp.blogspot.com/-toFzRVSExjk/Wsm3nL4B6II/AAAAAAAAq28/Pgm3feMiV-wCpNPS5akJnOz7r77rOg5RwCK4BGAYYCw/s1600/picture-778945.jpg)"
   ]
  },
  {
   "cell_type": "markdown",
   "metadata": {
    "colab_type": "text",
    "id": "d4AtrV8AovX_"
   },
   "source": [
    "The first equation $f_t = \\sigma(W_f[h_{t-1},x_t]+b_f)$ is the _forget gate_. Forget gate is responsible for memorizing or forgeting long term information. It receives as an input previous hidden state and multiples information aggregrated from with long-term memory. Thus, it forces the neuron to remember/forget long-term information which is related to previous state."
   ]
  },
  {
   "cell_type": "markdown",
   "metadata": {
    "colab_type": "text",
    "id": "ZknoORtCovYA"
   },
   "source": [
    "![alt text](https://colah.github.io/posts/2015-08-Understanding-LSTMs/img/LSTM3-focus-f.png)"
   ]
  },
  {
   "cell_type": "markdown",
   "metadata": {
    "colab_type": "text",
    "id": "Bes11IWAovYB"
   },
   "source": [
    "The second and third equations are the input gates. $i_t = \\sigma(W_i[h_{t-1},x_t]+b_i)$, $\\tilde{C}_t = tanh(W_C[h_{t-1},x_t]+b_C)$. The input gate is responsible for updating the long-term memory with new information."
   ]
  },
  {
   "cell_type": "markdown",
   "metadata": {
    "colab_type": "text",
    "id": "OUuG5G_xovYB"
   },
   "source": [
    "![alt text](https://colah.github.io/posts/2015-08-Understanding-LSTMs/img/LSTM3-focus-i.png)"
   ]
  },
  {
   "cell_type": "markdown",
   "metadata": {
    "colab_type": "text",
    "id": "yyBzBihuovYC"
   },
   "source": [
    "After passing through those 2 gates long-term memory is updated with the fourth equation $C_t = f_t*C_{t-1} + i_t*\\tilde{C}_t$."
   ]
  },
  {
   "cell_type": "markdown",
   "metadata": {
    "colab_type": "text",
    "id": "s5V8aaPiovYC"
   },
   "source": [
    "![alt text](https://colah.github.io/posts/2015-08-Understanding-LSTMs/img/LSTM3-focus-C.png)"
   ]
  },
  {
   "cell_type": "markdown",
   "metadata": {
    "colab_type": "text",
    "id": "7VAZhQz0ovYD"
   },
   "source": [
    "The last 2 equations make the _output gate_. It's similar to simple RNNs case, however we also incroporate the information from the long-term memory."
   ]
  },
  {
   "cell_type": "markdown",
   "metadata": {
    "colab_type": "text",
    "id": "ksAa2NClovYD"
   },
   "source": [
    "![alt text](https://colah.github.io/posts/2015-08-Understanding-LSTMs/img/LSTM3-focus-o.png)"
   ]
  },
  {
   "cell_type": "code",
   "execution_count": 0,
   "metadata": {
    "colab": {},
    "colab_type": "code",
    "id": "B3MLM_oNovYN"
   },
   "outputs": [],
   "source": [
    "from tensorflow.keras.layers import LSTM,GRU"
   ]
  },
  {
   "cell_type": "code",
   "execution_count": 0,
   "metadata": {
    "colab": {},
    "colab_type": "code",
    "id": "o4dxPlAkovYS"
   },
   "outputs": [],
   "source": [
    "model = Sequential()\n",
    "model.add(BatchNormalization())\n",
    "model.add(LSTM(128,return_sequences = True))\n",
    "model.add(LSTM(128,return_sequences = True))\n",
    "model.add(LSTM(128))\n",
    "model.add(Dropout(0.8))\n",
    "model.add(Dense(1))\n",
    "\n",
    "model.compile(optimizer = 'adam', loss = 'mse')"
   ]
  },
  {
   "cell_type": "code",
   "execution_count": 0,
   "metadata": {
    "colab": {
     "base_uri": "https://localhost:8080/",
     "height": 1000
    },
    "colab_type": "code",
    "id": "5Y_oLp6KovYV",
    "outputId": "3bd50970-2ce8-4896-a5c3-911d19a76e0a"
   },
   "outputs": [
    {
     "name": "stdout",
     "output_type": "stream",
     "text": [
      "WARNING:tensorflow:Large dropout rate: 0.8 (>0.5). In TensorFlow 2.x, dropout() uses dropout rate instead of keep_prob. Please ensure that this is intended.\n",
      "Train on 2169 samples, validate on 300 samples\n",
      "Epoch 1/100\n",
      "2169/2169 [==============================] - 12s 6ms/sample - loss: 1.0043 - val_loss: 4.6534\n",
      "Epoch 2/100\n",
      "2169/2169 [==============================] - 9s 4ms/sample - loss: 1.0072 - val_loss: 4.6256\n",
      "Epoch 3/100\n",
      "2169/2169 [==============================] - 9s 4ms/sample - loss: 1.0069 - val_loss: 4.6234\n",
      "Epoch 4/100\n",
      "2169/2169 [==============================] - 9s 4ms/sample - loss: 0.9993 - val_loss: 4.6308\n",
      "Epoch 5/100\n",
      "2169/2169 [==============================] - 9s 4ms/sample - loss: 0.9986 - val_loss: 4.5750\n",
      "Epoch 6/100\n",
      "2169/2169 [==============================] - 9s 4ms/sample - loss: 1.0009 - val_loss: 4.6345\n",
      "Epoch 7/100\n",
      "2169/2169 [==============================] - 9s 4ms/sample - loss: 0.9931 - val_loss: 4.6145\n",
      "Epoch 8/100\n",
      "2169/2169 [==============================] - 9s 4ms/sample - loss: 0.9949 - val_loss: 4.5990\n",
      "Epoch 9/100\n",
      "2169/2169 [==============================] - 9s 4ms/sample - loss: 0.9953 - val_loss: 4.6611\n",
      "Epoch 10/100\n",
      "2169/2169 [==============================] - 9s 4ms/sample - loss: 0.9886 - val_loss: 4.5991\n",
      "Epoch 11/100\n",
      "2169/2169 [==============================] - 9s 4ms/sample - loss: 0.9990 - val_loss: 4.6135\n",
      "Epoch 12/100\n",
      "2169/2169 [==============================] - 9s 4ms/sample - loss: 0.9850 - val_loss: 4.6135\n",
      "Epoch 13/100\n",
      "2169/2169 [==============================] - 9s 4ms/sample - loss: 0.9803 - val_loss: 4.6717\n",
      "Epoch 14/100\n",
      "2169/2169 [==============================] - 9s 4ms/sample - loss: 0.9741 - val_loss: 4.6832\n",
      "Epoch 15/100\n",
      "2169/2169 [==============================] - 9s 4ms/sample - loss: 0.9838 - val_loss: 4.6861\n",
      "Epoch 16/100\n",
      "2169/2169 [==============================] - 9s 4ms/sample - loss: 0.9709 - val_loss: 4.7443\n",
      "Epoch 17/100\n",
      "2169/2169 [==============================] - 9s 4ms/sample - loss: 0.9520 - val_loss: 5.2250\n",
      "Epoch 18/100\n",
      "2169/2169 [==============================] - 9s 4ms/sample - loss: 0.9763 - val_loss: 4.6942\n",
      "Epoch 19/100\n",
      "2169/2169 [==============================] - 9s 4ms/sample - loss: 0.9484 - val_loss: 5.0275\n",
      "Epoch 20/100\n",
      "2169/2169 [==============================] - 9s 4ms/sample - loss: 0.9509 - val_loss: 4.8853\n",
      "Epoch 21/100\n",
      "2169/2169 [==============================] - 9s 4ms/sample - loss: 0.9533 - val_loss: 4.8263\n",
      "Epoch 22/100\n",
      "2169/2169 [==============================] - 9s 4ms/sample - loss: 0.9670 - val_loss: 4.8967\n",
      "Epoch 23/100\n",
      "2169/2169 [==============================] - 9s 4ms/sample - loss: 0.9359 - val_loss: 5.2144\n",
      "Epoch 24/100\n",
      "2169/2169 [==============================] - 9s 4ms/sample - loss: 0.9205 - val_loss: 5.2178\n",
      "Epoch 25/100\n",
      "2169/2169 [==============================] - 9s 4ms/sample - loss: 0.9392 - val_loss: 5.0405\n",
      "Epoch 26/100\n",
      "2169/2169 [==============================] - 9s 4ms/sample - loss: 0.8955 - val_loss: 6.0122\n",
      "Epoch 27/100\n",
      "2169/2169 [==============================] - 9s 4ms/sample - loss: 0.9232 - val_loss: 5.1205\n",
      "Epoch 28/100\n",
      "2169/2169 [==============================] - 9s 4ms/sample - loss: 0.9032 - val_loss: 5.2799\n",
      "Epoch 29/100\n",
      "2169/2169 [==============================] - 9s 4ms/sample - loss: 0.9195 - val_loss: 5.6138\n",
      "Epoch 30/100\n",
      "2169/2169 [==============================] - 9s 4ms/sample - loss: 0.8790 - val_loss: 5.1448\n",
      "Epoch 31/100\n",
      "2169/2169 [==============================] - 9s 4ms/sample - loss: 0.8894 - val_loss: 5.5735\n",
      "Epoch 32/100\n",
      "2169/2169 [==============================] - 9s 4ms/sample - loss: 0.8817 - val_loss: 5.8583\n",
      "Epoch 33/100\n",
      "2169/2169 [==============================] - 9s 4ms/sample - loss: 0.8973 - val_loss: 5.0461\n",
      "Epoch 34/100\n",
      "2169/2169 [==============================] - 9s 4ms/sample - loss: 0.8653 - val_loss: 5.1461\n",
      "Epoch 35/100\n",
      "2169/2169 [==============================] - 9s 4ms/sample - loss: 0.8936 - val_loss: 5.7162\n",
      "Epoch 36/100\n",
      "2169/2169 [==============================] - 9s 4ms/sample - loss: 0.8469 - val_loss: 5.0283\n",
      "Epoch 37/100\n",
      "2169/2169 [==============================] - 9s 4ms/sample - loss: 0.8554 - val_loss: 5.1473\n",
      "Epoch 38/100\n",
      "2169/2169 [==============================] - 9s 4ms/sample - loss: 0.8761 - val_loss: 5.2085\n",
      "Epoch 39/100\n",
      "2169/2169 [==============================] - 9s 4ms/sample - loss: 0.8396 - val_loss: 5.2472\n",
      "Epoch 40/100\n",
      "2169/2169 [==============================] - 9s 4ms/sample - loss: 0.8474 - val_loss: 5.7437\n",
      "Epoch 41/100\n",
      "2169/2169 [==============================] - 9s 4ms/sample - loss: 0.8606 - val_loss: 5.3101\n",
      "Epoch 42/100\n",
      "2169/2169 [==============================] - 9s 4ms/sample - loss: 0.8608 - val_loss: 5.4607\n",
      "Epoch 43/100\n",
      "2169/2169 [==============================] - 9s 4ms/sample - loss: 0.8299 - val_loss: 5.4185\n",
      "Epoch 44/100\n",
      "2169/2169 [==============================] - 9s 4ms/sample - loss: 0.8375 - val_loss: 5.6910\n",
      "Epoch 45/100\n",
      "2169/2169 [==============================] - 9s 4ms/sample - loss: 0.8192 - val_loss: 5.0756\n",
      "Epoch 46/100\n",
      "2169/2169 [==============================] - 9s 4ms/sample - loss: 0.8214 - val_loss: 5.6884\n",
      "Epoch 47/100\n",
      "2169/2169 [==============================] - 9s 4ms/sample - loss: 0.8163 - val_loss: 5.2074\n",
      "Epoch 48/100\n",
      "2169/2169 [==============================] - 9s 4ms/sample - loss: 0.7983 - val_loss: 6.0198\n",
      "Epoch 49/100\n",
      "2169/2169 [==============================] - 9s 4ms/sample - loss: 0.8055 - val_loss: 5.4585\n",
      "Epoch 50/100\n",
      "2169/2169 [==============================] - 9s 4ms/sample - loss: 0.8084 - val_loss: 5.9794\n",
      "Epoch 51/100\n",
      "2169/2169 [==============================] - 9s 4ms/sample - loss: 0.7830 - val_loss: 5.8438\n",
      "Epoch 52/100\n",
      "2169/2169 [==============================] - 9s 4ms/sample - loss: 0.7764 - val_loss: 5.7317\n",
      "Epoch 53/100\n",
      "2169/2169 [==============================] - 9s 4ms/sample - loss: 0.7668 - val_loss: 5.9080\n",
      "Epoch 54/100\n",
      "2169/2169 [==============================] - 9s 4ms/sample - loss: 0.7539 - val_loss: 6.0771\n",
      "Epoch 55/100\n",
      "2169/2169 [==============================] - 9s 4ms/sample - loss: 0.7809 - val_loss: 7.4354\n",
      "Epoch 56/100\n",
      "2169/2169 [==============================] - 9s 4ms/sample - loss: 0.7508 - val_loss: 6.1998\n",
      "Epoch 57/100\n",
      "2169/2169 [==============================] - 9s 4ms/sample - loss: 0.7577 - val_loss: 6.1821\n",
      "Epoch 58/100\n",
      "2169/2169 [==============================] - 9s 4ms/sample - loss: 0.7348 - val_loss: 5.8638\n",
      "Epoch 59/100\n",
      "2169/2169 [==============================] - 9s 4ms/sample - loss: 0.6862 - val_loss: 6.0953\n",
      "Epoch 60/100\n",
      "2169/2169 [==============================] - 9s 4ms/sample - loss: 0.7233 - val_loss: 5.5505\n",
      "Epoch 61/100\n",
      "2169/2169 [==============================] - 9s 4ms/sample - loss: 0.7043 - val_loss: 5.9182\n",
      "Epoch 62/100\n",
      "2169/2169 [==============================] - 9s 4ms/sample - loss: 0.6848 - val_loss: 6.5523\n",
      "Epoch 63/100\n",
      "2169/2169 [==============================] - 9s 4ms/sample - loss: 0.7209 - val_loss: 5.8113\n",
      "Epoch 64/100\n",
      "2169/2169 [==============================] - 9s 4ms/sample - loss: 0.6915 - val_loss: 6.3216\n",
      "Epoch 65/100\n",
      "2169/2169 [==============================] - 9s 4ms/sample - loss: 0.6544 - val_loss: 6.6015\n",
      "Epoch 66/100\n",
      "2169/2169 [==============================] - 9s 4ms/sample - loss: 0.6685 - val_loss: 6.0321\n",
      "Epoch 67/100\n",
      "2169/2169 [==============================] - 9s 4ms/sample - loss: 0.6336 - val_loss: 5.9457\n",
      "Epoch 68/100\n",
      "2169/2169 [==============================] - 9s 4ms/sample - loss: 0.6268 - val_loss: 6.6955\n",
      "Epoch 69/100\n",
      "2169/2169 [==============================] - 9s 4ms/sample - loss: 0.6369 - val_loss: 5.9439\n",
      "Epoch 70/100\n",
      "2169/2169 [==============================] - 9s 4ms/sample - loss: 0.6246 - val_loss: 6.5284\n",
      "Epoch 71/100\n",
      "2169/2169 [==============================] - 9s 4ms/sample - loss: 0.6284 - val_loss: 5.8108\n",
      "Epoch 72/100\n",
      "2169/2169 [==============================] - 9s 4ms/sample - loss: 0.6055 - val_loss: 6.2177\n",
      "Epoch 73/100\n",
      "2169/2169 [==============================] - 9s 4ms/sample - loss: 0.6051 - val_loss: 6.4594\n",
      "Epoch 74/100\n",
      "2169/2169 [==============================] - 9s 4ms/sample - loss: 0.6157 - val_loss: 6.5264\n",
      "Epoch 75/100\n",
      "2169/2169 [==============================] - 9s 4ms/sample - loss: 0.5797 - val_loss: 6.3737\n",
      "Epoch 76/100\n",
      "2169/2169 [==============================] - 9s 4ms/sample - loss: 0.5527 - val_loss: 6.6867\n",
      "Epoch 77/100\n",
      "2169/2169 [==============================] - 9s 4ms/sample - loss: 0.5460 - val_loss: 6.4037\n",
      "Epoch 78/100\n",
      "2169/2169 [==============================] - 9s 4ms/sample - loss: 0.5323 - val_loss: 6.4684\n",
      "Epoch 79/100\n",
      "2169/2169 [==============================] - 9s 4ms/sample - loss: 0.5408 - val_loss: 6.2897\n",
      "Epoch 80/100\n",
      "2169/2169 [==============================] - 9s 4ms/sample - loss: 0.5298 - val_loss: 6.8160\n",
      "Epoch 81/100\n",
      "2169/2169 [==============================] - 9s 4ms/sample - loss: 0.5130 - val_loss: 6.1099\n",
      "Epoch 82/100\n",
      "2169/2169 [==============================] - 9s 4ms/sample - loss: 0.4963 - val_loss: 6.5637\n",
      "Epoch 83/100\n",
      "2169/2169 [==============================] - 9s 4ms/sample - loss: 0.4796 - val_loss: 6.4943\n",
      "Epoch 84/100\n",
      "2169/2169 [==============================] - 9s 4ms/sample - loss: 0.4652 - val_loss: 6.1540\n",
      "Epoch 85/100\n",
      "2169/2169 [==============================] - 9s 4ms/sample - loss: 0.4440 - val_loss: 5.8683\n",
      "Epoch 86/100\n",
      "2169/2169 [==============================] - 9s 4ms/sample - loss: 0.4511 - val_loss: 6.2039\n",
      "Epoch 87/100\n",
      "2169/2169 [==============================] - 9s 4ms/sample - loss: 0.4215 - val_loss: 6.6104\n",
      "Epoch 88/100\n",
      "2169/2169 [==============================] - 9s 4ms/sample - loss: 0.4360 - val_loss: 6.4589\n",
      "Epoch 89/100\n",
      "2169/2169 [==============================] - 9s 4ms/sample - loss: 0.4349 - val_loss: 6.2267\n",
      "Epoch 90/100\n",
      "2169/2169 [==============================] - 9s 4ms/sample - loss: 0.4547 - val_loss: 6.4882\n",
      "Epoch 91/100\n",
      "2169/2169 [==============================] - 9s 4ms/sample - loss: 0.4744 - val_loss: 6.1663\n",
      "Epoch 92/100\n",
      "2169/2169 [==============================] - 9s 4ms/sample - loss: 0.3824 - val_loss: 6.1411\n",
      "Epoch 93/100\n",
      "2169/2169 [==============================] - 9s 4ms/sample - loss: 0.3823 - val_loss: 6.1685\n",
      "Epoch 94/100\n",
      "2169/2169 [==============================] - 9s 4ms/sample - loss: 0.4234 - val_loss: 6.5360\n",
      "Epoch 95/100\n",
      "2169/2169 [==============================] - 9s 4ms/sample - loss: 0.4183 - val_loss: 6.2327\n",
      "Epoch 96/100\n",
      "2169/2169 [==============================] - 9s 4ms/sample - loss: 0.3758 - val_loss: 6.0836\n",
      "Epoch 97/100\n",
      "2169/2169 [==============================] - 9s 4ms/sample - loss: 0.3502 - val_loss: 5.9981\n",
      "Epoch 98/100\n",
      "2169/2169 [==============================] - 9s 4ms/sample - loss: 0.3227 - val_loss: 6.3890\n",
      "Epoch 99/100\n",
      "2169/2169 [==============================] - 9s 4ms/sample - loss: 0.3227 - val_loss: 6.3970\n",
      "Epoch 100/100\n",
      "2169/2169 [==============================] - 9s 4ms/sample - loss: 0.2926 - val_loss: 6.3687\n"
     ]
    },
    {
     "data": {
      "text/plain": [
       "<tensorflow.python.keras.callbacks.History at 0x7f4c473795f8>"
      ]
     },
     "execution_count": 60,
     "metadata": {
      "tags": []
     },
     "output_type": "execute_result"
    }
   ],
   "source": [
    "model.fit(X_train_scaled,Y_train_scaled,\n",
    "          batch_size = 64, epochs = 100, verbose = 1,\n",
    "          validation_data= (X_test_scaled,Y_test_scaled))"
   ]
  },
  {
   "cell_type": "code",
   "execution_count": 0,
   "metadata": {
    "colab": {
     "base_uri": "https://localhost:8080/",
     "height": 357
    },
    "colab_type": "code",
    "id": "wxEjfEuHovYX",
    "outputId": "31625bdd-977b-465c-9778-c5323f70c50e"
   },
   "outputs": [
    {
     "name": "stdout",
     "output_type": "stream",
     "text": [
      "Model: \"sequential_3\"\n",
      "_________________________________________________________________\n",
      "Layer (type)                 Output Shape              Param #   \n",
      "=================================================================\n",
      "batch_normalization_3 (Batch multiple                  12        \n",
      "_________________________________________________________________\n",
      "lstm (LSTM)                  multiple                  67584     \n",
      "_________________________________________________________________\n",
      "lstm_1 (LSTM)                multiple                  131584    \n",
      "_________________________________________________________________\n",
      "lstm_2 (LSTM)                multiple                  131584    \n",
      "_________________________________________________________________\n",
      "dropout_3 (Dropout)          multiple                  0         \n",
      "_________________________________________________________________\n",
      "dense_3 (Dense)              multiple                  129       \n",
      "=================================================================\n",
      "Total params: 330,893\n",
      "Trainable params: 330,887\n",
      "Non-trainable params: 6\n",
      "_________________________________________________________________\n"
     ]
    }
   ],
   "source": [
    "model.summary()"
   ]
  },
  {
   "cell_type": "code",
   "execution_count": 0,
   "metadata": {
    "colab": {
     "base_uri": "https://localhost:8080/",
     "height": 483
    },
    "colab_type": "code",
    "id": "nPoSaA71ovYZ",
    "outputId": "6adbcf96-c03f-4ab5-9171-a1cb872b91a3"
   },
   "outputs": [
    {
     "data": {
      "image/png": "[encoded data removed]",
      "text/plain": [
       "<Figure size 1152x576 with 1 Axes>"
      ]
     },
     "metadata": {
      "tags": []
     },
     "output_type": "display_data"
    }
   ],
   "source": [
    "plt.figure(figsize = (10,4))\n",
    "plt.plot(Y_test, label = 'real')\n",
    "plt.plot(scaler_y.inverse_transform(model.predict(X_test_scaled)),\n",
    "         'r',label = 'predicted')\n",
    "plt.legend()\n",
    "plt.show()"
   ]
  },
  {
   "cell_type": "code",
   "execution_count": 0,
   "metadata": {
    "colab": {},
    "colab_type": "code",
    "id": "BKhdCBzqovYb"
   },
   "outputs": [],
   "source": [
    "Y_train_bin = np.array([int(y>0) for y in Y_train])\n",
    "Y_test_bin = np.array([int(y>0) for y in Y_test])"
   ]
  },
  {
   "cell_type": "code",
   "execution_count": 0,
   "metadata": {
    "colab": {},
    "colab_type": "code",
    "id": "XDCEZv-povYd"
   },
   "outputs": [],
   "source": [
    "model = Sequential()\n",
    "model.add(BatchNormalization())\n",
    "model.add(LSTM(128,return_sequences = True))\n",
    "model.add(LSTM(128,return_sequences = True))\n",
    "model.add(LSTM(128))\n",
    "model.add(Dropout(0.8))\n",
    "model.add(Dense(1, activation = 'sigmoid'))\n",
    "\n",
    "model.compile(optimizer = 'adam', loss = 'binary_crossentropy',metrics = ['accuracy'])"
   ]
  },
  {
   "cell_type": "code",
   "execution_count": 0,
   "metadata": {
    "colab": {
     "base_uri": "https://localhost:8080/",
     "height": 1000
    },
    "colab_type": "code",
    "id": "lYmo507MovYe",
    "outputId": "a81d57a2-0769-4cf6-be56-e2f79d586f13",
    "scrolled": true
   },
   "outputs": [
    {
     "name": "stdout",
     "output_type": "stream",
     "text": [
      "WARNING:tensorflow:Large dropout rate: 0.8 (>0.5). In TensorFlow 2.x, dropout() uses dropout rate instead of keep_prob. Please ensure that this is intended.\n",
      "Train on 2169 samples, validate on 300 samples\n",
      "Epoch 1/100\n",
      "2169/2169 [==============================] - 12s 5ms/sample - loss: 0.6929 - acc: 0.5104 - val_loss: 0.6968 - val_acc: 0.5133\n",
      "Epoch 2/100\n",
      "2169/2169 [==============================] - 9s 4ms/sample - loss: 0.6951 - acc: 0.5104 - val_loss: 0.6897 - val_acc: 0.5400\n",
      "Epoch 3/100\n",
      "2169/2169 [==============================] - 9s 4ms/sample - loss: 0.6927 - acc: 0.5256 - val_loss: 0.6937 - val_acc: 0.5267\n",
      "Epoch 4/100\n",
      "2169/2169 [==============================] - 9s 4ms/sample - loss: 0.6943 - acc: 0.4915 - val_loss: 0.6946 - val_acc: 0.4900\n",
      "Epoch 5/100\n",
      "2169/2169 [==============================] - 9s 4ms/sample - loss: 0.6901 - acc: 0.5302 - val_loss: 0.6926 - val_acc: 0.5200\n",
      "Epoch 6/100\n",
      "2169/2169 [==============================] - 9s 4ms/sample - loss: 0.6936 - acc: 0.5187 - val_loss: 0.6952 - val_acc: 0.4967\n",
      "Epoch 7/100\n",
      "2169/2169 [==============================] - 9s 4ms/sample - loss: 0.6915 - acc: 0.5325 - val_loss: 0.6993 - val_acc: 0.5233\n",
      "Epoch 8/100\n",
      "2169/2169 [==============================] - 9s 4ms/sample - loss: 0.6938 - acc: 0.5256 - val_loss: 0.6972 - val_acc: 0.4767\n",
      "Epoch 9/100\n",
      "2169/2169 [==============================] - 9s 4ms/sample - loss: 0.6924 - acc: 0.5141 - val_loss: 0.6967 - val_acc: 0.5067\n",
      "Epoch 10/100\n",
      "2169/2169 [==============================] - 9s 4ms/sample - loss: 0.6924 - acc: 0.5288 - val_loss: 0.6941 - val_acc: 0.5100\n",
      "Epoch 11/100\n",
      "2169/2169 [==============================] - 9s 4ms/sample - loss: 0.6912 - acc: 0.5214 - val_loss: 0.7018 - val_acc: 0.5133\n",
      "Epoch 12/100\n",
      "2169/2169 [==============================] - 9s 4ms/sample - loss: 0.6899 - acc: 0.5330 - val_loss: 0.7018 - val_acc: 0.5167\n",
      "Epoch 13/100\n",
      "2169/2169 [==============================] - 9s 4ms/sample - loss: 0.6918 - acc: 0.5150 - val_loss: 0.6966 - val_acc: 0.5300\n",
      "Epoch 14/100\n",
      "2169/2169 [==============================] - 9s 4ms/sample - loss: 0.6900 - acc: 0.5380 - val_loss: 0.6984 - val_acc: 0.5500\n",
      "Epoch 15/100\n",
      "2169/2169 [==============================] - 9s 4ms/sample - loss: 0.6913 - acc: 0.5274 - val_loss: 0.7040 - val_acc: 0.5067\n",
      "Epoch 16/100\n",
      "2169/2169 [==============================] - 9s 4ms/sample - loss: 0.6926 - acc: 0.5214 - val_loss: 0.6979 - val_acc: 0.5267\n",
      "Epoch 17/100\n",
      "2169/2169 [==============================] - 9s 4ms/sample - loss: 0.6897 - acc: 0.5260 - val_loss: 0.7113 - val_acc: 0.5033\n",
      "Epoch 18/100\n",
      "2169/2169 [==============================] - 9s 4ms/sample - loss: 0.6890 - acc: 0.5260 - val_loss: 0.7102 - val_acc: 0.5133\n",
      "Epoch 19/100\n",
      "2169/2169 [==============================] - 9s 4ms/sample - loss: 0.6853 - acc: 0.5431 - val_loss: 0.7188 - val_acc: 0.5500\n",
      "Epoch 20/100\n",
      "2169/2169 [==============================] - 9s 4ms/sample - loss: 0.6891 - acc: 0.5210 - val_loss: 0.7165 - val_acc: 0.5067\n",
      "Epoch 21/100\n",
      "2169/2169 [==============================] - 9s 4ms/sample - loss: 0.6873 - acc: 0.5265 - val_loss: 0.7501 - val_acc: 0.4967\n",
      "Epoch 22/100\n",
      "2169/2169 [==============================] - 9s 4ms/sample - loss: 0.6856 - acc: 0.5426 - val_loss: 0.8185 - val_acc: 0.5300\n",
      "Epoch 23/100\n",
      "2169/2169 [==============================] - 9s 4ms/sample - loss: 0.6862 - acc: 0.5477 - val_loss: 0.7457 - val_acc: 0.4967\n",
      "Epoch 24/100\n",
      "2169/2169 [==============================] - 9s 4ms/sample - loss: 0.6877 - acc: 0.5131 - val_loss: 0.7776 - val_acc: 0.4767\n",
      "Epoch 25/100\n",
      "2169/2169 [==============================] - 9s 4ms/sample - loss: 0.6827 - acc: 0.5491 - val_loss: 0.7913 - val_acc: 0.4833\n",
      "Epoch 26/100\n",
      "2169/2169 [==============================] - 9s 4ms/sample - loss: 0.6857 - acc: 0.5408 - val_loss: 0.7688 - val_acc: 0.4933\n",
      "Epoch 27/100\n",
      "2169/2169 [==============================] - 9s 4ms/sample - loss: 0.6785 - acc: 0.5735 - val_loss: 0.8719 - val_acc: 0.5067\n",
      "Epoch 28/100\n",
      "2169/2169 [==============================] - 9s 4ms/sample - loss: 0.6768 - acc: 0.5565 - val_loss: 0.8622 - val_acc: 0.4633\n",
      "Epoch 29/100\n",
      "2169/2169 [==============================] - 9s 4ms/sample - loss: 0.6780 - acc: 0.5565 - val_loss: 0.8083 - val_acc: 0.5233\n",
      "Epoch 30/100\n",
      "2169/2169 [==============================] - 9s 4ms/sample - loss: 0.6749 - acc: 0.5708 - val_loss: 0.9203 - val_acc: 0.5167\n",
      "Epoch 31/100\n",
      "2169/2169 [==============================] - 9s 4ms/sample - loss: 0.6705 - acc: 0.5685 - val_loss: 1.0885 - val_acc: 0.4933\n",
      "Epoch 32/100\n",
      "2169/2169 [==============================] - 9s 4ms/sample - loss: 0.6756 - acc: 0.5606 - val_loss: 0.8659 - val_acc: 0.4833\n",
      "Epoch 33/100\n",
      "2169/2169 [==============================] - 9s 4ms/sample - loss: 0.6699 - acc: 0.5565 - val_loss: 0.9379 - val_acc: 0.4767\n",
      "Epoch 34/100\n",
      "2169/2169 [==============================] - 9s 4ms/sample - loss: 0.6692 - acc: 0.5689 - val_loss: 0.8891 - val_acc: 0.5267\n",
      "Epoch 35/100\n",
      "2169/2169 [==============================] - 9s 4ms/sample - loss: 0.6711 - acc: 0.5726 - val_loss: 0.9800 - val_acc: 0.4967\n",
      "Epoch 36/100\n",
      "2169/2169 [==============================] - 9s 4ms/sample - loss: 0.6682 - acc: 0.5832 - val_loss: 0.9454 - val_acc: 0.4633\n",
      "Epoch 37/100\n",
      "2169/2169 [==============================] - 9s 4ms/sample - loss: 0.6708 - acc: 0.5795 - val_loss: 0.9933 - val_acc: 0.4867\n",
      "Epoch 38/100\n",
      "2169/2169 [==============================] - 9s 4ms/sample - loss: 0.6616 - acc: 0.5874 - val_loss: 1.1130 - val_acc: 0.5100\n",
      "Epoch 39/100\n",
      "2169/2169 [==============================] - 9s 4ms/sample - loss: 0.6649 - acc: 0.5726 - val_loss: 1.0397 - val_acc: 0.4833\n",
      "Epoch 40/100\n",
      "2169/2169 [==============================] - 9s 4ms/sample - loss: 0.6666 - acc: 0.5763 - val_loss: 0.9550 - val_acc: 0.4967\n",
      "Epoch 41/100\n",
      "2169/2169 [==============================] - 9s 4ms/sample - loss: 0.6583 - acc: 0.5924 - val_loss: 0.9550 - val_acc: 0.4967\n",
      "Epoch 42/100\n",
      "2169/2169 [==============================] - 9s 4ms/sample - loss: 0.6595 - acc: 0.5860 - val_loss: 1.0058 - val_acc: 0.5067\n",
      "Epoch 43/100\n",
      "2169/2169 [==============================] - 9s 4ms/sample - loss: 0.6636 - acc: 0.5795 - val_loss: 0.8799 - val_acc: 0.4900\n",
      "Epoch 44/100\n",
      "2169/2169 [==============================] - 9s 4ms/sample - loss: 0.6487 - acc: 0.6035 - val_loss: 1.0004 - val_acc: 0.5033\n",
      "Epoch 45/100\n",
      "2169/2169 [==============================] - 9s 4ms/sample - loss: 0.6459 - acc: 0.5795 - val_loss: 1.1017 - val_acc: 0.5167\n",
      "Epoch 46/100\n",
      "2169/2169 [==============================] - 9s 4ms/sample - loss: 0.6413 - acc: 0.5998 - val_loss: 1.2232 - val_acc: 0.5067\n",
      "Epoch 47/100\n",
      "2169/2169 [==============================] - 9s 4ms/sample - loss: 0.6436 - acc: 0.6030 - val_loss: 0.9221 - val_acc: 0.4800\n",
      "Epoch 48/100\n",
      "2169/2169 [==============================] - 9s 4ms/sample - loss: 0.6354 - acc: 0.5966 - val_loss: 1.2984 - val_acc: 0.4967\n",
      "Epoch 49/100\n",
      "2169/2169 [==============================] - 9s 4ms/sample - loss: 0.6343 - acc: 0.6012 - val_loss: 1.1840 - val_acc: 0.5133\n",
      "Epoch 50/100\n",
      "2169/2169 [==============================] - 9s 4ms/sample - loss: 0.6422 - acc: 0.6035 - val_loss: 1.0259 - val_acc: 0.4933\n",
      "Epoch 51/100\n",
      "2169/2169 [==============================] - 9s 4ms/sample - loss: 0.6279 - acc: 0.6026 - val_loss: 1.1386 - val_acc: 0.4967\n",
      "Epoch 52/100\n",
      "2169/2169 [==============================] - 9s 4ms/sample - loss: 0.6275 - acc: 0.6192 - val_loss: 1.2949 - val_acc: 0.4867\n",
      "Epoch 53/100\n",
      "2169/2169 [==============================] - 9s 4ms/sample - loss: 0.6275 - acc: 0.6109 - val_loss: 1.2378 - val_acc: 0.5000\n",
      "Epoch 54/100\n",
      "2169/2169 [==============================] - 9s 4ms/sample - loss: 0.6216 - acc: 0.6123 - val_loss: 1.3552 - val_acc: 0.5000\n",
      "Epoch 55/100\n",
      "2169/2169 [==============================] - 9s 4ms/sample - loss: 0.6214 - acc: 0.6302 - val_loss: 1.2094 - val_acc: 0.5200\n",
      "Epoch 56/100\n",
      "2169/2169 [==============================] - 9s 4ms/sample - loss: 0.6204 - acc: 0.6164 - val_loss: 1.1973 - val_acc: 0.5133\n",
      "Epoch 57/100\n",
      "2169/2169 [==============================] - 9s 4ms/sample - loss: 0.6186 - acc: 0.6206 - val_loss: 1.2331 - val_acc: 0.5233\n",
      "Epoch 58/100\n",
      "2169/2169 [==============================] - 9s 4ms/sample - loss: 0.6071 - acc: 0.6385 - val_loss: 1.4480 - val_acc: 0.5067\n",
      "Epoch 59/100\n",
      "2169/2169 [==============================] - 9s 4ms/sample - loss: 0.5834 - acc: 0.6574 - val_loss: 1.5970 - val_acc: 0.5067\n",
      "Epoch 60/100\n",
      "2169/2169 [==============================] - 9s 4ms/sample - loss: 0.5930 - acc: 0.6436 - val_loss: 1.3559 - val_acc: 0.5067\n",
      "Epoch 61/100\n",
      "2169/2169 [==============================] - 9s 4ms/sample - loss: 0.5849 - acc: 0.6579 - val_loss: 1.4175 - val_acc: 0.5333\n",
      "Epoch 62/100\n",
      "2169/2169 [==============================] - 9s 4ms/sample - loss: 0.5745 - acc: 0.6828 - val_loss: 1.6317 - val_acc: 0.5333\n",
      "Epoch 63/100\n",
      "2169/2169 [==============================] - 9s 4ms/sample - loss: 0.5803 - acc: 0.6630 - val_loss: 1.6773 - val_acc: 0.5267\n",
      "Epoch 64/100\n",
      "2169/2169 [==============================] - 9s 4ms/sample - loss: 0.5600 - acc: 0.6777 - val_loss: 1.6323 - val_acc: 0.5300\n",
      "Epoch 65/100\n",
      "2169/2169 [==============================] - 9s 4ms/sample - loss: 0.5560 - acc: 0.6856 - val_loss: 1.6982 - val_acc: 0.5267\n",
      "Epoch 66/100\n",
      "2169/2169 [==============================] - 9s 4ms/sample - loss: 0.5603 - acc: 0.6750 - val_loss: 1.8262 - val_acc: 0.5133\n",
      "Epoch 67/100\n",
      "2169/2169 [==============================] - 9s 4ms/sample - loss: 0.5693 - acc: 0.6745 - val_loss: 1.6882 - val_acc: 0.5200\n",
      "Epoch 68/100\n",
      "2169/2169 [==============================] - 9s 4ms/sample - loss: 0.5365 - acc: 0.6920 - val_loss: 1.7402 - val_acc: 0.5200\n",
      "Epoch 69/100\n",
      "2169/2169 [==============================] - 9s 4ms/sample - loss: 0.5318 - acc: 0.7036 - val_loss: 1.9254 - val_acc: 0.5200\n",
      "Epoch 70/100\n",
      "2169/2169 [==============================] - 9s 4ms/sample - loss: 0.5330 - acc: 0.7022 - val_loss: 1.6811 - val_acc: 0.5300\n",
      "Epoch 71/100\n",
      "2169/2169 [==============================] - 9s 4ms/sample - loss: 0.5143 - acc: 0.7095 - val_loss: 2.0385 - val_acc: 0.4900\n",
      "Epoch 72/100\n",
      "2169/2169 [==============================] - 9s 4ms/sample - loss: 0.5037 - acc: 0.7160 - val_loss: 1.9587 - val_acc: 0.5067\n",
      "Epoch 73/100\n",
      "2169/2169 [==============================] - 9s 4ms/sample - loss: 0.4954 - acc: 0.7261 - val_loss: 1.7347 - val_acc: 0.5333\n",
      "Epoch 74/100\n",
      "2169/2169 [==============================] - 9s 4ms/sample - loss: 0.4969 - acc: 0.7326 - val_loss: 2.0604 - val_acc: 0.4867\n",
      "Epoch 75/100\n",
      "2169/2169 [==============================] - 9s 4ms/sample - loss: 0.4972 - acc: 0.7404 - val_loss: 1.6964 - val_acc: 0.4900\n",
      "Epoch 76/100\n",
      "2169/2169 [==============================] - 9s 4ms/sample - loss: 0.4787 - acc: 0.7464 - val_loss: 2.0340 - val_acc: 0.4933\n",
      "Epoch 77/100\n",
      "2169/2169 [==============================] - 9s 4ms/sample - loss: 0.4610 - acc: 0.7667 - val_loss: 2.0770 - val_acc: 0.4867\n",
      "Epoch 78/100\n",
      "2169/2169 [==============================] - 9s 4ms/sample - loss: 0.4563 - acc: 0.7626 - val_loss: 2.0264 - val_acc: 0.5333\n",
      "Epoch 79/100\n",
      "2169/2169 [==============================] - 9s 4ms/sample - loss: 0.4411 - acc: 0.7750 - val_loss: 1.9837 - val_acc: 0.4833\n",
      "Epoch 80/100\n",
      "2169/2169 [==============================] - 9s 4ms/sample - loss: 0.4293 - acc: 0.7746 - val_loss: 2.1407 - val_acc: 0.5100\n",
      "Epoch 81/100\n",
      "2169/2169 [==============================] - 9s 4ms/sample - loss: 0.4253 - acc: 0.7856 - val_loss: 2.1212 - val_acc: 0.5267\n",
      "Epoch 82/100\n",
      "2169/2169 [==============================] - 9s 4ms/sample - loss: 0.4096 - acc: 0.7994 - val_loss: 2.3507 - val_acc: 0.4767\n",
      "Epoch 83/100\n",
      "2169/2169 [==============================] - 9s 4ms/sample - loss: 0.4132 - acc: 0.7911 - val_loss: 2.0783 - val_acc: 0.5133\n",
      "Epoch 84/100\n",
      "2169/2169 [==============================] - 9s 4ms/sample - loss: 0.3681 - acc: 0.8230 - val_loss: 2.5758 - val_acc: 0.4867\n",
      "Epoch 85/100\n",
      "2169/2169 [==============================] - 9s 4ms/sample - loss: 0.3704 - acc: 0.8248 - val_loss: 2.2974 - val_acc: 0.4933\n",
      "Epoch 86/100\n",
      "2169/2169 [==============================] - 9s 4ms/sample - loss: 0.4007 - acc: 0.8077 - val_loss: 2.0054 - val_acc: 0.4933\n",
      "Epoch 87/100\n",
      "2169/2169 [==============================] - 9s 4ms/sample - loss: 0.3549 - acc: 0.8313 - val_loss: 2.4202 - val_acc: 0.4833\n",
      "Epoch 88/100\n",
      "2169/2169 [==============================] - 9s 4ms/sample - loss: 0.3494 - acc: 0.8266 - val_loss: 2.5739 - val_acc: 0.4933\n",
      "Epoch 89/100\n",
      "2169/2169 [==============================] - 9s 4ms/sample - loss: 0.3031 - acc: 0.8529 - val_loss: 2.5179 - val_acc: 0.5167\n",
      "Epoch 90/100\n",
      "2169/2169 [==============================] - 9s 4ms/sample - loss: 0.3301 - acc: 0.8428 - val_loss: 2.5717 - val_acc: 0.5000\n",
      "Epoch 91/100\n",
      "2169/2169 [==============================] - 9s 4ms/sample - loss: 0.2848 - acc: 0.8621 - val_loss: 2.8873 - val_acc: 0.4833\n",
      "Epoch 92/100\n",
      "2169/2169 [==============================] - 9s 4ms/sample - loss: 0.3190 - acc: 0.8598 - val_loss: 2.4229 - val_acc: 0.4967\n",
      "Epoch 93/100\n",
      "2169/2169 [==============================] - 9s 4ms/sample - loss: 0.2991 - acc: 0.8691 - val_loss: 2.6361 - val_acc: 0.5100\n",
      "Epoch 94/100\n",
      "2169/2169 [==============================] - 9s 4ms/sample - loss: 0.2553 - acc: 0.8870 - val_loss: 2.9391 - val_acc: 0.4800\n",
      "Epoch 95/100\n",
      "2169/2169 [==============================] - 9s 4ms/sample - loss: 0.2526 - acc: 0.8884 - val_loss: 3.0276 - val_acc: 0.5067\n",
      "Epoch 96/100\n",
      "2169/2169 [==============================] - 9s 4ms/sample - loss: 0.2786 - acc: 0.8714 - val_loss: 2.7848 - val_acc: 0.5067\n",
      "Epoch 97/100\n",
      "2169/2169 [==============================] - 9s 4ms/sample - loss: 0.2602 - acc: 0.8797 - val_loss: 2.7794 - val_acc: 0.5100\n",
      "Epoch 98/100\n",
      "2169/2169 [==============================] - 9s 4ms/sample - loss: 0.2427 - acc: 0.8976 - val_loss: 2.9746 - val_acc: 0.4967\n",
      "Epoch 99/100\n",
      "2169/2169 [==============================] - 9s 4ms/sample - loss: 0.2331 - acc: 0.9004 - val_loss: 2.8307 - val_acc: 0.4967\n",
      "Epoch 100/100\n",
      "2169/2169 [==============================] - 9s 4ms/sample - loss: 0.2007 - acc: 0.9161 - val_loss: 3.0829 - val_acc: 0.5033\n"
     ]
    },
    {
     "data": {
      "text/plain": [
       "<tensorflow.python.keras.callbacks.History at 0x7f4c47a93f98>"
      ]
     },
     "execution_count": 65,
     "metadata": {
      "tags": []
     },
     "output_type": "execute_result"
    }
   ],
   "source": [
    "model.fit(X_train_scaled,Y_train_bin,\n",
    "          batch_size = 64, epochs = 100, verbose = 1,\n",
    "          validation_data= (X_test_scaled,Y_test_bin))"
   ]
  },
  {
   "cell_type": "code",
   "execution_count": 0,
   "metadata": {
    "colab": {
     "base_uri": "https://localhost:8080/",
     "height": 357
    },
    "colab_type": "code",
    "id": "Z0DvZzPLovYg",
    "outputId": "b37a7d1a-fab2-41f9-a0a3-0be34010ee96"
   },
   "outputs": [
    {
     "name": "stdout",
     "output_type": "stream",
     "text": [
      "Model: \"sequential_4\"\n",
      "_________________________________________________________________\n",
      "Layer (type)                 Output Shape              Param #   \n",
      "=================================================================\n",
      "batch_normalization_4 (Batch multiple                  12        \n",
      "_________________________________________________________________\n",
      "lstm_3 (LSTM)                multiple                  67584     \n",
      "_________________________________________________________________\n",
      "lstm_4 (LSTM)                multiple                  131584    \n",
      "_________________________________________________________________\n",
      "lstm_5 (LSTM)                multiple                  131584    \n",
      "_________________________________________________________________\n",
      "dropout_4 (Dropout)          multiple                  0         \n",
      "_________________________________________________________________\n",
      "dense_4 (Dense)              multiple                  129       \n",
      "=================================================================\n",
      "Total params: 330,893\n",
      "Trainable params: 330,887\n",
      "Non-trainable params: 6\n",
      "_________________________________________________________________\n"
     ]
    }
   ],
   "source": [
    "model.summary()"
   ]
  },
  {
   "cell_type": "code",
   "execution_count": 0,
   "metadata": {
    "colab": {},
    "colab_type": "code",
    "id": "2AFALlACovYj"
   },
   "outputs": [],
   "source": [
    "from sklearn.metrics import confusion_matrix\n",
    "from sklearn.utils.multiclass import unique_labels\n",
    "def plot_confusion_matrix(y_true, y_pred, classes,\n",
    "                          normalize=False,\n",
    "                          title=None,\n",
    "                          cmap=plt.cm.Blues):\n",
    "    \"\"\"\n",
    "    This function prints and plots the confusion matrix.\n",
    "    Normalization can be applied by setting `normalize=True`.\n",
    "    \"\"\"\n",
    "    if not title:\n",
    "        if normalize:\n",
    "            title = 'Normalized confusion matrix'\n",
    "        else:\n",
    "            title = 'Confusion matrix, without normalization'\n",
    "\n",
    "    # Compute confusion matrix\n",
    "    cm = confusion_matrix(y_true, y_pred)\n",
    "    # Only use the labels that appear in the data\n",
    "    classes = ['rise','fall']\n",
    "    if normalize:\n",
    "        cm = cm.astype('float') / cm.sum(axis=1)[:, np.newaxis]\n",
    "        print(\"Normalized confusion matrix\")\n",
    "    else:\n",
    "        print('Confusion matrix, without normalization')\n",
    "    fig, ax = plt.subplots()\n",
    "    im = ax.imshow(cm, interpolation='nearest', cmap=cmap)\n",
    "    ax.figure.colorbar(im, ax=ax)\n",
    "    # We want to show all ticks...\n",
    "    ax.set(xticks=np.arange(cm.shape[1]),\n",
    "           yticks=np.arange(cm.shape[0]),\n",
    "           # ... and label them with the respective list entries\n",
    "           xticklabels=classes, yticklabels=classes,\n",
    "           title=title,\n",
    "           ylabel='True label',\n",
    "           xlabel='Predicted label')\n",
    "\n",
    "    # Rotate the tick labels and set their alignment.\n",
    "    plt.setp(ax.get_xticklabels(), rotation=45, ha=\"right\",\n",
    "             rotation_mode=\"anchor\")\n",
    "\n",
    "    # Loop over data dimensions and create text annotations.\n",
    "    fmt = '.2f' if normalize else 'd'\n",
    "    thresh = cm.max() / 2.\n",
    "    for i in range(cm.shape[0]):\n",
    "        for j in range(cm.shape[1]):\n",
    "            ax.text(j, i, format(cm[i, j], fmt),\n",
    "                    ha=\"center\", va=\"center\",\n",
    "                    color=\"white\" if cm[i, j] > thresh else \"black\")\n",
    "    fig.tight_layout()\n",
    "    return ax"
   ]
  },
  {
   "cell_type": "code",
   "execution_count": 0,
   "metadata": {
    "colab": {},
    "colab_type": "code",
    "id": "Dr3S665NovYm",
    "outputId": "01931a33-14e6-4061-f9c3-a28a39067532"
   },
   "outputs": [
    {
     "name": "stdout",
     "output_type": "stream",
     "text": [
      "Normalized confusion matrix\n"
     ]
    },
    {
     "data": {
      "image/png": "[encoded data removed]",
      "text/plain": [
       "<Figure size 432x288 with 2 Axes>"
      ]
     },
     "metadata": {
      "needs_background": "light",
      "tags": []
     },
     "output_type": "display_data"
    }
   ],
   "source": [
    "plot_confusion_matrix(Y_test_bin, [int(i>0.97) for i in model.predict(X_test_scaled)],\n",
    "                      classes=['rise','fall'], normalize=True,\n",
    "                      title='Normalized confusion matrix')\n",
    "\n",
    "plt.show()"
   ]
  },
  {
   "cell_type": "markdown",
   "metadata": {
    "colab_type": "text",
    "id": "ptZqDL5EovYo"
   },
   "source": [
    "Now let's examine GRU. A nice article on GRU: https://towardsdatascience.com/understanding-gru-networks-2ef37df6c9be"
   ]
  },
  {
   "cell_type": "markdown",
   "metadata": {
    "colab_type": "text",
    "id": "59pfHtUHovYo"
   },
   "source": [
    "![alt text](https://colah.github.io/posts/2015-08-Understanding-LSTMs/img/LSTM3-var-GRU.png)"
   ]
  },
  {
   "cell_type": "markdown",
   "metadata": {
    "colab_type": "text",
    "id": "JoXmC97xovYp"
   },
   "source": [
    "$z_t$ is responsible for weighing how much is previous information important than current information. $r_t$ is responsible on how much information should be forgeotten. $\\tilde h_t$ is responsible for current information and $h_t$ is the final output which is a combination of current and previous information. "
   ]
  },
  {
   "cell_type": "markdown",
   "metadata": {
    "colab_type": "text",
    "id": "gJ-KSZebovYp"
   },
   "source": [
    "GRU usually performs same as LSTM, but it has less parameters."
   ]
  },
  {
   "cell_type": "code",
   "execution_count": 0,
   "metadata": {
    "colab": {},
    "colab_type": "code",
    "id": "dvURmLPXovYq"
   },
   "outputs": [],
   "source": [
    "model = Sequential()\n",
    "model.add(BatchNormalization())\n",
    "model.add(GRU(128,return_sequences = True))\n",
    "model.add(GRU(128,return_sequences = True))\n",
    "model.add(GRU(128))\n",
    "model.add(Dropout(0.8))\n",
    "model.add(Dense(1))\n",
    "\n",
    "model.compile(optimizer = 'adam', loss = 'mse')"
   ]
  },
  {
   "cell_type": "code",
   "execution_count": 0,
   "metadata": {
    "colab": {},
    "colab_type": "code",
    "id": "2Qn4IuwyovYs",
    "outputId": "1aae1acf-b963-40f9-b45e-979ba1eafe8b"
   },
   "outputs": [
    {
     "name": "stdout",
     "output_type": "stream",
     "text": [
      "Train on 2027 samples, validate on 300 samples\n",
      "Epoch 1/100\n",
      "2027/2027 [==============================] - 6s 3ms/step - loss: 1.0141 - val_loss: 5.4050\n",
      "Epoch 2/100\n",
      "2027/2027 [==============================] - 3s 2ms/step - loss: 1.0113 - val_loss: 5.4007\n",
      "Epoch 3/100\n",
      "2027/2027 [==============================] - 3s 2ms/step - loss: 1.0083 - val_loss: 5.4430\n",
      "Epoch 4/100\n",
      "2027/2027 [==============================] - 3s 2ms/step - loss: 1.0042 - val_loss: 5.4297\n",
      "Epoch 5/100\n",
      "2027/2027 [==============================] - 3s 2ms/step - loss: 1.0022 - val_loss: 5.4658\n",
      "Epoch 6/100\n",
      "2027/2027 [==============================] - 4s 2ms/step - loss: 1.0064 - val_loss: 5.5035\n",
      "Epoch 7/100\n",
      "2027/2027 [==============================] - 3s 2ms/step - loss: 1.0018 - val_loss: 5.5247\n",
      "Epoch 8/100\n",
      "2027/2027 [==============================] - 3s 2ms/step - loss: 0.9922 - val_loss: 5.5277\n",
      "Epoch 9/100\n",
      "2027/2027 [==============================] - 3s 2ms/step - loss: 0.9956 - val_loss: 5.5536\n",
      "Epoch 10/100\n",
      "2027/2027 [==============================] - 3s 2ms/step - loss: 1.0084 - val_loss: 5.5697\n",
      "Epoch 11/100\n",
      "2027/2027 [==============================] - 4s 2ms/step - loss: 0.9980 - val_loss: 5.5469\n",
      "Epoch 12/100\n",
      "2027/2027 [==============================] - 4s 2ms/step - loss: 0.9963 - val_loss: 5.5198\n",
      "Epoch 13/100\n",
      "2027/2027 [==============================] - 4s 2ms/step - loss: 0.9869 - val_loss: 5.5231\n",
      "Epoch 14/100\n",
      "2027/2027 [==============================] - 4s 2ms/step - loss: 0.9846 - val_loss: 5.6311\n",
      "Epoch 15/100\n",
      "2027/2027 [==============================] - 4s 2ms/step - loss: 0.9949 - val_loss: 5.5622\n",
      "Epoch 16/100\n",
      "2027/2027 [==============================] - 4s 2ms/step - loss: 0.9780 - val_loss: 5.6337\n",
      "Epoch 17/100\n",
      "2027/2027 [==============================] - 4s 2ms/step - loss: 0.9709 - val_loss: 5.8214\n",
      "Epoch 18/100\n",
      "2027/2027 [==============================] - 4s 2ms/step - loss: 0.9688 - val_loss: 5.8003\n",
      "Epoch 19/100\n",
      "2027/2027 [==============================] - 4s 2ms/step - loss: 0.9786 - val_loss: 5.8544\n",
      "Epoch 20/100\n",
      "2027/2027 [==============================] - 4s 2ms/step - loss: 0.9613 - val_loss: 5.8552\n",
      "Epoch 21/100\n",
      "2027/2027 [==============================] - 4s 2ms/step - loss: 0.9737 - val_loss: 5.8987\n",
      "Epoch 22/100\n",
      "2027/2027 [==============================] - 4s 2ms/step - loss: 0.9464 - val_loss: 5.8612\n",
      "Epoch 23/100\n",
      "2027/2027 [==============================] - 4s 2ms/step - loss: 0.9545 - val_loss: 6.0126\n",
      "Epoch 24/100\n",
      "2027/2027 [==============================] - 4s 2ms/step - loss: 0.9643 - val_loss: 6.0235\n",
      "Epoch 25/100\n",
      "2027/2027 [==============================] - 4s 2ms/step - loss: 0.9252 - val_loss: 6.2310\n",
      "Epoch 26/100\n",
      "2027/2027 [==============================] - 4s 2ms/step - loss: 0.9377 - val_loss: 5.8606\n",
      "Epoch 27/100\n",
      "2027/2027 [==============================] - 4s 2ms/step - loss: 0.9273 - val_loss: 6.6087\n",
      "Epoch 28/100\n",
      "2027/2027 [==============================] - 4s 2ms/step - loss: 0.8910 - val_loss: 6.0248\n",
      "Epoch 29/100\n",
      "2027/2027 [==============================] - 4s 2ms/step - loss: 0.8991 - val_loss: 5.9271\n",
      "Epoch 30/100\n",
      "2027/2027 [==============================] - 4s 2ms/step - loss: 0.9182 - val_loss: 6.0091\n",
      "Epoch 31/100\n",
      "2027/2027 [==============================] - 4s 2ms/step - loss: 0.8819 - val_loss: 6.3567\n",
      "Epoch 32/100\n",
      "2027/2027 [==============================] - 4s 2ms/step - loss: 0.8794 - val_loss: 6.4411\n",
      "Epoch 33/100\n",
      "2027/2027 [==============================] - 4s 2ms/step - loss: 0.8643 - val_loss: 6.5772\n",
      "Epoch 34/100\n",
      "2027/2027 [==============================] - 4s 2ms/step - loss: 0.8686 - val_loss: 6.5933\n",
      "Epoch 35/100\n",
      "2027/2027 [==============================] - 4s 2ms/step - loss: 0.8602 - val_loss: 6.6086\n",
      "Epoch 36/100\n",
      "2027/2027 [==============================] - 4s 2ms/step - loss: 0.8548 - val_loss: 6.5223\n",
      "Epoch 37/100\n",
      "2027/2027 [==============================] - 4s 2ms/step - loss: 0.8556 - val_loss: 6.6033\n",
      "Epoch 38/100\n",
      "2027/2027 [==============================] - 4s 2ms/step - loss: 0.8397 - val_loss: 7.3215\n",
      "Epoch 39/100\n",
      "2027/2027 [==============================] - 4s 2ms/step - loss: 0.8576 - val_loss: 6.9524\n",
      "Epoch 40/100\n",
      "2027/2027 [==============================] - 4s 2ms/step - loss: 0.8329 - val_loss: 6.8711\n",
      "Epoch 41/100\n",
      "2027/2027 [==============================] - 4s 2ms/step - loss: 0.8066 - val_loss: 6.5026\n",
      "Epoch 42/100\n",
      "2027/2027 [==============================] - 4s 2ms/step - loss: 0.8042 - val_loss: 6.3229\n",
      "Epoch 43/100\n",
      "2027/2027 [==============================] - 4s 2ms/step - loss: 0.7962 - val_loss: 6.4073\n",
      "Epoch 44/100\n",
      "2027/2027 [==============================] - 4s 2ms/step - loss: 0.8025 - val_loss: 6.4072\n",
      "Epoch 45/100\n",
      "2027/2027 [==============================] - 4s 2ms/step - loss: 0.7887 - val_loss: 7.1096\n",
      "Epoch 46/100\n",
      "2027/2027 [==============================] - 4s 2ms/step - loss: 0.7773 - val_loss: 7.0429\n",
      "Epoch 47/100\n",
      "2027/2027 [==============================] - 4s 2ms/step - loss: 0.7532 - val_loss: 7.1253\n",
      "Epoch 48/100\n",
      "2027/2027 [==============================] - 4s 2ms/step - loss: 0.7793 - val_loss: 6.8569\n",
      "Epoch 49/100\n",
      "2027/2027 [==============================] - 4s 2ms/step - loss: 0.7488 - val_loss: 6.6227\n",
      "Epoch 50/100\n",
      "2027/2027 [==============================] - 4s 2ms/step - loss: 0.7226 - val_loss: 7.0348\n",
      "Epoch 51/100\n",
      "2027/2027 [==============================] - 4s 2ms/step - loss: 0.7082 - val_loss: 7.1690\n",
      "Epoch 52/100\n",
      "2027/2027 [==============================] - 4s 2ms/step - loss: 0.7111 - val_loss: 7.0085\n",
      "Epoch 53/100\n",
      "2027/2027 [==============================] - 4s 2ms/step - loss: 0.7001 - val_loss: 6.7472\n",
      "Epoch 54/100\n",
      "2027/2027 [==============================] - 4s 2ms/step - loss: 0.7028 - val_loss: 6.7314\n",
      "Epoch 55/100\n",
      "2027/2027 [==============================] - 4s 2ms/step - loss: 0.6893 - val_loss: 7.0960\n",
      "Epoch 56/100\n",
      "2027/2027 [==============================] - 4s 2ms/step - loss: 0.6686 - val_loss: 6.5556\n",
      "Epoch 57/100\n",
      "2027/2027 [==============================] - 4s 2ms/step - loss: 0.6801 - val_loss: 6.6628\n",
      "Epoch 58/100\n",
      "2027/2027 [==============================] - 4s 2ms/step - loss: 0.6453 - val_loss: 7.0103\n",
      "Epoch 59/100\n",
      "2027/2027 [==============================] - 4s 2ms/step - loss: 0.6419 - val_loss: 7.1802\n",
      "Epoch 60/100\n",
      "2027/2027 [==============================] - 4s 2ms/step - loss: 0.6410 - val_loss: 6.9835\n",
      "Epoch 61/100\n",
      "2027/2027 [==============================] - 4s 2ms/step - loss: 0.5946 - val_loss: 6.7511\n",
      "Epoch 62/100\n",
      "2027/2027 [==============================] - 4s 2ms/step - loss: 0.5932 - val_loss: 7.2158\n",
      "Epoch 63/100\n",
      "2027/2027 [==============================] - 4s 2ms/step - loss: 0.5900 - val_loss: 6.7204\n",
      "Epoch 64/100\n",
      "2027/2027 [==============================] - 4s 2ms/step - loss: 0.5917 - val_loss: 6.8552\n",
      "Epoch 65/100\n",
      "2027/2027 [==============================] - 4s 2ms/step - loss: 0.5664 - val_loss: 7.0951\n",
      "Epoch 66/100\n",
      "2027/2027 [==============================] - 4s 2ms/step - loss: 0.5256 - val_loss: 6.6599\n",
      "Epoch 67/100\n",
      "2027/2027 [==============================] - 4s 2ms/step - loss: 0.5446 - val_loss: 6.3803\n",
      "Epoch 68/100\n",
      "2027/2027 [==============================] - 4s 2ms/step - loss: 0.5628 - val_loss: 7.1315\n",
      "Epoch 69/100\n",
      "2027/2027 [==============================] - 4s 2ms/step - loss: 0.5351 - val_loss: 6.9589\n",
      "Epoch 70/100\n",
      "2027/2027 [==============================] - 4s 2ms/step - loss: 0.4943 - val_loss: 6.8244\n",
      "Epoch 71/100\n",
      "2027/2027 [==============================] - 4s 2ms/step - loss: 0.4636 - val_loss: 6.7976\n",
      "Epoch 72/100\n",
      "2027/2027 [==============================] - 4s 2ms/step - loss: 0.4614 - val_loss: 6.4848\n",
      "Epoch 73/100\n",
      "2027/2027 [==============================] - 4s 2ms/step - loss: 0.4575 - val_loss: 6.4266\n",
      "Epoch 74/100\n",
      "2027/2027 [==============================] - 4s 2ms/step - loss: 0.4656 - val_loss: 6.4375\n",
      "Epoch 75/100\n",
      "2027/2027 [==============================] - 4s 2ms/step - loss: 0.4160 - val_loss: 6.3038\n",
      "Epoch 76/100\n",
      "2027/2027 [==============================] - 4s 2ms/step - loss: 0.4103 - val_loss: 6.8626\n",
      "Epoch 77/100\n",
      "2027/2027 [==============================] - 4s 2ms/step - loss: 0.3864 - val_loss: 6.3498\n",
      "Epoch 78/100\n",
      "2027/2027 [==============================] - 4s 2ms/step - loss: 0.3734 - val_loss: 6.5249\n",
      "Epoch 79/100\n",
      "2027/2027 [==============================] - 4s 2ms/step - loss: 0.3526 - val_loss: 6.5310\n",
      "Epoch 80/100\n",
      "2027/2027 [==============================] - 4s 2ms/step - loss: 0.3326 - val_loss: 6.5324\n",
      "Epoch 81/100\n",
      "2027/2027 [==============================] - 4s 2ms/step - loss: 0.3440 - val_loss: 6.5518\n",
      "Epoch 82/100\n",
      "2027/2027 [==============================] - 4s 2ms/step - loss: 0.3105 - val_loss: 6.5207\n",
      "Epoch 83/100\n",
      "2027/2027 [==============================] - 4s 2ms/step - loss: 0.3663 - val_loss: 6.6250\n",
      "Epoch 84/100\n",
      "2027/2027 [==============================] - 4s 2ms/step - loss: 0.3169 - val_loss: 6.6406\n",
      "Epoch 85/100\n",
      "2027/2027 [==============================] - 4s 2ms/step - loss: 0.3416 - val_loss: 6.3944\n",
      "Epoch 86/100\n",
      "2027/2027 [==============================] - 4s 2ms/step - loss: 0.3265 - val_loss: 6.5005\n",
      "Epoch 87/100\n",
      "2027/2027 [==============================] - 4s 2ms/step - loss: 0.3103 - val_loss: 6.3934\n",
      "Epoch 88/100\n",
      "2027/2027 [==============================] - 4s 2ms/step - loss: 0.2803 - val_loss: 6.3807\n",
      "Epoch 89/100\n",
      "2027/2027 [==============================] - 4s 2ms/step - loss: 0.2559 - val_loss: 6.5831\n",
      "Epoch 90/100\n",
      "2027/2027 [==============================] - 4s 2ms/step - loss: 0.2661 - val_loss: 6.3625\n",
      "Epoch 91/100\n",
      "2027/2027 [==============================] - 4s 2ms/step - loss: 0.2520 - val_loss: 6.3942\n",
      "Epoch 92/100\n",
      "2027/2027 [==============================] - 4s 2ms/step - loss: 0.2509 - val_loss: 6.5831\n",
      "Epoch 93/100\n",
      "2027/2027 [==============================] - 4s 2ms/step - loss: 0.2422 - val_loss: 6.3938\n",
      "Epoch 94/100\n",
      "2027/2027 [==============================] - 4s 2ms/step - loss: 0.2291 - val_loss: 6.2779\n",
      "Epoch 95/100\n",
      "2027/2027 [==============================] - 4s 2ms/step - loss: 0.2323 - val_loss: 6.5021\n",
      "Epoch 96/100\n",
      "2027/2027 [==============================] - 4s 2ms/step - loss: 0.2255 - val_loss: 6.3419\n",
      "Epoch 97/100\n",
      "2027/2027 [==============================] - 4s 2ms/step - loss: 0.2087 - val_loss: 6.2846\n",
      "Epoch 98/100\n",
      "2027/2027 [==============================] - 4s 2ms/step - loss: 0.1950 - val_loss: 6.3400\n",
      "Epoch 99/100\n",
      "2027/2027 [==============================] - 4s 2ms/step - loss: 0.2087 - val_loss: 6.4376\n",
      "Epoch 100/100\n",
      "2027/2027 [==============================] - 4s 2ms/step - loss: 0.2086 - val_loss: 6.2491\n"
     ]
    },
    {
     "data": {
      "text/plain": [
       "<keras.callbacks.History at 0x22eff8ed978>"
      ]
     },
     "execution_count": 34,
     "metadata": {
      "tags": []
     },
     "output_type": "execute_result"
    }
   ],
   "source": [
    "model.fit(X_train_scaled,Y_train_scaled,\n",
    "          batch_size = 64, epochs = 100, verbose = 1,\n",
    "          validation_data= (X_test_scaled,Y_test_scaled))"
   ]
  },
  {
   "cell_type": "code",
   "execution_count": 0,
   "metadata": {
    "colab": {},
    "colab_type": "code",
    "id": "zpV9KqGJovYu",
    "outputId": "ce2a1b0e-ef99-4d7f-fed4-60bd3732c70f"
   },
   "outputs": [
    {
     "name": "stdout",
     "output_type": "stream",
     "text": [
      "_________________________________________________________________\n",
      "Layer (type)                 Output Shape              Param #   \n",
      "=================================================================\n",
      "batch_normalization_5 (Batch (None, 30, 3)             12        \n",
      "_________________________________________________________________\n",
      "gru_1 (GRU)                  (None, 30, 128)           50688     \n",
      "_________________________________________________________________\n",
      "gru_2 (GRU)                  (None, 30, 128)           98688     \n",
      "_________________________________________________________________\n",
      "gru_3 (GRU)                  (None, 128)               98688     \n",
      "_________________________________________________________________\n",
      "dropout_4 (Dropout)          (None, 128)               0         \n",
      "_________________________________________________________________\n",
      "dense_4 (Dense)              (None, 1)                 129       \n",
      "=================================================================\n",
      "Total params: 248,205\n",
      "Trainable params: 248,199\n",
      "Non-trainable params: 6\n",
      "_________________________________________________________________\n"
     ]
    }
   ],
   "source": [
    "model.summary()"
   ]
  },
  {
   "cell_type": "code",
   "execution_count": 0,
   "metadata": {
    "colab": {},
    "colab_type": "code",
    "id": "QJr1lkjSovYw",
    "outputId": "5fdb5d87-3024-48e8-fc83-be257737f558"
   },
   "outputs": [
    {
     "data": {
      "image/png": "[encoded data removed]",
      "text/plain": [
       "<Figure size 1152x576 with 1 Axes>"
      ]
     },
     "metadata": {
      "needs_background": "light",
      "tags": []
     },
     "output_type": "display_data"
    }
   ],
   "source": [
    "plt.figure(figsize = (10,4))\n",
    "plt.plot(Y_test, label = 'real')\n",
    "plt.plot(scaler_y.inverse_transform(model.predict(X_test_scaled)),\n",
    "         'r',label = 'predicted')\n",
    "plt.legend()\n",
    "plt.show()"
   ]
  },
  {
   "cell_type": "code",
   "execution_count": 0,
   "metadata": {
    "colab": {},
    "colab_type": "code",
    "id": "or0eA0xYovYy"
   },
   "outputs": [],
   "source": [
    "model = Sequential()\n",
    "model.add(BatchNormalization())\n",
    "model.add(GRU(128,return_sequences = True))\n",
    "model.add(GRU(128,return_sequences = True))\n",
    "model.add(GRU(128))\n",
    "model.add(Dropout(0.8))\n",
    "model.add(Dense(1, activation = 'sigmoid'))\n",
    "\n",
    "model.compile(optimizer = 'adam', loss = 'binary_crossentropy',metrics = ['accuracy'])"
   ]
  },
  {
   "cell_type": "code",
   "execution_count": 0,
   "metadata": {
    "colab": {},
    "colab_type": "code",
    "id": "YuiC7Rl8ovY0",
    "outputId": "408df7b2-e1d7-4def-93a9-bbfa866f73cd"
   },
   "outputs": [
    {
     "name": "stdout",
     "output_type": "stream",
     "text": [
      "Train on 2027 samples, validate on 300 samples\n",
      "Epoch 1/100\n",
      "2027/2027 [==============================] - 7s 3ms/step - loss: 0.6998 - acc: 0.4933 - val_loss: 0.6919 - val_acc: 0.5033\n",
      "Epoch 2/100\n",
      "2027/2027 [==============================] - 4s 2ms/step - loss: 0.6973 - acc: 0.4943 - val_loss: 0.6943 - val_acc: 0.5300\n",
      "Epoch 3/100\n",
      "2027/2027 [==============================] - 4s 2ms/step - loss: 0.6940 - acc: 0.5146 - val_loss: 0.6948 - val_acc: 0.5067\n",
      "Epoch 4/100\n",
      "2027/2027 [==============================] - 4s 2ms/step - loss: 0.6928 - acc: 0.5323 - val_loss: 0.6985 - val_acc: 0.5233\n",
      "Epoch 5/100\n",
      "2027/2027 [==============================] - 4s 2ms/step - loss: 0.6942 - acc: 0.5131 - val_loss: 0.6978 - val_acc: 0.5067\n",
      "Epoch 6/100\n",
      "2027/2027 [==============================] - 4s 2ms/step - loss: 0.6936 - acc: 0.5220 - val_loss: 0.6967 - val_acc: 0.5133\n",
      "Epoch 7/100\n",
      "2027/2027 [==============================] - 4s 2ms/step - loss: 0.6950 - acc: 0.5091 - val_loss: 0.7004 - val_acc: 0.5067\n",
      "Epoch 8/100\n",
      "2027/2027 [==============================] - 4s 2ms/step - loss: 0.6911 - acc: 0.5249 - val_loss: 0.6989 - val_acc: 0.5233\n",
      "Epoch 9/100\n",
      "2027/2027 [==============================] - 4s 2ms/step - loss: 0.6936 - acc: 0.5111 - val_loss: 0.7013 - val_acc: 0.4933\n",
      "Epoch 10/100\n",
      "2027/2027 [==============================] - 4s 2ms/step - loss: 0.6934 - acc: 0.5136 - val_loss: 0.7047 - val_acc: 0.4867\n",
      "Epoch 11/100\n",
      "2027/2027 [==============================] - 4s 2ms/step - loss: 0.6940 - acc: 0.5239 - val_loss: 0.7063 - val_acc: 0.5033\n",
      "Epoch 12/100\n",
      "2027/2027 [==============================] - 5s 2ms/step - loss: 0.6921 - acc: 0.5313 - val_loss: 0.7119 - val_acc: 0.5067\n",
      "Epoch 13/100\n",
      "2027/2027 [==============================] - 4s 2ms/step - loss: 0.6946 - acc: 0.5062 - val_loss: 0.7106 - val_acc: 0.4967\n",
      "Epoch 14/100\n",
      "2027/2027 [==============================] - 5s 2ms/step - loss: 0.6911 - acc: 0.5234 - val_loss: 0.7194 - val_acc: 0.5100\n",
      "Epoch 15/100\n",
      "2027/2027 [==============================] - 5s 2ms/step - loss: 0.6942 - acc: 0.5215 - val_loss: 0.7220 - val_acc: 0.4867\n",
      "Epoch 16/100\n",
      "2027/2027 [==============================] - 4s 2ms/step - loss: 0.6902 - acc: 0.5298 - val_loss: 0.7233 - val_acc: 0.4933\n",
      "Epoch 17/100\n",
      "2027/2027 [==============================] - 4s 2ms/step - loss: 0.6932 - acc: 0.5086 - val_loss: 0.7250 - val_acc: 0.4867\n",
      "Epoch 18/100\n",
      "2027/2027 [==============================] - 4s 2ms/step - loss: 0.6913 - acc: 0.5259 - val_loss: 0.7289 - val_acc: 0.4900\n",
      "Epoch 19/100\n",
      "2027/2027 [==============================] - 4s 2ms/step - loss: 0.6912 - acc: 0.5170 - val_loss: 0.7258 - val_acc: 0.4900\n",
      "Epoch 20/100\n",
      "2027/2027 [==============================] - 4s 2ms/step - loss: 0.6900 - acc: 0.5338 - val_loss: 0.7482 - val_acc: 0.5000\n",
      "Epoch 21/100\n",
      "2027/2027 [==============================] - 4s 2ms/step - loss: 0.6901 - acc: 0.5205 - val_loss: 0.7411 - val_acc: 0.5067\n",
      "Epoch 22/100\n",
      "2027/2027 [==============================] - 4s 2ms/step - loss: 0.6934 - acc: 0.5136 - val_loss: 0.7390 - val_acc: 0.4933\n",
      "Epoch 23/100\n",
      "2027/2027 [==============================] - 5s 2ms/step - loss: 0.6903 - acc: 0.5210 - val_loss: 0.7558 - val_acc: 0.5067\n",
      "Epoch 24/100\n",
      "2027/2027 [==============================] - 4s 2ms/step - loss: 0.6894 - acc: 0.5239 - val_loss: 0.7551 - val_acc: 0.4900\n",
      "Epoch 25/100\n",
      "2027/2027 [==============================] - 5s 2ms/step - loss: 0.6915 - acc: 0.5141 - val_loss: 0.7651 - val_acc: 0.5100\n",
      "Epoch 26/100\n",
      "2027/2027 [==============================] - 5s 2ms/step - loss: 0.6881 - acc: 0.5264 - val_loss: 0.7869 - val_acc: 0.5100\n",
      "Epoch 27/100\n",
      "2027/2027 [==============================] - 4s 2ms/step - loss: 0.6876 - acc: 0.5446 - val_loss: 0.7877 - val_acc: 0.5100\n",
      "Epoch 28/100\n",
      "2027/2027 [==============================] - 5s 2ms/step - loss: 0.6851 - acc: 0.5333 - val_loss: 0.8043 - val_acc: 0.5133\n",
      "Epoch 29/100\n",
      "2027/2027 [==============================] - 4s 2ms/step - loss: 0.6870 - acc: 0.5210 - val_loss: 0.7753 - val_acc: 0.4967\n",
      "Epoch 30/100\n",
      "2027/2027 [==============================] - 4s 2ms/step - loss: 0.6850 - acc: 0.5358 - val_loss: 0.7837 - val_acc: 0.4967\n",
      "Epoch 31/100\n",
      "2027/2027 [==============================] - 5s 2ms/step - loss: 0.6864 - acc: 0.5323 - val_loss: 0.8393 - val_acc: 0.5300\n",
      "Epoch 32/100\n",
      "2027/2027 [==============================] - 5s 2ms/step - loss: 0.6846 - acc: 0.5466 - val_loss: 0.7831 - val_acc: 0.5100\n",
      "Epoch 33/100\n",
      "2027/2027 [==============================] - 5s 2ms/step - loss: 0.6855 - acc: 0.5397 - val_loss: 0.8220 - val_acc: 0.5200\n",
      "Epoch 34/100\n",
      "2027/2027 [==============================] - 5s 2ms/step - loss: 0.6840 - acc: 0.5451 - val_loss: 0.7914 - val_acc: 0.5000\n",
      "Epoch 35/100\n",
      "2027/2027 [==============================] - 5s 2ms/step - loss: 0.6777 - acc: 0.5456 - val_loss: 0.8064 - val_acc: 0.5167\n",
      "Epoch 36/100\n",
      "2027/2027 [==============================] - 5s 2ms/step - loss: 0.6824 - acc: 0.5284 - val_loss: 0.8232 - val_acc: 0.5267\n",
      "Epoch 37/100\n",
      "2027/2027 [==============================] - 5s 2ms/step - loss: 0.6747 - acc: 0.5644 - val_loss: 0.9046 - val_acc: 0.5433\n",
      "Epoch 38/100\n",
      "2027/2027 [==============================] - 5s 2ms/step - loss: 0.6779 - acc: 0.5594 - val_loss: 0.8416 - val_acc: 0.5400\n",
      "Epoch 39/100\n",
      "2027/2027 [==============================] - 5s 2ms/step - loss: 0.6712 - acc: 0.5703 - val_loss: 0.9726 - val_acc: 0.5167\n",
      "Epoch 40/100\n",
      "2027/2027 [==============================] - 5s 2ms/step - loss: 0.6663 - acc: 0.5664 - val_loss: 0.8600 - val_acc: 0.5167\n",
      "Epoch 41/100\n",
      "2027/2027 [==============================] - 5s 2ms/step - loss: 0.6569 - acc: 0.5792 - val_loss: 1.0666 - val_acc: 0.5000\n",
      "Epoch 42/100\n",
      "2027/2027 [==============================] - 5s 2ms/step - loss: 0.6615 - acc: 0.5723 - val_loss: 1.0711 - val_acc: 0.5000\n",
      "Epoch 43/100\n",
      "2027/2027 [==============================] - 4s 2ms/step - loss: 0.6596 - acc: 0.5826 - val_loss: 0.8992 - val_acc: 0.5200\n",
      "Epoch 44/100\n",
      "2027/2027 [==============================] - 4s 2ms/step - loss: 0.6519 - acc: 0.5900 - val_loss: 1.0327 - val_acc: 0.4900\n",
      "Epoch 45/100\n",
      "2027/2027 [==============================] - 4s 2ms/step - loss: 0.6516 - acc: 0.5851 - val_loss: 0.9701 - val_acc: 0.5233\n",
      "Epoch 46/100\n",
      "2027/2027 [==============================] - 4s 2ms/step - loss: 0.6418 - acc: 0.6108 - val_loss: 1.1639 - val_acc: 0.5100\n",
      "Epoch 47/100\n",
      "2027/2027 [==============================] - 4s 2ms/step - loss: 0.6369 - acc: 0.5900 - val_loss: 1.0941 - val_acc: 0.4900\n",
      "Epoch 48/100\n",
      "2027/2027 [==============================] - 4s 2ms/step - loss: 0.6242 - acc: 0.6058 - val_loss: 1.0727 - val_acc: 0.5200\n",
      "Epoch 49/100\n",
      "2027/2027 [==============================] - 4s 2ms/step - loss: 0.6188 - acc: 0.6122 - val_loss: 1.2684 - val_acc: 0.5167\n",
      "Epoch 50/100\n",
      "2027/2027 [==============================] - 4s 2ms/step - loss: 0.6091 - acc: 0.6270 - val_loss: 1.1337 - val_acc: 0.4933\n",
      "Epoch 51/100\n",
      "2027/2027 [==============================] - 4s 2ms/step - loss: 0.6065 - acc: 0.6418 - val_loss: 1.2640 - val_acc: 0.5100\n",
      "Epoch 52/100\n",
      "2027/2027 [==============================] - 4s 2ms/step - loss: 0.5913 - acc: 0.6423 - val_loss: 1.4339 - val_acc: 0.5000\n",
      "Epoch 53/100\n",
      "2027/2027 [==============================] - 4s 2ms/step - loss: 0.5791 - acc: 0.6473 - val_loss: 1.2714 - val_acc: 0.5367\n",
      "Epoch 54/100\n",
      "2027/2027 [==============================] - 4s 2ms/step - loss: 0.5865 - acc: 0.6478 - val_loss: 1.4519 - val_acc: 0.4900\n",
      "Epoch 55/100\n",
      "2027/2027 [==============================] - 4s 2ms/step - loss: 0.5631 - acc: 0.6547 - val_loss: 1.4648 - val_acc: 0.5167\n",
      "Epoch 56/100\n",
      "2027/2027 [==============================] - 4s 2ms/step - loss: 0.5577 - acc: 0.6665 - val_loss: 1.4375 - val_acc: 0.5233\n",
      "Epoch 57/100\n",
      "2027/2027 [==============================] - 4s 2ms/step - loss: 0.5378 - acc: 0.6941 - val_loss: 1.4467 - val_acc: 0.5333\n",
      "Epoch 58/100\n",
      "2027/2027 [==============================] - 4s 2ms/step - loss: 0.5342 - acc: 0.7010 - val_loss: 1.5212 - val_acc: 0.5267\n",
      "Epoch 59/100\n",
      "2027/2027 [==============================] - 5s 2ms/step - loss: 0.5102 - acc: 0.7104 - val_loss: 1.5845 - val_acc: 0.5400\n",
      "Epoch 60/100\n",
      "2027/2027 [==============================] - 4s 2ms/step - loss: 0.4983 - acc: 0.7208 - val_loss: 1.6777 - val_acc: 0.5133\n",
      "Epoch 61/100\n",
      "2027/2027 [==============================] - 4s 2ms/step - loss: 0.4925 - acc: 0.7203 - val_loss: 1.7705 - val_acc: 0.5167\n",
      "Epoch 62/100\n",
      "2027/2027 [==============================] - 4s 2ms/step - loss: 0.4575 - acc: 0.7469 - val_loss: 1.9104 - val_acc: 0.5133\n",
      "Epoch 63/100\n",
      "2027/2027 [==============================] - 4s 2ms/step - loss: 0.4502 - acc: 0.7543 - val_loss: 1.8846 - val_acc: 0.5300\n",
      "Epoch 64/100\n",
      "2027/2027 [==============================] - 4s 2ms/step - loss: 0.4348 - acc: 0.7593 - val_loss: 1.8243 - val_acc: 0.5400\n",
      "Epoch 65/100\n",
      "2027/2027 [==============================] - 5s 2ms/step - loss: 0.3990 - acc: 0.7928 - val_loss: 1.9497 - val_acc: 0.5300\n",
      "Epoch 66/100\n",
      "2027/2027 [==============================] - 5s 2ms/step - loss: 0.3990 - acc: 0.7928 - val_loss: 1.9672 - val_acc: 0.5267\n",
      "Epoch 67/100\n",
      "2027/2027 [==============================] - 5s 2ms/step - loss: 0.3905 - acc: 0.7987 - val_loss: 1.9492 - val_acc: 0.5367\n",
      "Epoch 68/100\n",
      "2027/2027 [==============================] - 5s 2ms/step - loss: 0.3873 - acc: 0.7977 - val_loss: 1.9382 - val_acc: 0.5500\n",
      "Epoch 69/100\n",
      "2027/2027 [==============================] - 4s 2ms/step - loss: 0.3457 - acc: 0.8263 - val_loss: 1.8690 - val_acc: 0.5433\n",
      "Epoch 70/100\n",
      "2027/2027 [==============================] - 4s 2ms/step - loss: 0.3180 - acc: 0.8426 - val_loss: 2.3522 - val_acc: 0.5167\n",
      "Epoch 71/100\n",
      "2027/2027 [==============================] - 4s 2ms/step - loss: 0.2887 - acc: 0.8693 - val_loss: 2.2622 - val_acc: 0.5333\n",
      "Epoch 72/100\n",
      "2027/2027 [==============================] - 4s 2ms/step - loss: 0.2848 - acc: 0.8619 - val_loss: 2.4144 - val_acc: 0.5167\n",
      "Epoch 73/100\n",
      "2027/2027 [==============================] - 5s 2ms/step - loss: 0.2620 - acc: 0.8816 - val_loss: 2.5366 - val_acc: 0.5167\n",
      "Epoch 74/100\n",
      "2027/2027 [==============================] - 4s 2ms/step - loss: 0.2607 - acc: 0.8816 - val_loss: 2.4135 - val_acc: 0.5200\n",
      "Epoch 75/100\n",
      "2027/2027 [==============================] - 4s 2ms/step - loss: 0.2204 - acc: 0.8979 - val_loss: 2.5346 - val_acc: 0.5300\n",
      "Epoch 76/100\n",
      "2027/2027 [==============================] - 4s 2ms/step - loss: 0.1922 - acc: 0.9107 - val_loss: 2.6932 - val_acc: 0.5267\n",
      "Epoch 77/100\n",
      "2027/2027 [==============================] - 5s 2ms/step - loss: 0.1975 - acc: 0.9151 - val_loss: 2.7438 - val_acc: 0.5300\n",
      "Epoch 78/100\n",
      "2027/2027 [==============================] - 5s 2ms/step - loss: 0.2102 - acc: 0.9068 - val_loss: 2.5165 - val_acc: 0.5500\n",
      "Epoch 79/100\n",
      "2027/2027 [==============================] - 5s 2ms/step - loss: 0.2024 - acc: 0.9122 - val_loss: 2.6561 - val_acc: 0.5133\n",
      "Epoch 80/100\n",
      "2027/2027 [==============================] - 5s 2ms/step - loss: 0.1817 - acc: 0.9285 - val_loss: 2.7785 - val_acc: 0.5033\n",
      "Epoch 81/100\n",
      "2027/2027 [==============================] - 5s 2ms/step - loss: 0.1730 - acc: 0.9225 - val_loss: 2.6967 - val_acc: 0.5100\n",
      "Epoch 82/100\n",
      "2027/2027 [==============================] - 5s 2ms/step - loss: 0.1701 - acc: 0.9295 - val_loss: 2.7944 - val_acc: 0.5000\n",
      "Epoch 83/100\n",
      "2027/2027 [==============================] - 5s 2ms/step - loss: 0.1489 - acc: 0.9369 - val_loss: 3.0289 - val_acc: 0.5067\n",
      "Epoch 84/100\n",
      "2027/2027 [==============================] - 5s 2ms/step - loss: 0.1323 - acc: 0.9433 - val_loss: 2.9948 - val_acc: 0.5033\n",
      "Epoch 85/100\n",
      "2027/2027 [==============================] - 5s 2ms/step - loss: 0.1068 - acc: 0.9600 - val_loss: 3.0526 - val_acc: 0.5000\n",
      "Epoch 86/100\n",
      "2027/2027 [==============================] - 5s 3ms/step - loss: 0.1126 - acc: 0.9571 - val_loss: 2.9252 - val_acc: 0.5100\n",
      "Epoch 87/100\n",
      "2027/2027 [==============================] - 5s 3ms/step - loss: 0.1059 - acc: 0.9610 - val_loss: 3.1450 - val_acc: 0.5033\n",
      "Epoch 88/100\n",
      "2027/2027 [==============================] - 5s 2ms/step - loss: 0.1250 - acc: 0.9556 - val_loss: 3.1008 - val_acc: 0.5200\n",
      "Epoch 89/100\n",
      "2027/2027 [==============================] - 5s 2ms/step - loss: 0.1198 - acc: 0.9566 - val_loss: 3.1259 - val_acc: 0.5133\n",
      "Epoch 90/100\n",
      "2027/2027 [==============================] - 5s 3ms/step - loss: 0.0909 - acc: 0.9635 - val_loss: 3.2884 - val_acc: 0.4967\n",
      "Epoch 91/100\n",
      "2027/2027 [==============================] - 5s 3ms/step - loss: 0.0867 - acc: 0.9684 - val_loss: 3.1656 - val_acc: 0.5100\n",
      "Epoch 92/100\n",
      "2027/2027 [==============================] - 5s 3ms/step - loss: 0.0738 - acc: 0.9778 - val_loss: 3.3306 - val_acc: 0.5067\n",
      "Epoch 93/100\n",
      "2027/2027 [==============================] - 5s 3ms/step - loss: 0.0515 - acc: 0.9877 - val_loss: 3.4557 - val_acc: 0.5067\n",
      "Epoch 94/100\n",
      "2027/2027 [==============================] - 5s 3ms/step - loss: 0.0464 - acc: 0.9862 - val_loss: 3.4468 - val_acc: 0.5233\n",
      "Epoch 95/100\n",
      "2027/2027 [==============================] - 5s 3ms/step - loss: 0.0598 - acc: 0.9763 - val_loss: 3.6651 - val_acc: 0.5000\n",
      "Epoch 96/100\n",
      "2027/2027 [==============================] - 5s 2ms/step - loss: 0.0585 - acc: 0.9813 - val_loss: 3.4436 - val_acc: 0.4967\n",
      "Epoch 97/100\n",
      "2027/2027 [==============================] - 5s 2ms/step - loss: 0.0562 - acc: 0.9817 - val_loss: 3.6084 - val_acc: 0.5300\n",
      "Epoch 98/100\n",
      "2027/2027 [==============================] - 5s 3ms/step - loss: 0.0587 - acc: 0.9842 - val_loss: 3.6455 - val_acc: 0.5267\n",
      "Epoch 99/100\n",
      "2027/2027 [==============================] - 5s 2ms/step - loss: 0.0499 - acc: 0.9857 - val_loss: 3.6011 - val_acc: 0.5100\n",
      "Epoch 100/100\n",
      "2027/2027 [==============================] - 5s 3ms/step - loss: 0.0683 - acc: 0.9758 - val_loss: 3.6925 - val_acc: 0.5300\n"
     ]
    },
    {
     "data": {
      "text/plain": [
       "<keras.callbacks.History at 0x22e90d109b0>"
      ]
     },
     "execution_count": 41,
     "metadata": {
      "tags": []
     },
     "output_type": "execute_result"
    }
   ],
   "source": [
    "model.fit(X_train_scaled,Y_train_bin,\n",
    "          batch_size = 64, epochs = 100, verbose = 1,\n",
    "          validation_data= (X_test_scaled,Y_test_bin))"
   ]
  },
  {
   "cell_type": "code",
   "execution_count": 0,
   "metadata": {
    "colab": {},
    "colab_type": "code",
    "id": "bZ_MStd4ovY3",
    "outputId": "b4690c66-2af9-4c65-c394-e9c6ac49e28f"
   },
   "outputs": [
    {
     "name": "stdout",
     "output_type": "stream",
     "text": [
      "Normalized confusion matrix\n"
     ]
    },
    {
     "data": {
      "image/png": "[encoded data removed]",
      "text/plain": [
       "<Figure size 432x288 with 2 Axes>"
      ]
     },
     "metadata": {
      "needs_background": "light",
      "tags": []
     },
     "output_type": "display_data"
    }
   ],
   "source": [
    "plot_confusion_matrix(Y_test_bin, [int(i>0.97) for i in model.predict(X_test_scaled)],\n",
    "                      classes=['rise','fall'], normalize=True,\n",
    "                      title='Normalized confusion matrix')\n",
    "\n",
    "plt.show()"
   ]
  },
  {
   "cell_type": "markdown",
   "metadata": {
    "colab_type": "text",
    "id": "cD9_OyKgovY4"
   },
   "source": [
    "More exploration on LSTMs: http://blog.echen.me/2017/05/30/exploring-lstms/<br>\n",
    "More on RNNs: http://karpathy.github.io/2015/05/21/rnn-effectiveness/"
   ]
  },
  {
   "cell_type": "markdown",
   "metadata": {
    "colab_type": "text",
    "id": "Z66STTJAovY5"
   },
   "source": [
    "more on backprop with examples also on other RNNs https://datascience-enthusiast.com/DL/Building_a_Recurrent_Neural_Network-Step_by_Step_v1.html<br>\n",
    "more on LSTM and GRU https://towardsdatascience.com/illustrated-guide-to-lstms-and-gru-s-a-step-by-step-explanation-44e9eb85bf21"
   ]
  },
  {
   "cell_type": "code",
   "execution_count": 0,
   "metadata": {
    "colab": {},
    "colab_type": "code",
    "id": "Zn1yhLfCzja-"
   },
   "outputs": [],
   "source": [
    "sentences = \"\"\"I ate dinner.\n",
    "We had a three-course meal.\n",
    "Brad came to dinner with us.\n",
    "He loves fish tacos.\n",
    "In the end, we all felt like we ate too much.\n",
    "We all agreed; it was a magnificent evening.\n",
    "I hope that, when I've built up my savings, I'll be able to travel to Mexico.\n",
    "Did you know that, along with gorgeous architecture, it's home to the largest tamale?\n",
    "Wouldn't it be lovely to enjoy a week soaking up the culture?\n",
    "Oh, how I'd love to go!\n",
    "Of all the places to travel, Mexico is at the top of my list.\n",
    "Would you like to travel with me?\n",
    "Isn't language learning fun?\n",
    "There is so much to understand.\n",
    "I love learning!\n",
    "Sentences come in many shapes and sizes.\n",
    "Nothing beats a complete sentence.\n",
    "Once you know all the elements, it's not difficult to pull together a sentence.\"\"\""
   ]
  },
  {
   "cell_type": "code",
   "execution_count": 0,
   "metadata": {
    "colab": {},
    "colab_type": "code",
    "id": "9tS84wIpz5D_"
   },
   "outputs": [],
   "source": [
    "sentences = sentences.split('\\n')"
   ]
  },
  {
   "cell_type": "code",
   "execution_count": 0,
   "metadata": {
    "colab": {},
    "colab_type": "code",
    "id": "NytjQYI0z_Ig"
   },
   "outputs": [],
   "source": [
    "from tensorflow.keras.preprocessing.text import Tokenizer\n",
    "from tensorflow.keras.preprocessing.sequence import pad_sequences\n",
    "from tensorflow.keras.layers import Masking,Embedding"
   ]
  },
  {
   "cell_type": "code",
   "execution_count": 0,
   "metadata": {
    "colab": {},
    "colab_type": "code",
    "id": "gYPlbsR-0GYl"
   },
   "outputs": [],
   "source": [
    "# vocab is the size of vocabulary, tokenizer automatically drops\n",
    "# infrequent words and replaces them with oov_token\n",
    "vocab = 50\n",
    "tokenizer = Tokenizer(num_words = vocab, oov_token='dummy')"
   ]
  },
  {
   "cell_type": "code",
   "execution_count": 0,
   "metadata": {
    "colab": {},
    "colab_type": "code",
    "id": "30TYlZYe0Gep"
   },
   "outputs": [],
   "source": [
    "tokenizer.fit_on_texts(sentences)"
   ]
  },
  {
   "cell_type": "code",
   "execution_count": 0,
   "metadata": {
    "colab": {},
    "colab_type": "code",
    "id": "Pt31EkCb0GdH"
   },
   "outputs": [],
   "source": [
    "# 1 is always the dummy token\n",
    "tokenized = tokenizer.texts_to_sequences(sentences)"
   ]
  },
  {
   "cell_type": "code",
   "execution_count": 0,
   "metadata": {
    "colab": {
     "base_uri": "https://localhost:8080/",
     "height": 340
    },
    "colab_type": "code",
    "id": "qPsbzqnh0Gbv",
    "outputId": "84341b27-e4c3-4c44-ac26-8652666baf9b"
   },
   "outputs": [
    {
     "data": {
      "text/plain": [
       "array([[ 7, 11, 12,  0,  0,  0,  0,  0,  0,  0,  0,  0,  0,  0,  0,  0],\n",
       "       [ 5, 29,  4, 30, 31, 32,  0,  0,  0,  0,  0,  0,  0,  0,  0,  0],\n",
       "       [33, 34,  2, 12,  8, 35,  0,  0,  0,  0,  0,  0,  0,  0,  0,  0],\n",
       "       [36, 37, 38, 39,  0,  0,  0,  0,  0,  0,  0,  0,  0,  0,  0,  0],\n",
       "       [13,  3, 40,  5,  6, 41, 14,  5, 11, 42, 15,  0,  0,  0,  0,  0],\n",
       "       [ 5,  6, 43, 16, 44,  4, 45, 46,  0,  0,  0,  0,  0,  0,  0,  0],\n",
       "       [ 7, 47, 17, 48, 49,  1, 18, 19,  1,  1, 20,  1,  2,  9,  2, 21],\n",
       "       [ 1, 10, 22, 17,  1,  8,  1,  1, 23,  1,  2,  3,  1,  1,  0,  0],\n",
       "       [ 1, 16, 20,  1,  2,  1,  4,  1,  1, 18,  3,  1,  0,  0,  0,  0],\n",
       "       [ 1,  1,  1, 24,  2,  1,  0,  0,  0,  0,  0,  0,  0,  0,  0,  0],\n",
       "       [25,  6,  3,  1,  2,  9, 21, 26,  1,  3,  1, 25, 19,  1,  0,  0],\n",
       "       [ 1, 10, 14,  2,  9,  8,  1,  0,  0,  0,  0,  0,  0,  0,  0,  0],\n",
       "       [ 1,  1, 27,  1,  0,  0,  0,  0,  0,  0,  0,  0,  0,  0,  0,  0],\n",
       "       [ 1, 26,  1, 15,  2,  1,  0,  0,  0,  0,  0,  0,  0,  0,  0,  0],\n",
       "       [ 7, 24, 27,  0,  0,  0,  0,  0,  0,  0,  0,  0,  0,  0,  0,  0],\n",
       "       [ 1,  1, 13,  1,  1,  1,  1,  0,  0,  0,  0,  0,  0,  0,  0,  0],\n",
       "       [ 1,  1,  4,  1, 28,  0,  0,  0,  0,  0,  0,  0,  0,  0,  0,  0],\n",
       "       [ 1, 10, 22,  6,  3,  1, 23,  1,  1,  2,  1,  1,  4, 28,  0,  0]],\n",
       "      dtype=int32)"
      ]
     },
     "execution_count": 113,
     "metadata": {
      "tags": []
     },
     "output_type": "execute_result"
    }
   ],
   "source": [
    "# post padding\n",
    "pad_sequences(tokenized,padding='post')"
   ]
  },
  {
   "cell_type": "code",
   "execution_count": 0,
   "metadata": {
    "colab": {
     "base_uri": "https://localhost:8080/",
     "height": 340
    },
    "colab_type": "code",
    "id": "T4R7ZWix2wyZ",
    "outputId": "7372333e-464c-4a16-abd8-96c0b9ac2d81"
   },
   "outputs": [
    {
     "data": {
      "text/plain": [
       "array([[ 0,  0,  0,  0,  0,  0,  0,  0,  0,  0,  0,  0,  0,  7, 11, 12],\n",
       "       [ 0,  0,  0,  0,  0,  0,  0,  0,  0,  0,  5, 29,  4, 30, 31, 32],\n",
       "       [ 0,  0,  0,  0,  0,  0,  0,  0,  0,  0, 33, 34,  2, 12,  8, 35],\n",
       "       [ 0,  0,  0,  0,  0,  0,  0,  0,  0,  0,  0,  0, 36, 37, 38, 39],\n",
       "       [ 0,  0,  0,  0,  0, 13,  3, 40,  5,  6, 41, 14,  5, 11, 42, 15],\n",
       "       [ 0,  0,  0,  0,  0,  0,  0,  0,  5,  6, 43, 16, 44,  4, 45, 46],\n",
       "       [ 7, 47, 17, 48, 49,  1, 18, 19,  1,  1, 20,  1,  2,  9,  2, 21],\n",
       "       [ 0,  0,  1, 10, 22, 17,  1,  8,  1,  1, 23,  1,  2,  3,  1,  1],\n",
       "       [ 0,  0,  0,  0,  1, 16, 20,  1,  2,  1,  4,  1,  1, 18,  3,  1],\n",
       "       [ 0,  0,  0,  0,  0,  0,  0,  0,  0,  0,  1,  1,  1, 24,  2,  1],\n",
       "       [ 0,  0, 25,  6,  3,  1,  2,  9, 21, 26,  1,  3,  1, 25, 19,  1],\n",
       "       [ 0,  0,  0,  0,  0,  0,  0,  0,  0,  1, 10, 14,  2,  9,  8,  1],\n",
       "       [ 0,  0,  0,  0,  0,  0,  0,  0,  0,  0,  0,  0,  1,  1, 27,  1],\n",
       "       [ 0,  0,  0,  0,  0,  0,  0,  0,  0,  0,  1, 26,  1, 15,  2,  1],\n",
       "       [ 0,  0,  0,  0,  0,  0,  0,  0,  0,  0,  0,  0,  0,  7, 24, 27],\n",
       "       [ 0,  0,  0,  0,  0,  0,  0,  0,  0,  1,  1, 13,  1,  1,  1,  1],\n",
       "       [ 0,  0,  0,  0,  0,  0,  0,  0,  0,  0,  0,  1,  1,  4,  1, 28],\n",
       "       [ 0,  0,  1, 10, 22,  6,  3,  1, 23,  1,  1,  2,  1,  1,  4, 28]],\n",
       "      dtype=int32)"
      ]
     },
     "execution_count": 114,
     "metadata": {
      "tags": []
     },
     "output_type": "execute_result"
    }
   ],
   "source": [
    "# pre padding\n",
    "pad_sequences(tokenized,padding='pre')"
   ]
  },
  {
   "cell_type": "code",
   "execution_count": 0,
   "metadata": {
    "colab": {},
    "colab_type": "code",
    "id": "gbH0XKn52zOZ"
   },
   "outputs": [],
   "source": [
    "padded = pad_sequences(tokenized,padding='post')\n",
    "max_len = padded.shape[1] # the maximum a sentence can be"
   ]
  },
  {
   "cell_type": "code",
   "execution_count": 0,
   "metadata": {
    "colab": {},
    "colab_type": "code",
    "id": "bbB4rz-N3dEZ"
   },
   "outputs": [],
   "source": [
    "model = Sequential()\n",
    "# Masking layer masks the values of 0s so they are not calculated\n",
    "model.add(Masking(mask_value=0., input_shape=(max_len,)))\n",
    "# embedding layer is very much like Dense but is exploiting the information\n",
    "# that it only recieves one hot vectors and becomes just a look up table\n",
    "model.add(Embedding(vocab, 8, input_length=None)) \n",
    "# we can do it in shorter version\n",
    "# model.add(Embedding(vocab, 8, input_length=None, mask_zero = True)) \n",
    "model.add(BatchNormalization())\n",
    "model.add(GRU(128,return_sequences = True))\n",
    "model.add(GRU(128,return_sequences = True))\n",
    "model.add(GRU(128))\n",
    "model.add(Dropout(0.5))\n",
    "model.add(Dense(1, activation = 'sigmoid'))\n",
    "\n",
    "model.compile(optimizer = 'adam', loss = 'binary_crossentropy',metrics = ['accuracy'])"
   ]
  },
  {
   "cell_type": "code",
   "execution_count": 0,
   "metadata": {
    "colab": {
     "base_uri": "https://localhost:8080/",
     "height": 391
    },
    "colab_type": "code",
    "id": "gUHCw1dp4nHp",
    "outputId": "d1f5f663-e63c-4fdc-e5ef-81622b6d5e29"
   },
   "outputs": [
    {
     "name": "stdout",
     "output_type": "stream",
     "text": [
      "Train on 18 samples\n",
      "Epoch 1/10\n",
      "18/18 [==============================] - 2s 124ms/sample - loss: 0.6243 - acc: 0.8333\n",
      "Epoch 2/10\n",
      "18/18 [==============================] - 0s 13ms/sample - loss: 0.3223 - acc: 1.0000\n",
      "Epoch 3/10\n",
      "18/18 [==============================] - 0s 15ms/sample - loss: 0.0826 - acc: 1.0000\n",
      "Epoch 4/10\n",
      "18/18 [==============================] - 0s 13ms/sample - loss: 0.0101 - acc: 1.0000\n",
      "Epoch 5/10\n",
      "18/18 [==============================] - 0s 13ms/sample - loss: 0.0011 - acc: 1.0000\n",
      "Epoch 6/10\n",
      "18/18 [==============================] - 0s 13ms/sample - loss: 3.6161e-04 - acc: 1.0000\n",
      "Epoch 7/10\n",
      "18/18 [==============================] - 0s 13ms/sample - loss: 1.5872e-04 - acc: 1.0000\n",
      "Epoch 8/10\n",
      "18/18 [==============================] - 0s 13ms/sample - loss: 7.5121e-05 - acc: 1.0000\n",
      "Epoch 9/10\n",
      "18/18 [==============================] - 0s 13ms/sample - loss: 1.4525e-05 - acc: 1.0000\n",
      "Epoch 10/10\n",
      "18/18 [==============================] - 0s 13ms/sample - loss: 2.2673e-06 - acc: 1.0000\n"
     ]
    },
    {
     "data": {
      "text/plain": [
       "<tensorflow.python.keras.callbacks.History at 0x7f4c4480eda0>"
      ]
     },
     "execution_count": 121,
     "metadata": {
      "tags": []
     },
     "output_type": "execute_result"
    }
   ],
   "source": [
    "model.fit(padded,np.zeros(18),\n",
    "          batch_size = 8, epochs = 10, verbose = 1)"
   ]
  },
  {
   "cell_type": "markdown",
   "metadata": {
    "colab_type": "text",
    "id": "fq9WFlC6s00-"
   },
   "source": [
    "### Exercise\n",
    "Try LSTM and GRU on imdb dataset"
   ]
  },
  {
   "cell_type": "code",
   "execution_count": 0,
   "metadata": {
    "colab": {},
    "colab_type": "code",
    "id": "R7WLDD1qs7KS"
   },
   "outputs": [],
   "source": []
  }
 ],
 "metadata": {
  "colab": {
   "collapsed_sections": [],
   "name": "Reccurent Neural Networks.ipynb",
   "provenance": []
  },
  "kernelspec": {
   "display_name": "Python 3",
   "language": "python",
   "name": "python3"
  },
  "language_info": {
   "codemirror_mode": {
    "name": "ipython",
    "version": 3
   },
   "file_extension": ".py",
   "mimetype": "text/x-python",
   "name": "python",
   "nbconvert_exporter": "python",
   "pygments_lexer": "ipython3",
   "version": "3.7.4"
  }
 },
 "nbformat": 4,
 "nbformat_minor": 1
}

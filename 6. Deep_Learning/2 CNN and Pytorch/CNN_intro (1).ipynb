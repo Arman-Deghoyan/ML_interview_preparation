{
 "cells": [
  {
   "cell_type": "markdown",
   "metadata": {
    "colab_type": "text",
    "id": "IOw4trrGDUzg"
   },
   "source": [
    "# CNN - Convolutional Neural Networks "
   ]
  },
  {
   "cell_type": "markdown",
   "metadata": {
    "colab_type": "text",
    "id": "CFCwI_4TuMWF"
   },
   "source": [
    "### How computer sees image?\n",
    "\n",
    "![](https://analyticsindiamag.com/wp-content/uploads/2018/02/AIM_Logo_RGB-1-copy.png)"
   ]
  },
  {
   "cell_type": "markdown",
   "metadata": {
    "colab_type": "text",
    "id": "eOfRnp_hDUzi"
   },
   "source": [
    "The dimensionality of MNIST dataset is $28\\times 28\\times 1=784$. Note that the images are greyscale and the resolution is lower than what is usually found in real world. \n",
    "Mathematically images can be uniquely represented as $H×W\\times C$ shaped tensor where $H$ and $W$ are the pixel resolutions for each side and $C$ represents the number of color channels. In each channel every element of the matrix is in range $[0,255]$ which represents spectrum of Red, Green, Blue colors ($RGB$). \n",
    "For example:\n",
    "\n",
    "$1080p(1920×1080)$ image resolution can be represented by $1920×1080×3 = 6.220.800$ numbers<br/>\n",
    "$1440p(1920×1440)$ image resolution can be represented by $1920×1440×3 = 8.294.400$ numbers<br/>\n",
    "$4k(3840×2160)$ image resolution can be represented by $3840×2160×3 = 324.883.200$ numbers\n"
   ]
  },
  {
   "cell_type": "markdown",
   "metadata": {
    "colab_type": "text",
    "id": "MMSM6UR3BmjH"
   },
   "source": [
    "## Kernel"
   ]
  },
  {
   "cell_type": "markdown",
   "metadata": {
    "colab_type": "text",
    "id": "fk09yM1RVHok"
   },
   "source": [
    "![](https://i.pinimg.com/originals/dc/62/e2/dc62e297becf77b016e2c9f5d05b0dc9.gif)"
   ]
  },
  {
   "cell_type": "markdown",
   "metadata": {
    "colab_type": "text",
    "id": "1AHMIdLuWb3t"
   },
   "source": [
    "We as humans see in shapes, so how we can help NN-s to see shapes not single pixels? "
   ]
  },
  {
   "cell_type": "markdown",
   "metadata": {
    "colab_type": "text",
    "id": "h63gXDBqYTif"
   },
   "source": [
    "For simplicity lets think of greyscale (1 channel) image\n",
    "![](https://www.tensorflow.org/images/MNIST-Matrix.png)"
   ]
  },
  {
   "cell_type": "markdown",
   "metadata": {
    "colab_type": "text",
    "id": "hYGWF1KRZY2P"
   },
   "source": [
    "How is it different from this\n",
    "\n",
    "![](https://raw.githubusercontent.com/rohan-varma/rohan-blog/master/images/mnistimg.png)"
   ]
  },
  {
   "cell_type": "markdown",
   "metadata": {
    "colab_type": "text",
    "id": "s8OZD8IReyYv"
   },
   "source": [
    "What if we try to featurize the picture?\n",
    "\n",
    "We can decompose any image to collection of simple geometric shapes, like edges, lines, etc. Than use that to classify the image\n",
    "\n",
    "For example:\n",
    "\n",
    "$1$ can be thought as single straight line somewhere in the center of the image\n",
    "\n",
    "$8$ can be though as $2$ linked curved ball like features in the center of the image, etc\n",
    "\n",
    "For more complex examples the relationship is more hierarchical. E.G. using simpler features you compose more complex features"
   ]
  },
  {
   "cell_type": "markdown",
   "metadata": {
    "colab_type": "text",
    "id": "FvPEGnmuhEXh"
   },
   "source": [
    "We need to emphasize certain features or remove other features. In classical image processing it's called image filtering. \n",
    "\n",
    "And the way way to define what features we want in new image is called kernel or filter."
   ]
  },
  {
   "cell_type": "markdown",
   "metadata": {
    "colab_type": "text",
    "id": "ZioHXmIjuHkG"
   },
   "source": [
    "Let's show how it works on example below\n",
    "We have $5\\times 5\\times 1$ matrix which represents image. To perform convolution we take $N\\times M$ matrix (usually $3×3$ or $5×5$, in our case $3\\times 3$) and stride it by $1$ (one pixel at a time, note that it' not necessary to stride by $1$) to the right. On each step we perform elementwise matrix multiplication, sum the products and write down the resulted number in new matrix."
   ]
  },
  {
   "cell_type": "markdown",
   "metadata": {
    "colab_type": "text",
    "id": "QeVZS_C89F9h"
   },
   "source": [
    "![](http://machinelearninguru.com/_images/topics/computer_vision/basics/convolution/3.JPG)\n",
    "![](https://miro.medium.com/max/1052/1*GcI7G-JLAQiEoCON7xFbhg.gif)"
   ]
  },
  {
   "cell_type": "markdown",
   "metadata": {
    "colab_type": "text",
    "id": "QHsQ6XRkDUzi"
   },
   "source": [
    "## CNN"
   ]
  },
  {
   "cell_type": "markdown",
   "metadata": {
    "colab_type": "text",
    "id": "36e_zsAJDUzj"
   },
   "source": [
    "Architecture of CNN can be described by 3 distinct layers:\n",
    "1. Convolutional layer\n",
    "2. Pooling layer\n",
    "3. Fully connected layer\n",
    "\n"
   ]
  },
  {
   "cell_type": "markdown",
   "metadata": {
    "colab_type": "text",
    "id": "wJv0YKv6DUzj"
   },
   "source": [
    "![](https://static.wixstatic.com/media/d77a32_076f341258d24f47852625faaa726620~mv2.jpeg/v1/fill/w_1422,h_760,al_c,q_85,usm_0.66_1.00_0.01/1_uAeANQIOQPqWZnnuH-VEyw.webp)"
   ]
  },
  {
   "cell_type": "markdown",
   "metadata": {
    "colab_type": "text",
    "id": "u5ZTGIJ0DUzj"
   },
   "source": [
    "### Convolutional layer\n",
    "\n",
    "First layer of CNN is called convolutional layer."
   ]
  },
  {
   "cell_type": "markdown",
   "metadata": {
    "colab_type": "text",
    "id": "y-GhTKzEDUzk"
   },
   "source": [
    "![](https://miro.medium.com/max/1052/1*GcI7G-JLAQiEoCON7xFbhg.gif)"
   ]
  },
  {
   "cell_type": "markdown",
   "metadata": {
    "colab_type": "text",
    "id": "bxWtx2-WDUzk"
   },
   "source": [
    "As you may have noticed in this example after convolution the size of matrix decreased from $5\\times 5$ to $3\\times 3$."
   ]
  },
  {
   "cell_type": "markdown",
   "metadata": {},
   "source": [
    "First, the depth of the output volume is a hyperparameter: it corresponds to the number of filters we would like to use, each learning to look for something different in the input. For example, if the first Convolutional Layer takes as input the raw image, then different neurons along the depth dimension may activate in presence of various oriented edges, or blobs of color. \n",
    "\n",
    "Second, we must specify the stride with which we slide the filter. When the stride is 1 then we move the filters one pixel at a time. When the stride is 2 (or uncommonly 3 or more, though this is rare in practice) then the filters jump 2 pixels at a time as we slide them around. This will produce smaller output volumes spatially.\n",
    "\n",
    "It is convenient to pad the input with zeros around the border. The size of this zero-padding is a hyperparameter. The main benefit of zero padding is to allow the control of the size's output. Most commonly we will use it to keep the input and output of convolutional layer same size (width and height), as the pooling layer will be used for downsampling."
   ]
  },
  {
   "cell_type": "markdown",
   "metadata": {
    "colab_type": "text",
    "id": "kVTDmaarDUzl"
   },
   "source": [
    "In case of full image with all RGB colors:"
   ]
  },
  {
   "cell_type": "markdown",
   "metadata": {
    "colab_type": "text",
    "id": "rJpP_TYfDUzm"
   },
   "source": [
    "![](https://miro.medium.com/max/2560/1*ciDgQEjViWLnCbmX-EeSrA.gif)"
   ]
  },
  {
   "cell_type": "markdown",
   "metadata": {
    "colab_type": "text",
    "id": "IsZEN5kWDUzn"
   },
   "source": [
    "![](https://miro.medium.com/max/3726/1*wqZ0Q4mBaHKjqWx45GPIow.gif)"
   ]
  },
  {
   "cell_type": "markdown",
   "metadata": {
    "colab_type": "text",
    "id": "y6g5SaRzDUzn"
   },
   "source": [
    "$X$ matrix is the input and $W$ Matrix is the kernel wieghts we should learn. Thus, convolutional layers adopt the idea of weight sharing, i.e. same weight connections are used between some set of neurons (this means the backprop will update those 2 weights identically). Weight sharing also has the feature of being position invariant, i.e. it cares that an object (e.g. person) exists but not where it is."
   ]
  },
  {
   "cell_type": "markdown",
   "metadata": {
    "colab_type": "text",
    "id": "Jjms-GNLDUzn"
   },
   "source": [
    "The amount of learnt weights for each convolutional layer are \n",
    "\n",
    "$N\\times M\\times D_0\\times D_1 +D_1(bias)$ \n",
    "\n",
    "where:\n",
    "\n",
    "$N\\times M$ are the dimensions of the kernel \n",
    "\n",
    "$D_0$ is the number of channels (also number of kernels) from previous layer. \n",
    "\n",
    "$D_1$ is the number of kernels for current layer. \n",
    "\n",
    "For 3x3 sized kernel and 32 kernels and for 1 color channel image we will have $3\\times 3\\times 1\\times 32+32 = 320$ parameters to learn. For 3 color channel image the number of parameters will be $3\\times 3\\times 3\\times 32+32 = 896$"
   ]
  },
  {
   "cell_type": "markdown",
   "metadata": {
    "colab_type": "text",
    "id": "5mVHT8rcDUzo"
   },
   "source": [
    "![title](https://miro.medium.com/max/1600/1*QgiVWSD6GscHh9nt55EfXg.gif)"
   ]
  },
  {
   "cell_type": "markdown",
   "metadata": {
    "colab_type": "text",
    "id": "sxFFKUhtDUzo"
   },
   "source": [
    "Suppose we use padding in a way which creates the same dimensions of image. If we use fully connected layer then the number of parameters would be 32x32x32x32+32x32 which is already a huge number."
   ]
  },
  {
   "cell_type": "markdown",
   "metadata": {
    "colab_type": "text",
    "id": "pUx9OVuDx5mc"
   },
   "source": [
    "![](data:image/jpeg;base64,/9j/4AAQSkZJRgABAQAAAQABAAD/2wCEAAkGBxITEhUTEhMTEhUXGR4bGRcXGRcdGxoiGh0bIB0YFxkeHCggGholHh4YIzEiJy03Li4uHR8zODMsNygtLisBCgoKBQUFDgUFDisZExkrKysrKysrKysrKysrKysrKysrKysrKysrKysrKysrKysrKysrKysrKysrKysrKysrK//AABEIAPQAzgMBIgACEQEDEQH/xAAcAAEAAgMBAQEAAAAAAAAAAAAABQYDBAcCAQj/xABIEAACAQMCAwUEBwUGBAQHAAABAgMABBESIQUxQQYTIlFhIzJCcQcUM1JigZFDcoKhsSRTkrLB0RU0Y/Bz0uHxCDVEVGSDk//EABQBAQAAAAAAAAAAAAAAAAAAAAD/xAAUEQEAAAAAAAAAAAAAAAAAAAAA/9oADAMBAAIRAxEAPwDuNKUoFKUoFKUoFKUoFKUoFeZJAoLMcAbkmvVUvtLxkyP3aH2YXJ/Ef9v/AH8qCIu+PXt1fxLZydyq95gMhdGCoT7dQQQGYKMggr03zm38I7Qh5Pq9xGbW6GT3THKyAc3t5NhKn6MvxKtUX6N+KJ9dZJPYyMjBUcgajlTiNuUmwJwN8DcCukcX4TDcp3c6BwCGU7hkYcnjYeJHHRgQRQb1Kqn/ABC44eMXZe6tRyugo7yIf/lIo8SgftUH7yjdjZ7edJFV42V0YAqykFWB5FSNiD50GSlKUClKUClKUClKUClKUClKUClKUClKUClKUClKgu0/FTHGyxnD43I+HP8ArQR/aftLGpMQkVBq0u5IAJP7ME9eh/TzqpcVhm70vDIPcGY5BlDueTDDIT57j8NR/CuIaVIngdV5FlHeoc+ekagPVlAr3FZwsWaymEYC8oyrxdfCYzkL8l0mgg7e3gurmCC+UwxGVtZZwq/ZSBCkuwJ7wpgHBP3cZroSxcW4Z7hbi9mPhY4u4x+E4xPgdPeJwBgVUeyPHDBLJ9ftWkiZGV3hQzRAEqSZExqCbY3B5ir1wa2hkXvuDXyKnWAnvYP3e6JD2535KQB900E12a7V2l8pMEnjXZ4nGmWM8iHQ7jB2zy9a07ngM1szTcOKrk5e0ckQSHO7RkA9xKd91Glj7y5OoQHaCG1mYHidu/Dbldo76FyEB3AK3agadvhmC88DPOt+LinEbED6yh4la4yLm3Ud8o2wZYAcOOupOgyRQWLgfH4rnUoDRTR/aQSDTJH816qejrlT0JqVquGKy4nGlxbzZZN4riFtMkZPMeYB6xuMHqtY7bj0tsyw8S0Lk4S7QEQyHosgJPcSHyJ0k+62fCAs9KUoFKUoFKUoFKUoFKUoFKUoFKUoFKVq8RvliXUdz0Hmf9qDV4/xqK2TVI6p6scAZ6seg+dc+4liZHlhum3JPgZHjYZzkggjfPNSDy3rbfil5qZ5LdZMnnFMCcdPDIqAH01VW+JPbMrNLayxSMT4+6bUMnkZYdWP8WKDLwae5QYMaTjzjbQ/5I50n/GK0+OGGSYuzi2k0hQJ4zGScnaOZWRtR/C7DblWhZSwMDGL0DP7OUqwyORwxWXPyYVsyR3CkpGzyLp3KSag2M5Gi4DjT8pBQadnNxGJh9WaYMWHiiAlwPyTWV5bGN/6Vmm44GlzdWayTrzuLFmgu1yBhmRcOzdMyIg5bVpdn+ICCZvaCzfcDLS2gz5Fgk0Dn95dJ5+VXV+NXE0R7+1h4tAORMcUp8tpLYygtz5wp+VB47O9vjINMN5BfKRj6vegW1zvsEWUAwzNz2wM+fnKW89vE4W2km4LOzbW1yn9mkOeSLq7rf8A6Dqd9wTtVK4knALptEz3PDZj0mBkXf8AE2p419CyY32FfbfsZxeCInhl7b8StG27kMjxsM7r3UpaMD5Nn86C68VgRJO+uo5OF3B/+vtDqgc7fb+HBXl9smOgapUcfkij08SijntnGPrdupkgZSDvPFu0QI5t4k35iuV2/bG5sGC3Nvd8LO49kpe2bfpbTHAHPJikXPlUxwftNEXMlswhkO7Pw/LRuc7tccMlCvyxl4stz8dBfraCW0RZbA/XbIgEW6urMi+dpITh0x+yY9PCw2U2Lg/F4bqPvIHDgEqw3DIw5pIp8SOOqkZrl/D+Lx5ea3kS1kzmSazBltXPU3lkcS27HG76dushqQm4uhZLicrw+4YALfwMJbG4xySV9ho54Emllx4X8w6dSq7wbtLqdYLtFt7hhlMNqhnA+K2lwNe2+g4ceRG5sVApSlApSlApSlApSlApSvEsgUFmOAOZoPF1crGpZjgD+foK512l4tFIxW4Z0DAEaTMoUZ2xImMHI5Zyfka99p+1Sd4Q/e6QAVCxSuOZ3LIhXVtyz5fnWZe1MTcu+Hzhn/8AJQY34rbA6IeISIfWeNv175XJ+VY+IXF0q5ikW4Xc50wk9eeJo/TcA8+VbB4zCI8K+HPLMMjAdTlTpzt6+VV+8lSQlpWsn+dq49fDlj8s0H294zJGuJrYMG55D5x+6Ecb/OtC5vrFCCbVoiQMFWERGTufC6tn8sVqy93u2i2AB5K7xjfooCnccv8As1htL9ctI7gBQSFF0xbIG2kPzx0HnignLLiPd6jaXtzDIxRF71Wki9pKinWXjbKhSW5/DtnlWVorknUj8AvZc5DRSJbznlvqjaBgfz86i+G8Us2Y9+JsY2/+WvvkYPtwfX1/nUnxQWDp4DIcdcWRxy2C29/GMjCYGPhXIOBgN++v+LBQslheSRnbTqjvoufUSRyOR/8AtHIcqqc3aaOCbVJw428mnAktmnspRud9Id08j7v9KhOLTW8cg7pJEccyns9ORsF9tNnnuc8tuua2+Hdo704xxSSIY9yWW4YeRyojZDnJI8vnQXrhn0sKBoa5mZCMFL23jmX5GaFo3PzMbVocR4pwK4BaaxWI/wB7w+ZRy6iCVYiPP3Dt1qtT8QnbxM/C7rJwcx2yMduZLRxyY6Zz5Y2qLnuIstrtLcYAJMM753Pw5lkU/IDbNBb3tLaVg9pxeGVh7ovhJDKmOQW6G5I8gwG5rWu5OM2YMgiYxsPHIuieKQYGe+aPMcuR1kBbc71z+QjJ0ggdATk/mcDP6VKcJ45LbsDG2NgNQXS45E6XQhxg5xhh+VBa+FdsoWUxELaqxy0D65LJzljqVMma0fJyGiJ3A2UCr/2d+lRbbRHel2hbZJCRK6YwD7ZPDdRjIywxIvJlbdq4pfcflmz3wjlz1ZAXHl7X7U4/Ex9c1oQ3LqGVWIVveXocZxkciRk4PTmKD9r2d3HKiyROsiMMqykEEeYIrFxPiUNvGZZ5Y4UHxOwUegyevpX5F7Odsb+xVltLholc5ZcKy5+8FcEBsYGRvsPKuwfRTweTiq/X+KyNdiNjHbxSY7sdXkZANLHLaRkfD1wuAutn9KHB5H0Lexg+brIi/wCN1C/zq3owIBBBB3BHI+orSv8Ag1tNGYpoIpIyMaWRSPyGNiPMcqpPZBjw2/n4W0jNbGIXNqXOe7UvoeHUegbcDyBPM0HRKUpQKUpQfCcbnaua9ru1TSErCjyRK2MKUBY7+M62UafIc+vylO3HG5CDDAFPLUWYgNv7uQCcf15cufPrkXG/2C+o7w/PyoMF1xSWQ5+rTYBAA1Qfz9pWtJdShCTBMo1BchojjHPADk9RWWK2uSc95Cuf+k55dftQOtYL67uEXT39qB1LFY9/PfXQR11eRDfuLzfc4kn3/IPjFee8JH/KcQY9BqucDy3Liskd3MTkXkOR1jCy4+Xs6zrNcupze3TfhWz0D/EVAoIeczs2hLebTk7M05PP4v7VjP6b5r5bcPuWV4xBIuoEbNIMA7YAa7Cn8wfXNbdy0iAe1vtyBkNAnP8APIrVKkc5lVjnxTXj5x5FU/3oJ3s3wi9kkIS3nY6T7kzqeY6/Xl2/OpubsreE+0tpFPLVLdkDlkAkcQZv0BrnMItmYi5vcDHuoLiRW3GBuRkZ394cuhxjas72wyEt7NrmQ+6ogcMT/FdTA7b40UE/xTgQUnv7qK323ReIjBHL3CJXJO48tuXnR+Iw2KMFi7yXfdhMAo/N7ZT+eMVMcS4Zd4JNnHaA9Lj6nEenLvI0br+vyqCueFKp8d1ag4AwhduQxzjjKE7DruTk9aDJf2tmE9m+HwdjK77jG21qqnO+MNj184eIrkagSvUAgH8iQcfpW9PeRqfYxxn8TIc/4XkdceuOprHLxSVlKagqnmEREB+ehRnkOdBrTlCfAGVfJmDH9Qo/pWOsscDMrMMYXnllHPyBOWOx2FYqBSvrD1zUlZ2LoFmdzbIR4W31uCCPZICCwIyNWycwWHKgjK77/wDD32rhMDcPkdUlVy8QJA7xWGSq+bKQxx5H0OOedlPo8n4jLphQ28CbSTyHUQT8OBgGTG+gY0gjUdwT3aL6L+Fi1W27jIU6hLnE2r7/AHgwc7Db3dhttQXJ2ABJIAG5J5D1Nc44GycT4tcXaeO0t4Bao4ziRy4kdkPVRy8jlSOdbY+iyBvDPe8Tuov7ma5JjOOhAAP6Grrw+xigjWKFFjjQYVFGAPy/nQbFKUoFV3tNxrQDFGfEfeI+HPQfiP8AKtvtDxfuV0p9oRt+EfeP+lcv4oCCXa4mQH4QYwM9SWKazk7+9QYb6xfVhri4k2GMmJf8ka1Gy8PhUEyyyAfjuJAN+pBfGOfSvkS2jFi0j3HQhZJ5vy0IWA/Sty3RIh7DhzljyIjhj5+epg3nuRQRt1ccNTAS2+uHHOKMTDny1E4z6Zz+tYW4lLkfV+HlB+LRGf8ADgf1qwXNxxHu9RgtbZfOaUvj8kAGf4qr1xI5BZr4uBnItYNWPPMgD4/lQZp3v3jIP1eBT1LMHX1DDUP5VWeOKI8KeId8Tuw72R9PmPCwGR5Yr04tC2RbXF1JzJmkwfmUUlsfw1gF46xzGOO1hDgAhUVnRemN9ak556eQ57UGlZQwswxDcXAI30KN/M5Kk8+ua2uIBY9SrawQf+POZH/JA2x/hqN7wP8AaTu2R7pJA3PLbLDz9yvH/CGOWCSBB8TaY1A89Tc/0FB4QxMQskp3PuwQg5PQYJTPz3rdl4rIimNPrEanbQ82hPn3SCMAn59TzJrVEWPD38cK9Spfl6hRqY/Jceorf4YLEYSOCS8lY4BmLqufJbeAmRjjqZMHyFBXghdtK6B0G4A/Vj/Wto8PjQkTTBCOaIjM4P56U/MN+tWy7mwCjzraE7dzaRp3pOw0mOE9N/tZtX4aqfFo40OlEI6kvIrv/EEwqHY5U5IzuaD0Lm1T3IGlPnM5Cn10R6Sp/jNa19emUglI0A5CNFUD5kDLfNiTXmKxkaNpQh7tTgudlz93Udi3XTz9Ky2E0KAtJGZn+FSxWP5vp8bfIFcY5nlQagU4zg4HM9N+X9D+lfY4iwJHJRk8thkD+pFbN5xCWbAYgKD4UUKka5+6owq+p/Wt3hfAHnYKuSNeguoLDJ5JGBvLIfJfmcLlgHzhk6KAIYe9nIJMkukpHjOSsZ8GANy8mQOeFxqrqf0ffRfJcMLq8eQo2G1sWEkuP7st4kQ/3h8TD3Qow5tf0e/RfHbKJLlMnZhCdLYI3DTsNpHHRB4ExtqbxnptBgsbOOGNYokWONBhVUAAD0AqH7WdrbewVO8EksshxFBEuqWQ/hXyHU/1OBU/XPuwcAueIcSvpRqkjuGtIs792kOAdPlrJyfz8zkMh7acTXxvwO4EPPKTxPLj/wAEDUT6VZuzHaS3v4RNbsSM4ZWGHjYc0kXow/TyJFS9cd+k3jB4NxBL22QE3kTLLHnClomQiUjB8WGx+vmaDsVRfaDjK20edmds6F8z5n8I61scW4nHbxmWVlRR94gZPlk7Vx3j3HYruVmYNcgjYRqzJgcl1DwY+ZoN3tDfQvgz3LK7D3FmKFj56UIc+WBtjAxUBAkBbUlpJM3IO6AEeuuYg/pmtuSZ1VVhtordfxMikc/giBB8/eFYIraaTZpzgfDEoTUx89Wo4Hz5/KgkZby60MypDCiY38Up3PLSNCjH72PM1GW3EJZTs8smTpKxsNvXFrHKw/ORceYrZs+FFwqLaxAjcyXLtM+rzCAkDz2cflVnThBCe3upSuBlYyIIxjyKe0A+bmgqHEuHvGO8mWKDSfC8xiVyPJWka5kYn+E/KoeeCWchQsk+TyIZVHkM3BYEeqJitzjvHLNJWa3jR+YTu1yZTyy03NjnnuTjOPOstg95oaUJFbIec1y2gDIx4FOCh5kAqdiN+tBpcQ4HMBolaJF+6Ncv6d4e7U/uoK0O0T8Pihto+9kuGOWkHesVTY4ARSEVsldsdDmvPGLZn1tNJNc88s3sotuuCMn5quDUFwC1DePTJI3RY9sdPFK3u/kc0GX/AIm+QLe3SLJ8JYAE/Ic2P61o38EjEG5m36Kclt/uxjdf4gtT1zpi2klWEn9lb5aRvLXIfFn9KxlTEmtI47Jf7yXxTNnnhdz5nBoI+04HqGXKwRgai9wxjU46KiguWP3VViRnBr5cTBg0FmXZcYdwFhjI/FliSu2zSv8AEfCprbEYyXJCAr9vdLrc7ja3gwfEemRtnmvMRVhbmSdligluHGTiQ7eHOqSYDGlRnO7YU82YZyEvwns9bhGld+/CbO4YxWqHfwNMVMk7kY9nEmTnZiKjGtzcTFoY4zBHsSVMUK55a2153/ExdsY3OBWpxy/lldVlmEoQYVUwI4/NYkACKNvhGCd9+Z23ad1EKHdAx0IB4FHvs7Z0xjGckbkbOdhQfOKcWB0gv9ZKAhcrpgjzjaCHAHTOSADk5TO9RU84dwSAi7DwjOAPQnc/M+mwxhb2UkjaY0aQ5CgICSSxwqqBzJPIDc11H6Pvo0eV9TBHZT45CFeGE9VQbrczjqN4k+LWfCArfZfsRJdzLiJ9LjVHDq8ZXpJNJjEUR568Zbkinmv6H7H9jYbJVbCvMF06gMLGDuUhTJ0L5nJZzuzMaluCcFhtUKRA7nU7sSzyMebyOd2Y+Z+QwABUjQKUpQK5ve3DcGv57h0ZuHXjB3dFJNvLyZnUblH5k+fy8XSK+MoIwRkHmDQVmb6QuFLH3hvrcrjOFcM//wDMZfPpiq3wrhZ4xdNfXULR2ax91axSDDvlgzTsPhzgAeYx5ZN0i7LWCv3i2dqr89YhjDfPOnOal6DnnaS5MtyVfdU1Ko6DBG+PPbOfQeVV68bxtnlipni//NyfvP8A1qt8TfLt5eVBrzSMzbnbPLqa9S8R7pu7jikdzjcAKu43OtiF9MDJFak96kciqQztz0qrMfTAA2+Z2FYhLcSS4CrDjY68Ow6nwqdI/wAR+VBaOG2d0y5aSO2XG+ga3HrrcBF+Wg/OsF/LZgEqsnEZRyY5lRSOokYiBGG+QmDz2rQPErVfCRNxKRcc8NGCD93wwKQeuNW3WvHH+ICWGP63LFAj7iCManYZ2BJGWB22RBjzoNe44qIiySXCI7HHd2qCebIGe7DldCnnldO5POsqx3Le1jtks1G/1i9YyzgHmVQnEW+PCSBtW72ehmxiytY7RCMG4uQS7AeUYJkb01sBvyqJ7Rtao39omm4pMDgKBqQNjcLEmI0OOhyfnQU7tHNFI5RZZb2RjpDn3ATgeBR4evQGsnF5ZgzCd1sowcCGMHvNumn3h66sb52rHZpI87ynvLdbZCxZZEDIcHSveHCxs24AjUnI2TO419UcXiKiWc7kuMnUcHOgnOTnm5zncLvQbnDwVXXAiWkXW4mwZG/dB2/0NeGu4o2LKGklbAWSQF5D6xxn3eZ3OPQNUZcd657yaTBzjLZJX0VR8XLZQCDz0g5r0jOuUgXuz8cj47wZ+8eUQJ5KPEfWgk7WJO9zdd8zsDiCAhp3PRZJcYiTGSdI5fDW1efWZ4/q8EUcULDWttbsBHhSMTXM5OqUL1kY6AR7ykaaibEhGKqC2QFYhC7MWYeFYz7xLYHtBpB+HUBmwP3wicMNCqw1qT3gDjcd8ed7eAb90PZx8zp8QUKve8HjVwrSqAMF5lU90AeSxDGuU+R2zzGV8dYeJ8XXu/q9sjRQZBbVjvJiPdeZhtgfCg8K/iOWOx2e4Q13ca2aQpr54Eksp5iONDkSSEc8+EDdiBXfuxf0axQuLq7RGmBzHCCXSH8TMd5pzgEyHrjSAFXAVr6L/o7laFZLtWgjZcaPdldT7ybbwxNgaseOTkSq+FuyW1ukaLHGqoigBVUABQOQAGwFZaUClKUClKUCqj2o7adxOLO0ga9vWXV3SkKsa/fmkOyD0+Wcahm3VQfojhDxXd2281xdSlyeYCMQsefuqM4HTNAl4p2hiBkeysbhBv3UMsiyjz8T5Vj8h+tWXsr2lgv4e9h1AqSskbjDxsOaOvQ1M1zmdvqvH5TCuRcWQkljXq6S6FkOB93I/M0GHjW11IfV/wCtVbit0IyzMcfIEk56YG5Jqz9obhUuJWdgqgtknl73++1Uy7u5HdjFGQDyeUFR8xHjWfzC/Og8WzTuS6xqoJxrlyOnMRjcjl7xX+dRMirIXUF7p2Zgdh3aDOSxG0eR0DEnNT1taoyA3LGY9IztGM/9MbMOXv6q0Y43bvEUYBwPLbOWA8jgYFBm4RCZ1l1v3EMAAHckaiVBypkdeS+HxKBuedbVhFDHB3lvBrYjx3LkhN995myz/wAAby2rdvOHRKhlupNRJz7QgIuTkCOIAKW8jgtvzrR7V9qTNGvcr3VvCQdcgOXYY3RMg+DY+LGDjbY0Ele6YrcPeSsVZsiBCUj32VWUHXISMZVmI/CDVW7S8TcRrqP1SDGUjICscHYKinUExjY6cHOQwrJwewuLhhPCSSNhPKMhRgeJWbI1+iKVGMHSd6ho+EC5umhgJvZTnXPMxEQCjLsz58KAeRJ9eVBpXKSQWaI8K2/1g6zM6DvWQHwqnJo48qDhVw2+GI8IwRg6dUSi3h5GeX33zzCAb7j4U543Jqw8et5Hu5JppEvpNCiI6WVDqxhraHHjhT2gDkiPk2STg6T8NXvAbktc3BHggU5C8sF22AXl0C+hoNawtlwXQFVUbzSHBAG2ARtEOY0JluhKV5uYwqqWJhj30nAWR/Pu0/ZJvu5yx2yTnFS17caM6u7kkjwQOUFv5E+beXxHoBmoqXh7nFxPrbUveIpwJZVHKUg+GC1zyY+9yAbOVD3ZcQit1DldDMfBErFXYEYyz+9BEV2LfayKSAUVttnjP1ifTCiyPcNiNYo1CLGG5RBOUScyIh4iAZJDtpGHsTw3vpPrJViS+lSq5OvpHbq32tyRhtbeGJfG+piAO/8AYnsitqolkVO/IOAuSsQbcojHd3OBrlPicgZ2AADQ+jD6PU4bEHlIlumXDNzEYO5ji8hnmepq90pQKUpQKUpQKUpQK5vMtxwa7nmSCS54ddP3riIapLaQ+++jm0bfywOWPF0ilBQpPpd4WRiB5rqU+7DFDLrY+Q1KB/OtjsNwa5aefiV+gjuJwEjhBz3EKnIQnqzHDH5DkSQLmEHPAr1Qc14sP7XJ+8/+aqxeD2jE+6Of+tWni3/NyfNv81Vm/wBxJ6jAoKNxDjUmsBASSxbA8gTgD+dW7gKyyoCojjJGXdgWYE4JVE2GfxE4GRsagP8Ah6QzIrBppSGRQijcbDUSxwDnqT51vd6VZhcSbOR7GIsdR5acgB5NhyGFwd8igl+JPaJG4CteTY0vIWzp5eB5fdjGwzHGM/h61XuHKs8gGj62Y9o4IVAjH4mzhQo33c7ncDanH5ZppEieP6vbDAWNcFiAARGipnfO5CZxzJrfk4n9Xt2SICBAcMIyAcnmsk65w3Md3FqfOMuooMHbO+kVO5uJk1chaQN7OP1uZebnBHh2HkDWPspbN3LXLKkVumF+sSISowfs7S2O1xOXC4Z8qCuygiq5wrh8947SBFEEOWkc4jhiUbkFhnDH7oyzZ3zvU9Z8ZEt3bm5aUxRIRFFF7LphRGucwhjtqyZWwQDnSpCX7QcQcxdzAGt1Z9c91MS0pKLpxI7AZcBt1JyucaYgF1QFuyIuIA6Ruftec9wf+mDuBzOs8snGOdbna+5llmSOdIR3KAx2ceFgtlzzuT97AB0nfGNlzpGjC5d/fkw5CNMq+3nP/wBvZRfCM4BPJcgnfAYJLg9vGpMkixN3OThwWtrXPxy9bq7Y7JENySScAZrC/CHv59UgmWDvMMmxurmUDZHb3TNjOVHs7dMg4OrNj4dZ4RF0aNLlEjtyDoc87e1f9reED212fDGAQpGCV6Z2S7MLbKHdU73ToVUz3cCc+5hzvjO7OfE7bnoAGHsZ2SW1VZJFQShdCIme7t0Jz3UWdySd3kPidsk9BVqpSgUpSgUpSgUpSgUpSgVq8UeVYZTCoaUIxjU8iwU6QfQnFbVeXcKCWIAAySdgAOZJ6Cg4T9DvH+MTcTdLh7iWLDd+JQ2IiAdOkEYjbVgaRjYnbbbvFRfBu0dpdlhbXEU5T3gjAkeuPL15VKUHN+Kf81L82/zVX5Sg1tIyogIyzEAAZ6k1YuJD+1S/Nv8ANVaiv/aMkKd9IHGRnCJj+8fBCn0ALelBqcQtmIeWLVCmk+2nGkgbZMaHBAO3ikxjGytnNRAs2RQ8ClUx455ASW3zqUE6mUeZAUZyMirnccKJIkuXE7g5VcYiTy0R5OSPvMSc8tPKoftS+qJoh8SnPy8vz/0NBVpu0tvArg4ndhhpAdTMPusfhX8I29KirGaTiUqwkFI0GViiA2A2IUbKuB8RIUDclQKw8P4Mkaa511SMSFjO+w8l679TsOtTPYzh6wzMEQ3V0y6FtAuU3KnvZm1gOFI1GIjTnSSwADUG12p4qixxWsDKIoxlUjPsVIwdSFgO/k6m4cBNxoHMmucNve6uEcPJCcsGkRWZ1ypBKDIYvpOM5Db5BjGK3OJdn7kSyOJhdMN5p0DFI2Y9XIwcH4sYO+nkxHjh3DZZykMAYmXwjTjvJt8kJ9yIc2c7dTnqGaaHvn7qxiLKSoVdRJdyAfG+AXmJyWIAVMHTpVe8Fu4JwlYVDktPO+YdcOxY75suH9ERd+9uBsoLBTkkjc4XZRpCkceZAcwBrfINww960sCfdgBBaa6PvYO/3OldluzIt/bTaGuCgQaBiOBBygt1+GMdTzc7noAHjsh2XFsBLKENwUCAIMRwINxBADyQdW5udz0As1KUClKUClKUClKUClKUClKUCo3tJwv61aT22rR3sbJq541AgHHUenWpKsF9eRwxvLKwSNFLMx5AKMk0HLvom+jC54ddSXNzLCcxmNViLHOplJZiyrgeHljfPTG/WKqfY/6Q7HiMjxW7OJEGrTIuksoONS7nI3HruNqtlBzji8Ia4uFbODqBwSDuTyIII+YqK4RCqkIiqqhhhQAAOfICpviI/tM38X9TUXwhcv8Ax/6Gg3eLSBVLMcAf97VRL+SV28IAL7lm3CgdNIOWbGNthzyelS3aPjCyMTqAhQ7E8mPVv9v/AFqt31yWXU5aGLljfvJM9MDdAdvCPEdvd5UEVLKX1iBhj9rdPjG2+EOwP5eEfnWtYp4WZGaCAe/KSRLOG5r56GyRy3zyOSK2Lx1AXvlwucRWq7lsci4Gx+XIepret7aVpULIJbh/s4gfBCOjMfPnlj6gbDIC5do+Hvc2EFtaR/VkuGU29oGAZlBDPdXrZJKgD3STgspbU2FXxZWsKxhEZ5xOTG0kQ0y37Lu1raH9jYJj2k2wbffmT6toEW3SPx3ImOj2fhl4iwOe4hY7w8Pj31PsCMnkcv0Xsr2bMBM9wUku3UKzIMRwoPdtrZfghX9WPiPQAPfZjs93HtZtDXDKE8AxHCg923t1+GJcDfm5GT0C2ClKBSlKBSlKBSlKBSlKBSlKBSlKBWlxnhqXMEtvLnRKhRsHBwwxkHzFbtKDn30d/RdFwuaSfv3ndlKLlQgVSQTkZOpthvt12roNKUHPuIj+0z/n/mNVO+vtKmNfeYnJHQcv58vlmrRx26WKW5kbkufzOTgfmcCufsxIYk6WbJ1beHbnv0AoPF1KgKqFEsg3RPLI98n4FA+L9Mmou9m0tt7ac5Gw8EZPwIv3sbnrjdiowKyAkriBX0ud5Nw8pxzL/AmPj542QcjQRiPKxlTJjDyYwsY54Azt5hefVjvkhhtrPQ5ORJcsMs7brGD1PL122z00gbWvs9wle5V3R5RcHEUQOJb5hjOW/Z2ijGp9gV2HhwJMPA+CJpjkkieVZm/s9tnEl63Myyk+5ajYliMEY+HSr9e7PcDMJaedllupAA7gYVFHuwQKfchXy5scs252Dx2c7O9yxnnKy3TqFZwMJGg3EFun7OFfLmxGWyeU9SlApSlApSlApSlApSlApSlApSlApSlApSlApSlBxbt3earuWNTkK2Wx1bfA9cA/rVditGlIMw0rzWLn8jJ944x4RsPU7id4/GPrlzgbmV/1yd6h+JtsVL92Pibbw4GdidgcZ36c6DzdXZOqONgoX7SQ8o/QdC+Oh2XmegO32f4Yjd3K8LSxuxFrafHeSDnLMT7tup8TM3PrnZW1uB8KaVowY2eEsRDa5w87DBy7YykKk6mZuQIJy7Ktds7O8C7jMkhWW4cAPIBhVVfdhhX4IV6L13JySTQeOznATCWnuHE13KAJJAMKoG4hgB9yFeg5sfEck7TtKUClKUClKUClKUClKUClKUClKUClKUClKUClKUClKUHEO0215cEc+9b/ADE1BwRSXMsarGXZjmGDkWI/ay/dRdjvy5nLYUS3aCCaS/mitsyyvM+I8A4Go5YtnwINsk8vUkA9Q7FdkksYySRLcOB3suMZ/Ag+GMdB15negy9kuzK2ianYS3DKA8mMDA5Rxj4YwSTjmSSxySTVgpSgUpSgUpSgUpSgUpSgUpSgUpSgUpSgUpSgUpSgUpSgUpSgrfYnhcaRvcgZmuXZ5XOMnxNhRgbIOg+Z3JJqyUpQKUpQKUpQKUpQKUpQKUpQKUpQKUpQKUpQKUpQKUpQKUpQKUpQf//Z)"
   ]
  },
  {
   "cell_type": "markdown",
   "metadata": {
    "colab_type": "text",
    "id": "VOUDrOF0DUzp"
   },
   "source": [
    "![](data:image/png;base64,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)"
   ]
  },
  {
   "cell_type": "markdown",
   "metadata": {
    "colab_type": "text",
    "id": "_z4nwyFJDUzp"
   },
   "source": [
    "Ideally the first convolutional layer should learn to detect features like edges, lines etc, while convolutional layers built on top of the first one should hiearchically learn more and more complex features."
   ]
  },
  {
   "cell_type": "markdown",
   "metadata": {
    "colab_type": "text",
    "id": "ifqGXlQ3DUzp"
   },
   "source": [
    "![title](https://thegradient.pub/content/images/2018/07/image_3.png)"
   ]
  },
  {
   "cell_type": "markdown",
   "metadata": {
    "colab_type": "text",
    "id": "hFGBz7bWDUzq"
   },
   "source": [
    "### Pooling Layer\n",
    "\n",
    "It is common to insert a pooling layer between convolutional layers. Pooling layer reduces the dimensions of images which also reduces the computation needed. Furthermore, it is useful for extracting dominant features which are rotational and positional invariant."
   ]
  },
  {
   "cell_type": "markdown",
   "metadata": {
    "colab_type": "text",
    "id": "LFxUWDiEDUzq"
   },
   "source": [
    "![](http://ddrvcn.oss-cn-hangzhou.aliyuncs.com/2019/5/7VfABn.png)"
   ]
  },
  {
   "cell_type": "markdown",
   "metadata": {
    "colab_type": "text",
    "id": "Q_vLrJ0-DUzq"
   },
   "source": [
    "Pooling layer is usually used in 2 ways: MAX pooling and AVERAGE pooling. It's a matrix which performs certain operation (MAX or AVERAGE) over the portion of image it covers. It is considered that MAX pooling performs much better than AVERAGE pooling as it discards noisy activations while AVERAGE pooling blurs the output."
   ]
  },
  {
   "cell_type": "markdown",
   "metadata": {
    "colab_type": "text",
    "id": "hXerM_mgDUzr"
   },
   "source": [
    "![aaa](11.png)"
   ]
  },
  {
   "cell_type": "markdown",
   "metadata": {},
   "source": [
    "![aaaa](12.png)"
   ]
  },
  {
   "cell_type": "markdown",
   "metadata": {
    "colab_type": "text",
    "id": "vAX5Q68dDUzr"
   },
   "source": [
    "### Fully Connected Layer\n",
    "\n",
    "The local regions in the input image are stretched out into columns in an operation commonly called im2col. For example, if the input is [227x227x3] and it is to be convolved with 11x11x3 filters at stride 4, then we would take [11x11x3] blocks of pixels in the input and stretch each block into a column vector of size 11*11*3 = 363. Iterating this process in the input at stride of 4 gives (227-11)/4+1 = 55 locations along both width and height, leading to an output matrix X_col of im2col of size [363 x 3025], where every column is a stretched out receptive field and there are 55*55 = 3025 of them in total. Note that since the receptive fields overlap, every number in the input volume may be duplicated in multiple distinct columns.\n",
    "\n",
    "The weights of the CONV layer are similarly stretched out into rows. For example, if there are 96 filters of size [11x11x3] this would give a matrix W_row of size [96 x 363].\n",
    "\n",
    "The result of a convolution is now equivalent to performing one large matrix multiply np.dot(W_row, X_col), which evaluates the dot product between every filter and every receptive field location. In our example, the output of this operation would be [96 x 3025], giving the output of the dot product of each filter at each location.\n",
    "\n",
    "Passing through convolutional and pooling layer we finally need to implement a few fully connected layers. The main reason is that we have fixed size output vector in classification tasks. Convolutional and pooling layers can be applied on different sized inputs but fully connected layer can't. Thus, the fully connected layers act as another neural network which try to classify on features extracted from convolutional and pooling layers.\n"
   ]
  },
  {
   "cell_type": "markdown",
   "metadata": {
    "colab_type": "text",
    "id": "WyA3qK990dgV"
   },
   "source": [
    "#Code"
   ]
  },
  {
   "cell_type": "code",
   "execution_count": null,
   "metadata": {},
   "outputs": [],
   "source": [
    "Inp  = 227\n",
    "dim_ker = 11\n",
    "padd = 0\n",
    "stride = 4\n",
    "((inp - dim_ker - 2*padd)/ stride ) + 1"
   ]
  },
  {
   "cell_type": "code",
   "execution_count": 2,
   "metadata": {
    "colab": {},
    "colab_type": "code",
    "id": "wA7e-53QHtlZ"
   },
   "outputs": [
    {
     "name": "stderr",
     "output_type": "stream",
     "text": [
      "C:\\Users\\Arman\\Anaconda3\\lib\\site-packages\\tensorflow\\python\\framework\\dtypes.py:526: FutureWarning: Passing (type, 1) or '1type' as a synonym of type is deprecated; in a future version of numpy, it will be understood as (type, (1,)) / '(1,)type'.\n",
      "  _np_qint8 = np.dtype([(\"qint8\", np.int8, 1)])\n",
      "C:\\Users\\Arman\\Anaconda3\\lib\\site-packages\\tensorflow\\python\\framework\\dtypes.py:527: FutureWarning: Passing (type, 1) or '1type' as a synonym of type is deprecated; in a future version of numpy, it will be understood as (type, (1,)) / '(1,)type'.\n",
      "  _np_quint8 = np.dtype([(\"quint8\", np.uint8, 1)])\n",
      "C:\\Users\\Arman\\Anaconda3\\lib\\site-packages\\tensorflow\\python\\framework\\dtypes.py:528: FutureWarning: Passing (type, 1) or '1type' as a synonym of type is deprecated; in a future version of numpy, it will be understood as (type, (1,)) / '(1,)type'.\n",
      "  _np_qint16 = np.dtype([(\"qint16\", np.int16, 1)])\n",
      "C:\\Users\\Arman\\Anaconda3\\lib\\site-packages\\tensorflow\\python\\framework\\dtypes.py:529: FutureWarning: Passing (type, 1) or '1type' as a synonym of type is deprecated; in a future version of numpy, it will be understood as (type, (1,)) / '(1,)type'.\n",
      "  _np_quint16 = np.dtype([(\"quint16\", np.uint16, 1)])\n",
      "C:\\Users\\Arman\\Anaconda3\\lib\\site-packages\\tensorflow\\python\\framework\\dtypes.py:530: FutureWarning: Passing (type, 1) or '1type' as a synonym of type is deprecated; in a future version of numpy, it will be understood as (type, (1,)) / '(1,)type'.\n",
      "  _np_qint32 = np.dtype([(\"qint32\", np.int32, 1)])\n",
      "C:\\Users\\Arman\\Anaconda3\\lib\\site-packages\\tensorflow\\python\\framework\\dtypes.py:535: FutureWarning: Passing (type, 1) or '1type' as a synonym of type is deprecated; in a future version of numpy, it will be understood as (type, (1,)) / '(1,)type'.\n",
      "  np_resource = np.dtype([(\"resource\", np.ubyte, 1)])\n"
     ]
    }
   ],
   "source": [
    "#%tensorflow_version 2.x\n",
    "import tensorflow as tf\n",
    "from tensorflow import keras\n",
    "from tensorflow.keras.models import Sequential\n",
    "from tensorflow.keras.layers import Dense, Dropout, Flatten\n",
    "from tensorflow.keras.layers import Conv2D, MaxPooling2D\n",
    "import numpy as np\n",
    "import matplotlib.pyplot as plt"
   ]
  },
  {
   "cell_type": "code",
   "execution_count": 6,
   "metadata": {
    "colab": {},
    "colab_type": "code",
    "id": "t9_GI54Qj3GH"
   },
   "outputs": [],
   "source": [
    "#Initialising parameters\n",
    "batch_size = 128\n",
    "num_classes = 10\n",
    "epochs = 5\n",
    "\n",
    "# input image dimensions\n",
    "img_rows, img_cols = 28, 28"
   ]
  },
  {
   "cell_type": "code",
   "execution_count": 7,
   "metadata": {
    "colab": {},
    "colab_type": "code",
    "id": "QeNIn6pZj5Wm"
   },
   "outputs": [
    {
     "name": "stdout",
     "output_type": "stream",
     "text": [
      "(60000, 28, 28, 1)\n",
      "(10000, 28, 28, 1)\n",
      "(60000, 10)\n",
      "(10000, 10)\n"
     ]
    }
   ],
   "source": [
    "#Choose data\n",
    "mnist = tf.keras.datasets.mnist\n",
    "fashion_mnist = tf.keras.datasets.fashion_mnist\n",
    "\n",
    "(x_train, y_train), (x_test, y_test) = fashion_mnist.load_data()\n",
    "\n",
    "x_train = np.expand_dims(x_train, 3)\n",
    "x_test = np.expand_dims(x_test, 3)\n",
    "x_train, x_test = x_train / 255.0, x_test / 255.0\n",
    "\n",
    "input_shape = (img_rows,img_cols,1)\n",
    "\n",
    "# convert class vectors to binary class matrices\n",
    "y_train = keras.utils.to_categorical(y_train, num_classes)\n",
    "y_test = keras.utils.to_categorical(y_test, num_classes)\n",
    "\n",
    "print(x_train.shape)\n",
    "print(x_test.shape)\n",
    "print(y_train.shape)\n",
    "print(y_test.shape)"
   ]
  },
  {
   "cell_type": "code",
   "execution_count": 8,
   "metadata": {
    "colab": {
     "base_uri": "https://localhost:8080/",
     "height": 420
    },
    "colab_type": "code",
    "id": "EzR2xbdjj5sZ",
    "outputId": "a9a34a7a-0a35-4ac6-ba0e-d02f46588c4e"
   },
   "outputs": [
    {
     "name": "stdout",
     "output_type": "stream",
     "text": [
      "WARNING:tensorflow:From C:\\Users\\Arman\\Anaconda3\\lib\\site-packages\\tensorflow\\python\\ops\\resource_variable_ops.py:435: colocate_with (from tensorflow.python.framework.ops) is deprecated and will be removed in a future version.\n",
      "Instructions for updating:\n",
      "Colocations handled automatically by placer.\n",
      "WARNING:tensorflow:From C:\\Users\\Arman\\Anaconda3\\lib\\site-packages\\tensorflow\\python\\keras\\layers\\core.py:143: calling dropout (from tensorflow.python.ops.nn_ops) with keep_prob is deprecated and will be removed in a future version.\n",
      "Instructions for updating:\n",
      "Please use `rate` instead of `keep_prob`. Rate should be set to `rate = 1 - keep_prob`.\n",
      "_________________________________________________________________\n",
      "Layer (type)                 Output Shape              Param #   \n",
      "=================================================================\n",
      "conv2d (Conv2D)              (None, 28, 28, 10)        90        \n",
      "_________________________________________________________________\n",
      "conv2d_1 (Conv2D)            (None, 28, 28, 10)        900       \n",
      "_________________________________________________________________\n",
      "max_pooling2d (MaxPooling2D) (None, 14, 14, 10)        0         \n",
      "_________________________________________________________________\n",
      "dropout (Dropout)            (None, 14, 14, 10)        0         \n",
      "_________________________________________________________________\n",
      "flatten (Flatten)            (None, 1960)              0         \n",
      "_________________________________________________________________\n",
      "dense (Dense)                (None, 64)                125504    \n",
      "_________________________________________________________________\n",
      "dropout_1 (Dropout)          (None, 64)                0         \n",
      "_________________________________________________________________\n",
      "dense_1 (Dense)              (None, 10)                650       \n",
      "=================================================================\n",
      "Total params: 127,144\n",
      "Trainable params: 127,144\n",
      "Non-trainable params: 0\n",
      "_________________________________________________________________\n"
     ]
    }
   ],
   "source": [
    "#Defining model\n",
    "model = Sequential()\n",
    "model.add(Conv2D(10, kernel_size=(3, 3),  # Start with Convolutional layer with 10 kernel depth with 3x3 dimensions,\n",
    "                 activation='relu',       # With RELU activator\n",
    "                 strides=1,               # With 1 stride\n",
    "                 padding='same',          # And same padding (to have same dimensions)\n",
    "                 input_shape=input_shape,\n",
    "                 use_bias=False))   \n",
    "\n",
    "model.add(Conv2D(10, kernel_size=(3, 3),\n",
    "                 activation='relu',\n",
    "                 strides=1,               # With 1 stride\n",
    "                 padding='same',\n",
    "                 use_bias=False))         # Second layer is convolutional layer as well with same parameters       \n",
    "\n",
    "model.add(MaxPooling2D(pool_size=(2, 2),  # Third layer is pooling layer of 2x2 dimensionality \n",
    "                 strides=None))           # With no strides (halves the output))        \n",
    "model.add(Dropout(0.25))\n",
    "model.add(Flatten())                      # Command to flatten the output for Dense layer\n",
    "model.add(Dense(64, activation='relu'))\n",
    "model.add(Dropout(0.5))\n",
    "model.add(Dense(num_classes, activation='softmax'))\n",
    "\n",
    "model.compile(loss='categorical_crossentropy',\n",
    "              optimizer='adam',\n",
    "              metrics=['accuracy'])\n",
    "model.summary()"
   ]
  },
  {
   "cell_type": "code",
   "execution_count": 9,
   "metadata": {
    "colab": {
     "base_uri": "https://localhost:8080/",
     "height": 454
    },
    "colab_type": "code",
    "id": "brsVLUxQj7FA",
    "outputId": "e5217e88-753e-45be-96b2-9597bfe5db2d"
   },
   "outputs": [
    {
     "name": "stdout",
     "output_type": "stream",
     "text": [
      "Train on 60000 samples, validate on 10000 samples\n",
      "WARNING:tensorflow:From C:\\Users\\Arman\\Anaconda3\\lib\\site-packages\\tensorflow\\python\\ops\\math_ops.py:3066: to_int32 (from tensorflow.python.ops.math_ops) is deprecated and will be removed in a future version.\n",
      "Instructions for updating:\n",
      "Use tf.cast instead.\n",
      "Epoch 1/5\n",
      "60000/60000 [==============================] - 48s 802us/sample - loss: 0.6786 - acc: 0.7639 - val_loss: 0.4132 - val_acc: 0.8485\n",
      "Epoch 2/5\n",
      "60000/60000 [==============================] - 49s 824us/sample - loss: 0.4543 - acc: 0.8398 - val_loss: 0.3657 - val_acc: 0.8656\n",
      "Epoch 3/5\n",
      "60000/60000 [==============================] - 49s 816us/sample - loss: 0.4091 - acc: 0.8561 - val_loss: 0.3303 - val_acc: 0.8826\n",
      "Epoch 4/5\n",
      "60000/60000 [==============================] - 48s 807us/sample - loss: 0.3769 - acc: 0.8651 - val_loss: 0.3125 - val_acc: 0.8836\n",
      "Epoch 5/5\n",
      "60000/60000 [==============================] - 48s 802us/sample - loss: 0.3568 - acc: 0.8731 - val_loss: 0.2997 - val_acc: 0.8927\n",
      "Test loss: 0.299654478764534\n",
      "Test accuracy: 0.8927\n"
     ]
    }
   ],
   "source": [
    "model.fit(x_train, y_train,\n",
    "          batch_size=batch_size,\n",
    "          epochs=epochs,\n",
    "          validation_data=(x_test, y_test))\n",
    "score = model.evaluate(x_test, y_test, verbose=0)\n",
    "print('Test loss:', score[0])\n",
    "print('Test accuracy:', score[1])"
   ]
  },
  {
   "cell_type": "markdown",
   "metadata": {
    "colab_type": "text",
    "id": "mXVJk08vAyV_"
   },
   "source": [
    "http://cs231n.github.io/convolutional-networks/\n",
    "\n",
    "https://towardsdatascience.com/a-comprehensive-introduction-to-different-types-of-convolutions-in-deep-learning-669281e58215 \n",
    "\n",
    "https://arxiv.org/pdf/1603.07285.pdf \n",
    "\n",
    "https://sahnimanas.github.io/post/anatomy-of-a-high-performance-convolution/\n",
    "\n",
    "http://machinelearninguru.com/computer_vision/basics/convolution/image_convolution_1.html\n",
    "\n",
    "https://towardsdatascience.com/intuitively-understanding-convolutions-for-deep-learning-1f6f42faee1\n",
    "\n",
    "https://towardsdatascience.com/a-comprehensive-guide-to-convolutional-neural-networks-the-eli5-way-3bd2b1164a53"
   ]
  }
 ],
 "metadata": {
  "accelerator": "GPU",
  "colab": {
   "collapsed_sections": [],
   "name": "NN_Convolutional_Neural_Networks.ipynb",
   "provenance": []
  },
  "kernelspec": {
   "display_name": "Python 3",
   "language": "python",
   "name": "python3"
  },
  "language_info": {
   "codemirror_mode": {
    "name": "ipython",
    "version": 3
   },
   "file_extension": ".py",
   "mimetype": "text/x-python",
   "name": "python",
   "nbconvert_exporter": "python",
   "pygments_lexer": "ipython3",
   "version": "3.7.4"
  }
 },
 "nbformat": 4,
 "nbformat_minor": 1
}

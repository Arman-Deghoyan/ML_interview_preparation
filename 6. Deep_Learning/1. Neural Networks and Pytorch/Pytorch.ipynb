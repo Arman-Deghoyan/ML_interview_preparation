{
 "cells": [
  {
   "cell_type": "markdown",
   "metadata": {
    "colab": {
     "base_uri": "https://localhost:8080/",
     "height": 133
    },
    "colab_type": "code",
    "id": "nZm3k_JwAxFK",
    "outputId": "7cb5a5c7-6a77-4c08-a6b4-535c994d1894"
   },
   "source": [
    "# Pytorch Neural Networks Architectures, Training and Evaluation \n",
    "# on MNIST dataset"
   ]
  },
  {
   "cell_type": "code",
   "execution_count": 1,
   "metadata": {
    "colab": {},
    "colab_type": "code",
    "id": "PKcBS6xfBK1Z"
   },
   "outputs": [],
   "source": [
    "import torch\n",
    "import matplotlib.pyplot as plt\n",
    "import numpy as np\n",
    "import torch.nn.functional as F\n",
    "from torch import nn\n",
    "from torchvision import datasets, transforms"
   ]
  },
  {
   "cell_type": "code",
   "execution_count": 2,
   "metadata": {
    "colab": {},
    "colab_type": "code",
    "id": "hC4ZVkTRB79P"
   },
   "outputs": [],
   "source": [
    "transform = transforms.Compose([transforms.Resize((28,28)),\n",
    "                               transforms.ToTensor(),\n",
    "                               transforms.Normalize((0.5,), (0.5,))\n",
    "                               ])\n",
    "\n",
    "\n",
    "training_dataset = datasets.MNIST(root='./data', train=True, download=True, transform=transform)\n",
    "validation_dataset = datasets.MNIST(root='./data', train=False, download=True, transform=transform)\n",
    "\n",
    "training_loader = torch.utils.data.DataLoader(training_dataset, batch_size=100, shuffle=True)\n",
    "validation_loader = torch.utils.data.DataLoader(validation_dataset, batch_size = 100, shuffle=False)"
   ]
  },
  {
   "cell_type": "code",
   "execution_count": 3,
   "metadata": {},
   "outputs": [
    {
     "name": "stdout",
     "output_type": "stream",
     "text": [
      "tensor([7, 8, 6, 8, 4, 9, 8, 8, 8, 4, 6, 0, 3, 9, 3, 6, 5, 3, 0, 9, 1, 1, 9, 9,\n",
      "        0, 3, 8, 4, 1, 2, 4, 9, 6, 2, 4, 9, 8, 0, 7, 6, 9, 8, 5, 1, 3, 0, 2, 3,\n",
      "        9, 0, 7, 1, 6, 4, 0, 0, 0, 1, 1, 2, 9, 7, 1, 2, 8, 8, 1, 7, 3, 9, 7, 1,\n",
      "        6, 1, 6, 1, 4, 4, 9, 0, 6, 5, 3, 3, 2, 3, 2, 0, 5, 7, 2, 1, 2, 5, 5, 4,\n",
      "        5, 5, 5, 1])\n",
      "torch.Size([100, 1, 28, 28])\n"
     ]
    }
   ],
   "source": [
    "for x, target in iter(training_loader):\n",
    "    print(target)\n",
    "    print(x.shape)\n",
    "    break"
   ]
  },
  {
   "cell_type": "code",
   "execution_count": 4,
   "metadata": {},
   "outputs": [
    {
     "name": "stdout",
     "output_type": "stream",
     "text": [
      "torch.Size([100])\n",
      "torch.Size([100, 1, 28, 28])\n"
     ]
    }
   ],
   "source": [
    "for x, target in iter(validation_loader):\n",
    "    print(target.shape)\n",
    "    print(x.shape)\n",
    "    break"
   ]
  },
  {
   "cell_type": "markdown",
   "metadata": {},
   "source": [
    "Mer im_convert function@ zut grelenq nra hamar vor karenanq plot anenq mer imagener@ vortev mathplotlibov tensor image ner@ chenq kara patkerenq u mer es funkciani arachi toxov henc asenq sarqumenq tensor image i ira numpy array@. 3 rd toxum denormalize anum vor mer irakan imagener@ tpenq dra hamar bazmapatkumenq std ov u saxin mean@ gumarum. Isk image clip@ nra hamarenq anum vortev normalizationic heto bereleinq -1 1 i ( -1 1i vortev  ete mean = 0.5 std = 0.5 sax valuener@ @ngnumen -1,1 mijakayqum "
   ]
  },
  {
   "cell_type": "code",
   "execution_count": 5,
   "metadata": {
    "colab": {},
    "colab_type": "code",
    "id": "jCqX-QWODId3"
   },
   "outputs": [],
   "source": [
    "def im_convert(tensor):\n",
    "    image = tensor.clone().detach().numpy()\n",
    "    image = image.transpose(1, 2, 0)     # 1,2, vor lini 28x28x1 shape i nkar isk mer mot 1x28x28 er indexnernenq poxum\n",
    "    image = image * np.array((0.5, 0.5, 0.5)) + np.array((0.5, 0.5, 0.5))  # denormalization part na es mean = 0.5 std = 0.5\n",
    "    image = image.clip(0, 1)             # clip from [-1,1] to [0,1]\n",
    "    return image"
   ]
  },
  {
   "cell_type": "code",
   "execution_count": 6,
   "metadata": {
    "colab": {
     "base_uri": "https://localhost:8080/",
     "height": 283
    },
    "colab_type": "code",
    "id": "8bUYaxqxGFET",
    "outputId": "4946bab5-02fb-4cb1-987b-67da8126f500"
   },
   "outputs": [
    {
     "data": {
      "image/png": "[encoded data removed]",
      "text/plain": [
       "<Figure size 1800x288 with 20 Axes>"
      ]
     },
     "metadata": {},
     "output_type": "display_data"
    }
   ],
   "source": [
    "dataiter = iter(training_loader)\n",
    "images, labels = dataiter.next()\n",
    "fig = plt.figure(figsize=(25, 4))\n",
    "\n",
    "for idx in np.arange(20):\n",
    "    ax = fig.add_subplot(2, 10, idx+1, xticks=[], yticks=[])\n",
    "    plt.imshow(im_convert(images[idx]))\n",
    "    ax.set_title([labels[idx].item()])\n",
    "  "
   ]
  },
  {
   "cell_type": "code",
   "execution_count": 7,
   "metadata": {
    "colab": {},
    "colab_type": "code",
    "id": "ELDFsBKeHqJy"
   },
   "outputs": [],
   "source": [
    "class Classifier(nn.Module):\n",
    "    \n",
    "    def __init__(self, D_in, H1, H2, D_out):\n",
    "        super().__init__()\n",
    "        self.linear1 = nn.Linear(D_in, H1)\n",
    "        self.linear2 = nn.Linear(H1, H2)\n",
    "        self.linear3 = nn.Linear(H2, D_out)\n",
    "    def forward(self, x):\n",
    "        x = F.relu(self.linear1(x))  \n",
    "        x = F.relu(self.linear2(x))\n",
    "        x = F.softmax(self.linear3(x))\n",
    "        return x"
   ]
  },
  {
   "cell_type": "code",
   "execution_count": 8,
   "metadata": {},
   "outputs": [],
   "source": [
    "class MyNetBN(nn.Module):\n",
    "    def __init__(self): \n",
    "        super(MyNetBN, self).__init__()\n",
    "        self.classifier = nn.Sequential(\n",
    "            nn.Linear(784, 125),\n",
    "            nn.BatchNorm1d(125), #applying batch norm\n",
    "            nn.ReLU(),\n",
    "            nn.Linear(125, 65),\n",
    "            nn.BatchNorm1d(65),\n",
    "            nn.ReLU(),\n",
    "            nn.Linear(65, 10)\n",
    "        )\n",
    "             \n",
    "    def forward(self, x):\n",
    "        x = x.view(x.size(0), -1)   # first argument is batch which in our case is 100 \n",
    "        x = self.classifier(x)\n",
    "        return x"
   ]
  },
  {
   "cell_type": "code",
   "execution_count": 28,
   "metadata": {},
   "outputs": [],
   "source": [
    "class SimpleDenseNet(nn.Module):\n",
    "    def __init__(self):\n",
    "       \n",
    "        super(SimpleDenseNet, self).__init__()\n",
    "        \n",
    "        self.fc1 = nn.Linear(784, 125)\n",
    "        self.batch_norm1 = nn.BatchNorm1d(125)\n",
    "        self.fc2 = nn.Linear(125, 125)\n",
    "        self.fc3 = nn.Linear(125, 65)\n",
    "        self.dropout = nn.Dropout(0.5)\n",
    "        self.last_layer = nn.Linear(65, 10)\n",
    "        #self.sigm = nn.Sigmoid()\n",
    "        \n",
    "    def forward(self, x):\n",
    "\n",
    "        x = x.view(x.shape[0], -1) \n",
    "        x = F.relu(self.fc1(x))\n",
    "        x = self.batch_norm1( F.relu(self.fc2(x)) )\n",
    "        x = self.dropout(F.relu(self.fc3(x)))\n",
    "        x = F.softmax(self.last_layer(x))\n",
    "        \n",
    "        return x"
   ]
  },
  {
   "cell_type": "code",
   "execution_count": 10,
   "metadata": {
    "colab": {
     "base_uri": "https://localhost:8080/",
     "height": 102
    },
    "colab_type": "code",
    "id": "cOa--7ggN8Nu",
    "outputId": "4b545dc9-55b2-460e-b1b2-a2faf6ce96a2"
   },
   "outputs": [
    {
     "data": {
      "text/plain": [
       "Classifier(\n",
       "  (linear1): Linear(in_features=784, out_features=125, bias=True)\n",
       "  (linear2): Linear(in_features=125, out_features=65, bias=True)\n",
       "  (linear3): Linear(in_features=65, out_features=10, bias=True)\n",
       ")"
      ]
     },
     "execution_count": 10,
     "metadata": {},
     "output_type": "execute_result"
    }
   ],
   "source": [
    "model = Classifier(784, 125, 65, 10)\n",
    "model"
   ]
  },
  {
   "cell_type": "code",
   "execution_count": 11,
   "metadata": {},
   "outputs": [
    {
     "data": {
      "text/plain": [
       "MyNetBN(\n",
       "  (classifier): Sequential(\n",
       "    (0): Linear(in_features=784, out_features=125, bias=True)\n",
       "    (1): BatchNorm1d(125, eps=1e-05, momentum=0.1, affine=True, track_running_stats=True)\n",
       "    (2): ReLU()\n",
       "    (3): Linear(in_features=125, out_features=65, bias=True)\n",
       "    (4): BatchNorm1d(65, eps=1e-05, momentum=0.1, affine=True, track_running_stats=True)\n",
       "    (5): ReLU()\n",
       "    (6): Linear(in_features=65, out_features=10, bias=True)\n",
       "  )\n",
       ")"
      ]
     },
     "execution_count": 11,
     "metadata": {},
     "output_type": "execute_result"
    }
   ],
   "source": [
    "model2 = MyNetBN()\n",
    "model2"
   ]
  },
  {
   "cell_type": "code",
   "execution_count": 29,
   "metadata": {},
   "outputs": [
    {
     "data": {
      "text/plain": [
       "SimpleDenseNet(\n",
       "  (fc1): Linear(in_features=784, out_features=125, bias=True)\n",
       "  (batch_norm1): BatchNorm1d(125, eps=1e-05, momentum=0.1, affine=True, track_running_stats=True)\n",
       "  (fc2): Linear(in_features=125, out_features=125, bias=True)\n",
       "  (fc3): Linear(in_features=125, out_features=65, bias=True)\n",
       "  (dropout): Dropout(p=0.5, inplace=False)\n",
       "  (last_layer): Linear(in_features=65, out_features=10, bias=True)\n",
       ")"
      ]
     },
     "execution_count": 29,
     "metadata": {},
     "output_type": "execute_result"
    }
   ],
   "source": [
    "model3 = SimpleDenseNet()\n",
    "model3"
   ]
  },
  {
   "cell_type": "code",
   "execution_count": 16,
   "metadata": {
    "colab": {},
    "colab_type": "code",
    "id": "w6wxPBg_Od3t"
   },
   "outputs": [],
   "source": [
    "criterion = nn.CrossEntropyLoss()\n",
    "optimizer = torch.optim.Adam(model.parameters(), lr = 0.0001)"
   ]
  },
  {
   "cell_type": "code",
   "execution_count": 17,
   "metadata": {
    "colab": {
     "base_uri": "https://localhost:8080/",
     "height": 782
    },
    "colab_type": "code",
    "id": "zsd3HPylP9UE",
    "outputId": "af979d67-6107-4d46-879c-6cd7745751df"
   },
   "outputs": [
    {
     "name": "stderr",
     "output_type": "stream",
     "text": [
      "C:\\Users\\Arman\\Anaconda3\\lib\\site-packages\\ipykernel_launcher.py:11: UserWarning: Implicit dimension choice for softmax has been deprecated. Change the call to include dim=X as an argument.\n",
      "  # This is added back by InteractiveShellApp.init_path()\n",
      "..\\torch\\csrc\\utils\\python_arg_parser.cpp:698: UserWarning: This overload of add_ is deprecated:\n",
      "\tadd_(Number alpha, Tensor other)\n",
      "Consider using one of the following signatures instead:\n",
      "\tadd_(Tensor other, Number alpha)\n"
     ]
    },
    {
     "name": "stdout",
     "output_type": "stream",
     "text": [
      "epoch : 1\n",
      "training loss: 1.9166, acc 60.4533 \n",
      "validation loss: 1.7191, validation acc 79.3200 \n",
      "epoch : 2\n",
      "training loss: 1.6726, acc 82.5700 \n",
      "validation loss: 1.5996, validation acc 89.5900 \n",
      "epoch : 3\n",
      "training loss: 1.5894, acc 89.7850 \n",
      "validation loss: 1.5702, validation acc 90.8500 \n",
      "epoch : 4\n",
      "training loss: 1.5710, acc 90.6283 \n",
      "validation loss: 1.5614, validation acc 91.3200 \n",
      "epoch : 5\n",
      "training loss: 1.5622, acc 91.1550 \n",
      "validation loss: 1.5553, validation acc 91.6700 \n"
     ]
    }
   ],
   "source": [
    "epochs = 5\n",
    "running_loss_history = []\n",
    "running_corrects_history = []\n",
    "val_running_loss_history = []\n",
    "val_running_corrects_history = []\n",
    "\n",
    "for e in range(epochs):\n",
    "    running_loss = 0.0\n",
    "    running_corrects = 0.0\n",
    "    val_running_loss = 0.0\n",
    "    val_running_corrects = 0.0\n",
    "  \n",
    "    for inputs, labels in training_loader:\n",
    "        inputs = inputs.view(inputs.shape[0], -1)     # flatten annenq vor 28x28@ darna 784\n",
    "        outputs = model(inputs)                      # predict using the model class\n",
    "        loss = criterion(outputs, labels)           # calculate the loss\n",
    "    \n",
    "        optimizer.zero_grad()                       # make the gradients zero so as to not accumulate\n",
    "        loss.backward()                             # backward is to calculate the gradients\n",
    "        optimizer.step()                            # update the weights using the step fucntion \n",
    "    \n",
    "        _, preds = torch.max(outputs, 1)            # torch max@ veradarcnuma tuple 1 in@ softmaxi score na isk 2 rd@\n",
    "                                                    # en classi index@ vor maximumna, mer mot de tvera stacvuma ete 0 i softmax\n",
    "                                                    # score na amenamec@ kveradarcni 0 index@ u heto sranov karanq loss hashvenq\n",
    "        running_loss += loss.item()                 # running loss@ avelacnumenq vor batch size i loss@ karenaq hashvenq\n",
    "        running_corrects += torch.sum(preds == labels.data)  # correctne te amen batchum nkarneric qanisna chisht gushakum\n",
    "\n",
    "    else:\n",
    "        with torch.no_grad():\n",
    "            for val_inputs, val_labels in validation_loader:\n",
    "                val_inputs = val_inputs.view(val_inputs.shape[0], -1)   # flattten\n",
    "                val_outputs = model(val_inputs)                         # predict\n",
    "                val_loss = criterion(val_outputs, val_labels)           # calculate loss\n",
    "\n",
    "                _, val_preds = torch.max(val_outputs, 1)\n",
    "                val_running_loss += val_loss.item()                                # add up validation loss\n",
    "                val_running_corrects += torch.sum(val_preds == val_labels.data)    # calcualte the exact number of correct predictions\n",
    "\n",
    "            epoch_loss = running_loss/len(training_loader)             # hashvumenq amen epoch ic heto loss@ \n",
    "            epoch_acc = running_corrects.float()/ len(training_loader) # hashvumenq te batch size 100 hatic vor tokosna chisht gushake\n",
    "            running_loss_history.append(epoch_loss)                    # list i mech append enq anum heto vor karenanq plt ov nkarenq\n",
    "            running_corrects_history.append(epoch_acc)                 # eli listi mech append anenq vor heto karenanq tpenq\n",
    "\n",
    "            val_epoch_loss = val_running_loss/len(validation_loader) # stex hashvum enq amen batch i loss@\n",
    "            val_epoch_acc = val_running_corrects.float()/ len(validation_loader) # hashvumenq accuracy n  \n",
    "            val_running_loss_history.append(val_epoch_loss)\n",
    "            val_running_corrects_history.append(val_epoch_acc)\n",
    "            print('epoch :', (e+1))                                   # e + 1 vor 0 i tex@ 1 i epochic sksi tpel sax\n",
    "            print('training loss: {:.4f}, acc {:.4f} '.format(epoch_loss, epoch_acc.item()))\n",
    "            print('validation loss: {:.4f}, validation acc {:.4f} '.format(val_epoch_loss, val_epoch_acc.item()))"
   ]
  },
  {
   "cell_type": "code",
   "execution_count": 18,
   "metadata": {
    "colab": {
     "base_uri": "https://localhost:8080/",
     "height": 366
    },
    "colab_type": "code",
    "id": "qq4-LouHVQwp",
    "outputId": "5bd1f8dd-1f2c-4355-85f9-47d4206f2850"
   },
   "outputs": [
    {
     "data": {
      "text/plain": [
       "<matplotlib.legend.Legend at 0x28ed7270dc8>"
      ]
     },
     "execution_count": 18,
     "metadata": {},
     "output_type": "execute_result"
    },
    {
     "data": {
      "image/png": "[encoded data removed]",
      "text/plain": [
       "<Figure size 432x288 with 1 Axes>"
      ]
     },
     "metadata": {
      "needs_background": "light"
     },
     "output_type": "display_data"
    }
   ],
   "source": [
    "plt.plot(running_loss_history, label='training loss')\n",
    "plt.plot(val_running_loss_history, label='validation loss')\n",
    "plt.legend()"
   ]
  },
  {
   "cell_type": "code",
   "execution_count": 19,
   "metadata": {
    "colab": {
     "base_uri": "https://localhost:8080/",
     "height": 364
    },
    "colab_type": "code",
    "id": "R1A-fOideMnx",
    "outputId": "de77cb7f-fa4d-4ad9-fec0-6baaf274cb37"
   },
   "outputs": [
    {
     "data": {
      "text/plain": [
       "<matplotlib.legend.Legend at 0x28ed7270f88>"
      ]
     },
     "execution_count": 19,
     "metadata": {},
     "output_type": "execute_result"
    },
    {
     "data": {
      "image/png": "[encoded data removed]",
      "text/plain": [
       "<Figure size 432x288 with 1 Axes>"
      ]
     },
     "metadata": {
      "needs_background": "light"
     },
     "output_type": "display_data"
    }
   ],
   "source": [
    "plt.plot(running_corrects_history, label='training accuracy')\n",
    "plt.plot(val_running_corrects_history, label='validation accuracy')\n",
    "plt.legend()"
   ]
  },
  {
   "cell_type": "code",
   "execution_count": null,
   "metadata": {
    "colab": {
     "base_uri": "https://localhost:8080/",
     "height": 82
    },
    "colab_type": "code",
    "id": "vEsatUk1EmTp",
    "outputId": "6697b0d7-ec97-422b-b2a8-7479bb320f7b"
   },
   "outputs": [],
   "source": [
    "!pip3 install pillow==4.0.0"
   ]
  },
  {
   "cell_type": "code",
   "execution_count": 22,
   "metadata": {
    "colab": {},
    "colab_type": "code",
    "id": "Bdd5aONjGO5_"
   },
   "outputs": [],
   "source": [
    "import PIL.ImageOps"
   ]
  },
  {
   "cell_type": "markdown",
   "metadata": {},
   "source": [
    "Es galiq toxerov zut internetic url ov inch vor image enq vercnum u test anum te mer model@ incha output anum "
   ]
  },
  {
   "cell_type": "code",
   "execution_count": 20,
   "metadata": {
    "colab": {
     "base_uri": "https://localhost:8080/",
     "height": 368
    },
    "colab_type": "code",
    "id": "gUPLBiV0gDd8",
    "outputId": "8b38d0a7-1791-4ef2-8994-dc9ea07e2aa3"
   },
   "outputs": [
    {
     "data": {
      "text/plain": [
       "<matplotlib.image.AxesImage at 0x28ed8d50448>"
      ]
     },
     "execution_count": 20,
     "metadata": {},
     "output_type": "execute_result"
    },
    {
     "data": {
      "image/png": "[encoded data removed]",
      "text/plain": [
       "<Figure size 432x288 with 1 Axes>"
      ]
     },
     "metadata": {
      "needs_background": "light"
     },
     "output_type": "display_data"
    }
   ],
   "source": [
    "import requests\n",
    "from PIL import Image\n",
    "\n",
    "url = 'https://images.homedepot-static.com/productImages/007164ea-d47e-4f66-8d8c-fd9f621984a2/svn/architectural-mailboxes-house-letters-numbers-3585b-5-64_1000.jpg'\n",
    "response = requests.get(url, stream = True)\n",
    "img = Image.open(response.raw)\n",
    "plt.imshow(img)"
   ]
  },
  {
   "cell_type": "code",
   "execution_count": 23,
   "metadata": {
    "colab": {
     "base_uri": "https://localhost:8080/",
     "height": 364
    },
    "colab_type": "code",
    "id": "v24yJujOERx8",
    "outputId": "f3c6a6ed-ca57-4e42-8e3b-aa3405b59bdc"
   },
   "outputs": [
    {
     "data": {
      "text/plain": [
       "<matplotlib.image.AxesImage at 0x28ed91aff48>"
      ]
     },
     "execution_count": 23,
     "metadata": {},
     "output_type": "execute_result"
    },
    {
     "data": {
      "image/png": "[encoded data removed]",
      "text/plain": [
       "<Figure size 432x288 with 1 Axes>"
      ]
     },
     "metadata": {
      "needs_background": "light"
     },
     "output_type": "display_data"
    }
   ],
   "source": [
    "img = PIL.ImageOps.invert(img)  # invert anel aysinnq sev spitaki tex@ poxel vortev mer mot modelum tver@ spitaken background@ sev\n",
    "img = img.convert('1')          # es toxov asuma mer nkar@ 3 chanellanoca webum poxenq 1 chanelanoc nkari \n",
    "img = transform(img)            # transform anenq mer uzaci size i vor model@ vren ashxatacnenq\n",
    "plt.imshow(im_convert(img))"
   ]
  },
  {
   "cell_type": "code",
   "execution_count": 24,
   "metadata": {
    "colab": {
     "base_uri": "https://localhost:8080/",
     "height": 34
    },
    "colab_type": "code",
    "id": "Gd_XSROHFzsd",
    "outputId": "534f000c-1119-4fda-9021-ff8843280f6e"
   },
   "outputs": [
    {
     "name": "stdout",
     "output_type": "stream",
     "text": [
      "5\n"
     ]
    },
    {
     "name": "stderr",
     "output_type": "stream",
     "text": [
      "C:\\Users\\Arman\\Anaconda3\\lib\\site-packages\\ipykernel_launcher.py:11: UserWarning: Implicit dimension choice for softmax has been deprecated. Change the call to include dim=X as an argument.\n",
      "  # This is added back by InteractiveShellApp.init_path()\n"
     ]
    }
   ],
   "source": [
    "img = img.view(img.shape[0], -1)     # skzbic eli flatten anenq vor tanq mer modelin predict anelu hamar \n",
    "output = model(img)                  # predict\n",
    "_, pred = torch.max(output, 1)       # get the maximum index after softmax last layer activation\n",
    "print(pred.item())"
   ]
  },
  {
   "cell_type": "code",
   "execution_count": 25,
   "metadata": {
    "colab": {
     "base_uri": "https://localhost:8080/",
     "height": 303
    },
    "colab_type": "code",
    "id": "UE7haDIMG2cE",
    "outputId": "14ae08d1-b70f-4b6b-b47d-e631ab8a203f"
   },
   "outputs": [
    {
     "name": "stderr",
     "output_type": "stream",
     "text": [
      "C:\\Users\\Arman\\Anaconda3\\lib\\site-packages\\ipykernel_launcher.py:11: UserWarning: Implicit dimension choice for softmax has been deprecated. Change the call to include dim=X as an argument.\n",
      "  # This is added back by InteractiveShellApp.init_path()\n"
     ]
    },
    {
     "data": {
      "image/png": "[encoded data removed]",
      "text/plain": [
       "<Figure size 1800x288 with 20 Axes>"
      ]
     },
     "metadata": {},
     "output_type": "display_data"
    }
   ],
   "source": [
    "dataiter = iter(validation_loader)\n",
    "images, labels = dataiter.next()\n",
    "images_ = images.view(images.shape[0], -1)\n",
    "output = model(images_)\n",
    "_, preds = torch.max(output, 1)\n",
    "\n",
    "fig = plt.figure(figsize=(25, 4))\n",
    "\n",
    "for idx in np.arange(20):\n",
    "    ax = fig.add_subplot(2, 10, idx+1, xticks=[], yticks=[])\n",
    "    plt.imshow(im_convert(images[idx]))\n",
    "    ax.set_title(\"{} ({})\".format(str(preds[idx].item()), str(labels[idx].item())), color=(\"green\" if preds[idx]==labels[idx] else \"red\"))"
   ]
  },
  {
   "cell_type": "code",
   "execution_count": 34,
   "metadata": {},
   "outputs": [
    {
     "name": "stdout",
     "output_type": "stream",
     "text": [
      "classifier.0.weight tensor([[ 0.0169,  0.0300, -0.0272,  ..., -0.0223,  0.0304, -0.0219],\n",
      "        [ 0.0002, -0.0162, -0.0136,  ..., -0.0096,  0.0132,  0.0064],\n",
      "        [ 0.0003,  0.0198,  0.0113,  ...,  0.0078, -0.0071,  0.0027],\n",
      "        ...,\n",
      "        [ 0.0345, -0.0160, -0.0298,  ...,  0.0250,  0.0185,  0.0352],\n",
      "        [-0.0154,  0.0190,  0.0205,  ...,  0.0099,  0.0237,  0.0043],\n",
      "        [ 0.0285,  0.0319,  0.0018,  ..., -0.0242,  0.0260,  0.0208]])\n"
     ]
    }
   ],
   "source": [
    "# for name, param in model2.named_parameters():\n",
    "#     if param.requires_grad:\n",
    "#         print(name, param.data)\n",
    "#         break"
   ]
  },
  {
   "cell_type": "code",
   "execution_count": 36,
   "metadata": {},
   "outputs": [],
   "source": [
    "# for param in model2.parameters():\n",
    "#     print(param)\n",
    "#     break"
   ]
  },
  {
   "cell_type": "code",
   "execution_count": 26,
   "metadata": {},
   "outputs": [
    {
     "name": "stderr",
     "output_type": "stream",
     "text": [
      "C:\\Users\\Arman\\Anaconda3\\lib\\site-packages\\ipykernel_launcher.py:8: TqdmDeprecationWarning: This function will be removed in tqdm==5.0.0\n",
      "Please use `tqdm.notebook.tqdm` instead of `tqdm.tqdm_notebook`\n",
      "  \n"
     ]
    },
    {
     "data": {
      "application/vnd.jupyter.widget-view+json": {
       "model_id": "724f5eba3d2144ed898b647635f17282",
       "version_major": 2,
       "version_minor": 0
      },
      "text/plain": [
       "HBox(children=(IntProgress(value=0, max=5), HTML(value='')))"
      ]
     },
     "metadata": {},
     "output_type": "display_data"
    },
    {
     "name": "stdout",
     "output_type": "stream",
     "text": [
      "epoch 0\n",
      "Running Loss: 169.24727439507842\n",
      "Accuracy in train: 0.9724833333333334\n",
      "Accuracy in test: 0.9665\n",
      "epoch 1\n",
      "Running Loss: 56.40829891897738\n",
      "Accuracy in train: 0.98415\n",
      "Accuracy in test: 0.9753\n",
      "epoch 2\n",
      "Running Loss: 38.02910435851663\n",
      "Accuracy in train: 0.9875833333333334\n",
      "Accuracy in test: 0.9749\n",
      "epoch 3\n",
      "Running Loss: 29.09111963957548\n",
      "Accuracy in train: 0.9893833333333333\n",
      "Accuracy in test: 0.9752\n",
      "epoch 4\n",
      "Running Loss: 21.695683086989447\n",
      "Accuracy in train: 0.9929833333333333\n",
      "Accuracy in test: 0.9758\n",
      "\n"
     ]
    }
   ],
   "source": [
    "loss_fn = torch.nn.CrossEntropyLoss()\n",
    "learning_rate = 0.001\n",
    "optimizer = torch.optim.Adam(model2.parameters(), lr=learning_rate)\n",
    "\n",
    "from tqdm import tqdm, tqdm_notebook\n",
    "from sklearn.metrics import accuracy_score\n",
    "\n",
    "for epoch in tqdm_notebook(range(5)):\n",
    "\n",
    "    running_loss = 0.0\n",
    "    y_preds = []\n",
    "    y_reals = []\n",
    "    \n",
    "    model2.train()\n",
    "    \n",
    "    for x_batch, y_batch in training_loader:\n",
    "        optimizer.zero_grad()\n",
    "        y_pred = model2(x_batch)\n",
    "        loss = loss_fn(y_pred, y_batch)\n",
    "        loss.backward()\n",
    "        optimizer.step()\n",
    "\n",
    "        running_loss += loss.item()\n",
    "            \n",
    "    print('epoch', epoch)\n",
    "    \n",
    "    model2.eval()                       # model.eval() will notify all your layers that you are in eval mode,\n",
    "                                        # that way, batchnorm or dropout layers will work in eval mode instead of training mode.\n",
    "                                        # model eval in batch norm during train and eval difference\n",
    "                                        # During training, this layer keeps a running estimate of its computed mean and variance. \n",
    "                                        # During evaluation, this running mean/variance is used for normalization.\n",
    "    \n",
    "    print('Running Loss:', running_loss)\n",
    "    \n",
    "    for x_batch, y_batch in training_loader:\n",
    "\n",
    "        y_pred = model2(x_batch)\n",
    "        _, predicted = torch.max(y_pred.data, 1)\n",
    "\n",
    "        for p, y in zip(y_batch, predicted):\n",
    "            y_preds.append(p)\n",
    "            y_reals.append(y)\n",
    "\n",
    "    print('Accuracy in train:', accuracy_score(y_preds, y_reals))\n",
    "\n",
    "    y_preds = []\n",
    "    y_reals = []\n",
    "\n",
    "\n",
    "    for x_batch, y_batch in validation_loader:\n",
    "\n",
    "        y_pred = model2(x_batch)\n",
    "        _, predicted = torch.max(y_pred.data, 1)\n",
    "\n",
    "        for p, y in zip(y_batch, predicted):\n",
    "            y_preds.append(p)\n",
    "            y_reals.append(y)\n",
    "\n",
    "    print('Accuracy in test:', accuracy_score(y_preds, y_reals))        "
   ]
  },
  {
   "cell_type": "code",
   "execution_count": 32,
   "metadata": {},
   "outputs": [
    {
     "data": {
      "text/plain": [
       "Parameter containing:\n",
       "tensor([[-0.0022,  0.0344,  0.0329,  ..., -0.0153,  0.0121,  0.0311],\n",
       "        [ 0.0374, -0.0102,  0.0285,  ...,  0.0205, -0.0151,  0.0388],\n",
       "        [ 0.0410, -0.0111,  0.0104,  ...,  0.0161,  0.0186,  0.0116],\n",
       "        ...,\n",
       "        [-0.0137, -0.0138, -0.0040,  ...,  0.0242, -0.0051,  0.0178],\n",
       "        [ 0.0330, -0.0016, -0.0188,  ...,  0.0046,  0.0342,  0.0237],\n",
       "        [-0.0060,  0.0420,  0.0302,  ...,  0.0092,  0.0436,  0.0296]],\n",
       "       requires_grad=True)"
      ]
     },
     "execution_count": 32,
     "metadata": {},
     "output_type": "execute_result"
    }
   ],
   "source": [
    "next(model3.parameters())"
   ]
  },
  {
   "cell_type": "code",
   "execution_count": 30,
   "metadata": {},
   "outputs": [
    {
     "name": "stderr",
     "output_type": "stream",
     "text": [
      "C:\\Users\\Arman\\Anaconda3\\lib\\site-packages\\ipykernel_launcher.py:8: TqdmDeprecationWarning: This function will be removed in tqdm==5.0.0\n",
      "Please use `tqdm.notebook.tqdm` instead of `tqdm.tqdm_notebook`\n",
      "  \n"
     ]
    },
    {
     "data": {
      "application/vnd.jupyter.widget-view+json": {
       "model_id": "cd4fa253a75c4db48d7252c3dd7ec9c9",
       "version_major": 2,
       "version_minor": 0
      },
      "text/plain": [
       "HBox(children=(IntProgress(value=0, max=5), HTML(value='')))"
      ]
     },
     "metadata": {},
     "output_type": "display_data"
    },
    {
     "name": "stderr",
     "output_type": "stream",
     "text": [
      "C:\\Users\\Arman\\Anaconda3\\lib\\site-packages\\ipykernel_launcher.py:21: UserWarning: Implicit dimension choice for softmax has been deprecated. Change the call to include dim=X as an argument.\n"
     ]
    },
    {
     "name": "stdout",
     "output_type": "stream",
     "text": [
      "epoch 0\n",
      "Running Loss: 990.0813474655151\n",
      "Accuracy in train: 0.8552333333333333\n",
      "Accuracy in test: 0.8629\n",
      "epoch 1\n",
      "Running Loss: 936.1334216594696\n",
      "Accuracy in train: 0.92485\n",
      "Accuracy in test: 0.9242\n",
      "epoch 2\n",
      "Running Loss: 926.8908994197845\n",
      "Accuracy in train: 0.9326666666666666\n",
      "Accuracy in test: 0.9285\n",
      "epoch 3\n",
      "Running Loss: 922.4900561571121\n",
      "Accuracy in train: 0.9368666666666666\n",
      "Accuracy in test: 0.9345\n",
      "epoch 4\n",
      "Running Loss: 919.9849103689194\n",
      "Accuracy in train: 0.9299666666666667\n",
      "Accuracy in test: 0.9262\n",
      "\n"
     ]
    }
   ],
   "source": [
    "loss_fn = torch.nn.CrossEntropyLoss()\n",
    "learning_rate = 0.001\n",
    "optimizer = torch.optim.Adam(model3.parameters(), lr=learning_rate)\n",
    "\n",
    "from tqdm import tqdm, tqdm_notebook\n",
    "from sklearn.metrics import accuracy_score\n",
    "\n",
    "for epoch in tqdm_notebook(range(5)):\n",
    "\n",
    "    running_loss = 0.0\n",
    "    y_preds = []\n",
    "    y_reals = []\n",
    "    \n",
    "    model3.train()\n",
    "    \n",
    "    for x_batch, y_batch in training_loader:\n",
    "        optimizer.zero_grad()\n",
    "        y_pred = model3(x_batch)\n",
    "        loss = loss_fn(y_pred, y_batch)\n",
    "        loss.backward()\n",
    "        optimizer.step()\n",
    "\n",
    "        running_loss += loss.item()\n",
    "            \n",
    "    print('epoch', epoch)\n",
    "    model3.eval()\n",
    "    print('Running Loss:', running_loss)\n",
    "    \n",
    "    for x_batch, y_batch in training_loader:\n",
    "\n",
    "        y_pred = model3(x_batch)\n",
    "        _, predicted = torch.max(y_pred.data, 1)\n",
    "\n",
    "        for p, y in zip(y_batch, predicted):\n",
    "            y_preds.append(p)\n",
    "            y_reals.append(y)\n",
    "\n",
    "    print('Accuracy in train:', accuracy_score(y_preds, y_reals))\n",
    "\n",
    "    y_preds = []\n",
    "    y_reals = []\n",
    "\n",
    "\n",
    "    for x_batch, y_batch in validation_loader:\n",
    "\n",
    "        y_pred = model3(x_batch)\n",
    "        _, predicted = torch.max(y_pred.data, 1)\n",
    "\n",
    "        for p, y in zip(y_batch, predicted):\n",
    "            y_preds.append(p)\n",
    "            y_reals.append(y)\n",
    "\n",
    "    print('Accuracy in test:', accuracy_score(y_preds, y_reals))"
   ]
  }
 ],
 "metadata": {
  "colab": {
   "name": "MNIST.ipynb",
   "provenance": [],
   "version": "0.3.2"
  },
  "kernelspec": {
   "display_name": "Python 3",
   "language": "python",
   "name": "python3"
  },
  "language_info": {
   "codemirror_mode": {
    "name": "ipython",
    "version": 3
   },
   "file_extension": ".py",
   "mimetype": "text/x-python",
   "name": "python",
   "nbconvert_exporter": "python",
   "pygments_lexer": "ipython3",
   "version": "3.7.4"
  }
 },
 "nbformat": 4,
 "nbformat_minor": 1
}

{
 "cells": [
  {
   "cell_type": "markdown",
   "metadata": {},
   "source": [
    "# Birthday paradox problem"
   ]
  },
  {
   "cell_type": "markdown",
   "metadata": {},
   "source": [
    "## What is the probability that out 23 people in a room 2 people will share the same birthday."
   ]
  },
  {
   "cell_type": "markdown",
   "metadata": {},
   "source": [
    "The two assumptions we make that birthdays are equaly likely to happen and that we do not consider leap years and assume that each year has 365 days\n",
    "The first step we make to solve the problem is to calculate the probability of two people not having the same birhday in a year. It is obvious that it equals 1 - 1/365 = 364/365 or we can think like the prob second person to born on other day than the first one is 364/365 since if person 1 was born on day x there are 365 - 1 = 364 days left for second person to be born so that there birthday is different.\n",
    "\n",
    "Second step is to understand how many comparisons of need to make. if we are in a group of 23 and we compare our birthday with the others, we think we're making only 22 comparisons. This means that there are only 22 chances of sharing the birthday with someone.\n",
    "\n",
    "However, we don’t make only 22 comparisons. That number is much larger and it is the reason we perceive this problem as a paradox. In fact, the second person was compared with the first one, so he/she has 21 comparisons to make. The third one has to do 20 and so on. To get the total number of comparisons we have to do: Comparisons = 22 + 21 + 20 + .... 1\n",
    "So in total, we make 253 comparisons since sum of numbers from 1 to n = n ( n + 1 ) /2 . Or to count the number of comparisons we can just write general formula of C k ic 2 akan which is how many ways we can choose 2 people out of k people.\n",
    "\n",
    "Finally to count the probability out of 23 people 2 do not share the same birthday we calculate (1 - 1/365) ^ 253 which approximately equals 49.7 percent so there is around 50.3 percent chance that out of 23 people 2 people will share the same birthday.\n"
   ]
  },
  {
   "cell_type": "code",
   "execution_count": 3,
   "metadata": {},
   "outputs": [
    {
     "ename": "ModuleNotFoundError",
     "evalue": "No module named 'dryscrape'",
     "output_type": "error",
     "traceback": [
      "\u001b[1;31m---------------------------------------------------------------------------\u001b[0m",
      "\u001b[1;31mModuleNotFoundError\u001b[0m                       Traceback (most recent call last)",
      "\u001b[1;32m<ipython-input-3-e99fd2f2e328>\u001b[0m in \u001b[0;36m<module>\u001b[1;34m\u001b[0m\n\u001b[1;32m----> 1\u001b[1;33m \u001b[1;32mimport\u001b[0m \u001b[0mdryscrape\u001b[0m\u001b[1;33m\u001b[0m\u001b[1;33m\u001b[0m\u001b[0m\n\u001b[0m\u001b[0;32m      2\u001b[0m \u001b[1;32mimport\u001b[0m \u001b[0mre\u001b[0m\u001b[1;33m\u001b[0m\u001b[1;33m\u001b[0m\u001b[0m\n\u001b[0;32m      3\u001b[0m \u001b[1;33m\u001b[0m\u001b[0m\n\u001b[0;32m      4\u001b[0m \u001b[0murl\u001b[0m \u001b[1;33m=\u001b[0m \u001b[1;34m'http://spys.one/free-proxy-list/FR/'\u001b[0m\u001b[1;33m\u001b[0m\u001b[1;33m\u001b[0m\u001b[0m\n\u001b[0;32m      5\u001b[0m \u001b[1;33m\u001b[0m\u001b[0m\n",
      "\u001b[1;31mModuleNotFoundError\u001b[0m: No module named 'dryscrape'"
     ]
    }
   ],
   "source": [
    "import dryscrape\n",
    "import re\n",
    "\n",
    "url = 'http://spys.one/free-proxy-list/FR/'\n",
    "\n",
    "\n",
    "\n",
    "#get html with javascript\n",
    "session = dryscrape.Session()\n",
    "session.visit(url)\n",
    "response = session.body()\n",
    "\n",
    "\n",
    "#capture ip:\n",
    "IP = re.findall(r'[0-9]+(?:\\.[0-9]+){3}(?=<script)',response)\n",
    "\n",
    "#capture port:\n",
    "port = re.findall(r'(?<=:</font>)(.*?)(?=\\<)',response)\n",
    "print(IP)\n",
    "print(port)\n",
    "# #join IP with ports\n",
    "# IP_with_ports = []\n",
    "# for i in range(len(IP)):\n",
    "#     IP_with_ports.append(IP[i] + \":\" + port[i])\n",
    "\n",
    "\n",
    "# print (IP_with_ports)"
   ]
  },
  {
   "cell_type": "code",
   "execution_count": 7,
   "metadata": {},
   "outputs": [
    {
     "name": "stdout",
     "output_type": "stream",
     "text": [
      "Unable to get Hostname and IP\n"
     ]
    }
   ],
   "source": [
    "import socket\n",
    "def get_Host_name_IP(url): \n",
    "    try: \n",
    "        host_name = socket.gethostname(url) \n",
    "        host_ip = socket.gethostbyname(host_name) \n",
    "        print(\"Hostname :  \",host_name) \n",
    "        print(\"IP : \",host_ip) \n",
    "    except: \n",
    "        print(\"Unable to get Hostname and IP\") \n",
    "  \n",
    "# Driver code \n",
    "get_Host_name_IP('https://google.com/') #Function call"
   ]
  },
  {
   "cell_type": "code",
   "execution_count": 11,
   "metadata": {},
   "outputs": [
    {
     "name": "stdout",
     "output_type": "stream",
     "text": [
      "jessica.ns.cloudflare.com.\n",
      "piotr.ns.cloudflare.com.\n"
     ]
    },
    {
     "name": "stderr",
     "output_type": "stream",
     "text": [
      "<ipython-input-11-562d3fca56a8>:4: DeprecationWarning: please use dns.resolver.resolve() instead\n",
      "  answers = dns.resolver.query(domain,'NS')\n"
     ]
    }
   ],
   "source": [
    "import dns.resolver\n",
    "\n",
    "domain = 'easydmarc.com'\n",
    "answers = dns.resolver.query(domain,'NS')\n",
    "for server in answers:\n",
    "    print(server.target)"
   ]
  },
  {
   "cell_type": "code",
   "execution_count": 21,
   "metadata": {},
   "outputs": [
    {
     "name": "stdout",
     "output_type": "stream",
     "text": [
      "Host mx.yandex.net. has preference 10\n"
     ]
    }
   ],
   "source": [
    "import dns.resolver\n",
    "\n",
    "domain = 'easydmarc.com'\n",
    "answers = dns.resolver.resolve('easydmarc.com', 'MX')\n",
    "for rdata in answers:\n",
    "    print('Host', rdata.exchange, 'has preference', rdata.preference)"
   ]
  },
  {
   "cell_type": "code",
   "execution_count": 33,
   "metadata": {},
   "outputs": [
    {
     "name": "stdout",
     "output_type": "stream",
     "text": [
      "<dns.resolver.Answer object at 0x0000015AA7EFCEB0>\n",
      "104.27.154.23\n",
      "172.67.137.221\n",
      "104.27.155.23\n"
     ]
    }
   ],
   "source": [
    "import dns.resolver\n",
    "\n",
    "domain = 'easydmarc.com'\n",
    "answers = dns.resolver.resolve('easydmarc.com')\n",
    "print(answers)\n",
    "for rdata in answers:\n",
    "    print(rdata)"
   ]
  },
  {
   "cell_type": "markdown",
   "metadata": {},
   "source": [
    "# Get alexa rank of website "
   ]
  },
  {
   "cell_type": "code",
   "execution_count": 38,
   "metadata": {},
   "outputs": [
    {
     "name": "stdout",
     "output_type": "stream",
     "text": [
      "162664\n"
     ]
    }
   ],
   "source": [
    "import urllib, sys, bs4\n",
    "print(bs4.BeautifulSoup(urllib.request.urlopen(\"http://data.alexa.com/data?cli=10&dat=s&url=\"+ \"easydmarc.com\").read(), \"xml\").find(\"REACH\")['RANK'])"
   ]
  },
  {
   "cell_type": "code",
   "execution_count": 22,
   "metadata": {},
   "outputs": [],
   "source": [
    "# How to get backurls for domain, domain authority, TTL from DNS record(time ot live)\n",
    "#  Life span of Domain (Creation date – Expiration date)\n",
    "# Presence of Creation, Updation and Expiration dates\n",
    "\n",
    "# 1. Presence of PTR record, 2. Does the PTR record in turn resolve one of the host’s IP addresses?,\n",
    "# 3. TTL value of DNS records of hostname, 4. Presence of DNS A record, 5. Presence of DNS NS record,\n",
    "# 6. Presence of DNS MX record\n",
    "\n",
    "# 1. Presence of SSL, 2. SSL Certificate match with protected site,\n",
    "# 3.SSL Certificate authority name, 4. SSL Certificate age\n",
    "\n",
    "# anpayman avelacnem alexa i ranki feature@ tuyn ashxatuma , partadir petqa check anel karam google ov sayti rank@ gtnem te che"
   ]
  },
  {
   "cell_type": "markdown",
   "metadata": {},
   "source": [
    "# Web of trust report with python api ( wot )"
   ]
  },
  {
   "cell_type": "code",
   "execution_count": 24,
   "metadata": {},
   "outputs": [
    {
     "ename": "ModuleNotFoundError",
     "evalue": "No module named 'wot'",
     "output_type": "error",
     "traceback": [
      "\u001b[1;31m---------------------------------------------------------------------------\u001b[0m",
      "\u001b[1;31mModuleNotFoundError\u001b[0m                       Traceback (most recent call last)",
      "\u001b[1;32m<ipython-input-24-2e68ecb48874>\u001b[0m in \u001b[0;36m<module>\u001b[1;34m\u001b[0m\n\u001b[1;32m----> 1\u001b[1;33m \u001b[1;32mfrom\u001b[0m \u001b[0mwot\u001b[0m \u001b[1;32mimport\u001b[0m \u001b[1;33m*\u001b[0m\u001b[1;33m\u001b[0m\u001b[1;33m\u001b[0m\u001b[0m\n\u001b[0m\u001b[0;32m      2\u001b[0m \u001b[1;33m\u001b[0m\u001b[0m\n\u001b[0;32m      3\u001b[0m \u001b[0m__author__\u001b[0m \u001b[1;33m=\u001b[0m \u001b[1;34m'Dmitry Spikhalskiy <dmitry@spikhalskiy.com>'\u001b[0m\u001b[1;33m\u001b[0m\u001b[1;33m\u001b[0m\u001b[0m\n\u001b[0;32m      4\u001b[0m \u001b[1;33m\u001b[0m\u001b[0m\n\u001b[0;32m      5\u001b[0m \u001b[0mKEY\u001b[0m\u001b[1;33m=\u001b[0m\u001b[1;34m\"\"\u001b[0m\u001b[1;33m\u001b[0m\u001b[1;33m\u001b[0m\u001b[0m\n",
      "\u001b[1;31mModuleNotFoundError\u001b[0m: No module named 'wot'"
     ]
    }
   ],
   "source": [
    "from wot import *\n",
    "\n",
    "__author__ = 'Dmitry Spikhalskiy <dmitry@spikhalskiy.com>'\n",
    "\n",
    "KEY=\"\"\n",
    "\n",
    "report = wot_reports_for_domains(\"google.com\", KEY)\n",
    "print(parse_attributes_for_report(report))\n",
    "\n",
    "report = wot_reports_for_domains([\"yahoo.com\"], KEY)\n",
    "print(parse_attributes_for_report(report[\"yahoo.com\"]))"
   ]
  },
  {
   "cell_type": "markdown",
   "metadata": {},
   "source": [
    "# SSL certificate"
   ]
  },
  {
   "cell_type": "code",
   "execution_count": 30,
   "metadata": {},
   "outputs": [
    {
     "ename": "SSLError",
     "evalue": "[SSL: WRONG_VERSION_NUMBER] wrong version number (_ssl.c:1108)",
     "output_type": "error",
     "traceback": [
      "\u001b[1;31m---------------------------------------------------------------------------\u001b[0m",
      "\u001b[1;31mSSLError\u001b[0m                                  Traceback (most recent call last)",
      "\u001b[1;32m<ipython-input-30-09dffe2e89a1>\u001b[0m in \u001b[0;36m<module>\u001b[1;34m\u001b[0m\n\u001b[0;32m      1\u001b[0m \u001b[1;32mimport\u001b[0m \u001b[0mssl\u001b[0m\u001b[1;33m\u001b[0m\u001b[1;33m\u001b[0m\u001b[0m\n\u001b[1;32m----> 2\u001b[1;33m \u001b[0mssl\u001b[0m\u001b[1;33m.\u001b[0m\u001b[0mget_server_certificate\u001b[0m\u001b[1;33m(\u001b[0m\u001b[1;33m(\u001b[0m\u001b[1;34m'python.org'\u001b[0m\u001b[1;33m,\u001b[0m \u001b[1;36m80\u001b[0m\u001b[1;33m)\u001b[0m\u001b[1;33m)\u001b[0m\u001b[1;33m\u001b[0m\u001b[1;33m\u001b[0m\u001b[0m\n\u001b[0m",
      "\u001b[1;32mC:\\ProgramData\\Anaconda3\\lib\\ssl.py\u001b[0m in \u001b[0;36mget_server_certificate\u001b[1;34m(addr, ssl_version, ca_certs)\u001b[0m\n\u001b[0;32m   1482\u001b[0m                                      cafile=ca_certs)\n\u001b[0;32m   1483\u001b[0m     \u001b[1;32mwith\u001b[0m  \u001b[0mcreate_connection\u001b[0m\u001b[1;33m(\u001b[0m\u001b[0maddr\u001b[0m\u001b[1;33m)\u001b[0m \u001b[1;32mas\u001b[0m \u001b[0msock\u001b[0m\u001b[1;33m:\u001b[0m\u001b[1;33m\u001b[0m\u001b[1;33m\u001b[0m\u001b[0m\n\u001b[1;32m-> 1484\u001b[1;33m         \u001b[1;32mwith\u001b[0m \u001b[0mcontext\u001b[0m\u001b[1;33m.\u001b[0m\u001b[0mwrap_socket\u001b[0m\u001b[1;33m(\u001b[0m\u001b[0msock\u001b[0m\u001b[1;33m)\u001b[0m \u001b[1;32mas\u001b[0m \u001b[0msslsock\u001b[0m\u001b[1;33m:\u001b[0m\u001b[1;33m\u001b[0m\u001b[1;33m\u001b[0m\u001b[0m\n\u001b[0m\u001b[0;32m   1485\u001b[0m             \u001b[0mdercert\u001b[0m \u001b[1;33m=\u001b[0m \u001b[0msslsock\u001b[0m\u001b[1;33m.\u001b[0m\u001b[0mgetpeercert\u001b[0m\u001b[1;33m(\u001b[0m\u001b[1;32mTrue\u001b[0m\u001b[1;33m)\u001b[0m\u001b[1;33m\u001b[0m\u001b[1;33m\u001b[0m\u001b[0m\n\u001b[0;32m   1486\u001b[0m     \u001b[1;32mreturn\u001b[0m \u001b[0mDER_cert_to_PEM_cert\u001b[0m\u001b[1;33m(\u001b[0m\u001b[0mdercert\u001b[0m\u001b[1;33m)\u001b[0m\u001b[1;33m\u001b[0m\u001b[1;33m\u001b[0m\u001b[0m\n",
      "\u001b[1;32mC:\\ProgramData\\Anaconda3\\lib\\ssl.py\u001b[0m in \u001b[0;36mwrap_socket\u001b[1;34m(self, sock, server_side, do_handshake_on_connect, suppress_ragged_eofs, server_hostname, session)\u001b[0m\n\u001b[0;32m    498\u001b[0m         \u001b[1;31m# SSLSocket class handles server_hostname encoding before it calls\u001b[0m\u001b[1;33m\u001b[0m\u001b[1;33m\u001b[0m\u001b[1;33m\u001b[0m\u001b[0m\n\u001b[0;32m    499\u001b[0m         \u001b[1;31m# ctx._wrap_socket()\u001b[0m\u001b[1;33m\u001b[0m\u001b[1;33m\u001b[0m\u001b[1;33m\u001b[0m\u001b[0m\n\u001b[1;32m--> 500\u001b[1;33m         return self.sslsocket_class._create(\n\u001b[0m\u001b[0;32m    501\u001b[0m             \u001b[0msock\u001b[0m\u001b[1;33m=\u001b[0m\u001b[0msock\u001b[0m\u001b[1;33m,\u001b[0m\u001b[1;33m\u001b[0m\u001b[1;33m\u001b[0m\u001b[0m\n\u001b[0;32m    502\u001b[0m             \u001b[0mserver_side\u001b[0m\u001b[1;33m=\u001b[0m\u001b[0mserver_side\u001b[0m\u001b[1;33m,\u001b[0m\u001b[1;33m\u001b[0m\u001b[1;33m\u001b[0m\u001b[0m\n",
      "\u001b[1;32mC:\\ProgramData\\Anaconda3\\lib\\ssl.py\u001b[0m in \u001b[0;36m_create\u001b[1;34m(cls, sock, server_side, do_handshake_on_connect, suppress_ragged_eofs, server_hostname, context, session)\u001b[0m\n\u001b[0;32m   1038\u001b[0m                         \u001b[1;31m# non-blocking\u001b[0m\u001b[1;33m\u001b[0m\u001b[1;33m\u001b[0m\u001b[1;33m\u001b[0m\u001b[0m\n\u001b[0;32m   1039\u001b[0m                         \u001b[1;32mraise\u001b[0m \u001b[0mValueError\u001b[0m\u001b[1;33m(\u001b[0m\u001b[1;34m\"do_handshake_on_connect should not be specified for non-blocking sockets\"\u001b[0m\u001b[1;33m)\u001b[0m\u001b[1;33m\u001b[0m\u001b[1;33m\u001b[0m\u001b[0m\n\u001b[1;32m-> 1040\u001b[1;33m                     \u001b[0mself\u001b[0m\u001b[1;33m.\u001b[0m\u001b[0mdo_handshake\u001b[0m\u001b[1;33m(\u001b[0m\u001b[1;33m)\u001b[0m\u001b[1;33m\u001b[0m\u001b[1;33m\u001b[0m\u001b[0m\n\u001b[0m\u001b[0;32m   1041\u001b[0m             \u001b[1;32mexcept\u001b[0m \u001b[1;33m(\u001b[0m\u001b[0mOSError\u001b[0m\u001b[1;33m,\u001b[0m \u001b[0mValueError\u001b[0m\u001b[1;33m)\u001b[0m\u001b[1;33m:\u001b[0m\u001b[1;33m\u001b[0m\u001b[1;33m\u001b[0m\u001b[0m\n\u001b[0;32m   1042\u001b[0m                 \u001b[0mself\u001b[0m\u001b[1;33m.\u001b[0m\u001b[0mclose\u001b[0m\u001b[1;33m(\u001b[0m\u001b[1;33m)\u001b[0m\u001b[1;33m\u001b[0m\u001b[1;33m\u001b[0m\u001b[0m\n",
      "\u001b[1;32mC:\\ProgramData\\Anaconda3\\lib\\ssl.py\u001b[0m in \u001b[0;36mdo_handshake\u001b[1;34m(self, block)\u001b[0m\n\u001b[0;32m   1307\u001b[0m             \u001b[1;32mif\u001b[0m \u001b[0mtimeout\u001b[0m \u001b[1;33m==\u001b[0m \u001b[1;36m0.0\u001b[0m \u001b[1;32mand\u001b[0m \u001b[0mblock\u001b[0m\u001b[1;33m:\u001b[0m\u001b[1;33m\u001b[0m\u001b[1;33m\u001b[0m\u001b[0m\n\u001b[0;32m   1308\u001b[0m                 \u001b[0mself\u001b[0m\u001b[1;33m.\u001b[0m\u001b[0msettimeout\u001b[0m\u001b[1;33m(\u001b[0m\u001b[1;32mNone\u001b[0m\u001b[1;33m)\u001b[0m\u001b[1;33m\u001b[0m\u001b[1;33m\u001b[0m\u001b[0m\n\u001b[1;32m-> 1309\u001b[1;33m             \u001b[0mself\u001b[0m\u001b[1;33m.\u001b[0m\u001b[0m_sslobj\u001b[0m\u001b[1;33m.\u001b[0m\u001b[0mdo_handshake\u001b[0m\u001b[1;33m(\u001b[0m\u001b[1;33m)\u001b[0m\u001b[1;33m\u001b[0m\u001b[1;33m\u001b[0m\u001b[0m\n\u001b[0m\u001b[0;32m   1310\u001b[0m         \u001b[1;32mfinally\u001b[0m\u001b[1;33m:\u001b[0m\u001b[1;33m\u001b[0m\u001b[1;33m\u001b[0m\u001b[0m\n\u001b[0;32m   1311\u001b[0m             \u001b[0mself\u001b[0m\u001b[1;33m.\u001b[0m\u001b[0msettimeout\u001b[0m\u001b[1;33m(\u001b[0m\u001b[0mtimeout\u001b[0m\u001b[1;33m)\u001b[0m\u001b[1;33m\u001b[0m\u001b[1;33m\u001b[0m\u001b[0m\n",
      "\u001b[1;31mSSLError\u001b[0m: [SSL: WRONG_VERSION_NUMBER] wrong version number (_ssl.c:1108)"
     ]
    }
   ],
   "source": [
    "import ssl\n",
    "ssl.get_server_certificate(('python.org', 80))"
   ]
  },
  {
   "cell_type": "markdown",
   "metadata": {},
   "source": [
    "# Check wether we have redirection ot not"
   ]
  },
  {
   "cell_type": "code",
   "execution_count": 59,
   "metadata": {},
   "outputs": [],
   "source": [
    "# import requests\n",
    "# #responses = requests.get(\"https://amazon.com\")\n",
    "# responses = requests.get(\"https://www.wikipedia.org\")\n",
    "# for response in responses.history:\n",
    "#     print(response.url)"
   ]
  },
  {
   "cell_type": "code",
   "execution_count": 62,
   "metadata": {},
   "outputs": [
    {
     "name": "stdout",
     "output_type": "stream",
     "text": [
      "<Response [403]>\n",
      "Request was not redirected\n"
     ]
    }
   ],
   "source": [
    "desired_url = \"https://list.am/\"\n",
    "response = requests.get(desired_url)\n",
    "print(response)\n",
    "if response.history:\n",
    "    print(\"Request was redirected\")\n",
    "    for resp in response.history:\n",
    "        print(resp.status_code, resp.url)\n",
    "    if resp.url == desired_url or resp.url == desired_url + '/':\n",
    "        print(\"Request was actually not redirected\")\n",
    "    print(\"Final destination:\")\n",
    "    print(response.status_code, response.url)\n",
    "else:\n",
    "    print(\"Request was not redirected\")"
   ]
  },
  {
   "cell_type": "code",
   "execution_count": null,
   "metadata": {},
   "outputs": [],
   "source": []
  }
 ],
 "metadata": {
  "kernelspec": {
   "display_name": "Python 3",
   "language": "python",
   "name": "python3"
  },
  "language_info": {
   "codemirror_mode": {
    "name": "ipython",
    "version": 3
   },
   "file_extension": ".py",
   "mimetype": "text/x-python",
   "name": "python",
   "nbconvert_exporter": "python",
   "pygments_lexer": "ipython3",
   "version": "3.8.3"
  }
 },
 "nbformat": 4,
 "nbformat_minor": 4
}

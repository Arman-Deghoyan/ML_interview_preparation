{
 "cells": [
  {
   "cell_type": "code",
   "execution_count": 2,
   "metadata": {},
   "outputs": [
    {
     "name": "stdout",
     "output_type": "stream",
     "text": [
      "Sorted array is:\n",
      "11\n",
      "12\n",
      "22\n",
      "25\n",
      "34\n",
      "64\n",
      "90\n"
     ]
    }
   ],
   "source": [
    "def bubbleSort(arr): \n",
    "    n = len(arr) \n",
    "  \n",
    "    # Traverse through all array elements \n",
    "    for i in range(n): \n",
    "  \n",
    "        # Last i elements are already in place \n",
    "        for j in range(0, n-i-1): \n",
    "  \n",
    "            # traverse the array from 0 to n-i-1 \n",
    "            # Swap if the element found is greater \n",
    "            # than the next element \n",
    "            if arr[j] > arr[j+1] : \n",
    "                arr[j], arr[j+1] = arr[j+1], arr[j] \n",
    "    return arr\n",
    "  \n",
    "arr = [64, 34, 25, 12, 22, 11, 90] \n",
    "  \n",
    "bubbleSort(arr) \n",
    "  \n",
    "print (\"Sorted array is:\") \n",
    "for i in range(len(arr)): \n",
    "    print (\"%d\" %arr[i])"
   ]
  },
  {
   "cell_type": "code",
   "execution_count": null,
   "metadata": {},
   "outputs": [],
   "source": [
    "# An optimized version of Bubble Sort \n",
    "def bubbleSort(arr): \n",
    "    n = len(arr) \n",
    "   \n",
    "    # Traverse through all array elements \n",
    "    for i in range(n): \n",
    "        swapped = False\n",
    "  \n",
    "        # Last i elements are already \n",
    "        #  in place \n",
    "        for j in range(0, n-i-1): \n",
    "   \n",
    "            # traverse the array from 0 to \n",
    "            # n-i-1. Swap if the element  \n",
    "            # found is greater than the \n",
    "            # next element \n",
    "            if arr[j] > arr[j+1] : \n",
    "                arr[j], arr[j+1] = arr[j+1], arr[j] \n",
    "                swapped = True\n",
    "  \n",
    "        # IF no two elements were swapped \n",
    "        # by inner loop, then break \n",
    "        if swapped == False: \n",
    "            break\n",
    "    return arr\n",
    "  \n",
    "arr = [64, 34, 25, 12, 22, 11, 90] \n",
    "  \n",
    "bubbleSort(arr) \n",
    "  \n",
    "print (\"Sorted array is:\") \n",
    "for i in range(len(arr)): \n",
    "    print (\"%d\" %arr[i])"
   ]
  },
  {
   "cell_type": "code",
   "execution_count": null,
   "metadata": {},
   "outputs": [],
   "source": [
    "# Worst and Average Case Time Complexity: O(n*n). Worst case occurs when array is reverse sorted.\n",
    "\n",
    "#Best Case Time Complexity: O(n). Best case occurs when array is already sorted.\n",
    "\n",
    "# Auxiliary Space: O(1)\n",
    "\n",
    "# Important note that only for optimized bubble sort the best case is 0(n) and it is when the array is already sorted\n",
    "# During the not optimized case we do the all N iteration"
   ]
  }
 ],
 "metadata": {
  "kernelspec": {
   "display_name": "Python 3",
   "language": "python",
   "name": "python3"
  },
  "language_info": {
   "codemirror_mode": {
    "name": "ipython",
    "version": 3
   },
   "file_extension": ".py",
   "mimetype": "text/x-python",
   "name": "python",
   "nbconvert_exporter": "python",
   "pygments_lexer": "ipython3",
   "version": "3.8.3"
  }
 },
 "nbformat": 4,
 "nbformat_minor": 4
}

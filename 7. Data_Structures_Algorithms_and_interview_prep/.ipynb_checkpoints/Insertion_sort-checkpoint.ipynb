{
 "cells": [
  {
   "cell_type": "code",
   "execution_count": 54,
   "metadata": {},
   "outputs": [],
   "source": [
    "def insertion_sort(arr):\n",
    "    for i in range(1,len(arr)):\n",
    "        key = arr[i]\n",
    "        j = i - 1\n",
    "        \n",
    "        while j >= 0 and key < arr[j]:\n",
    "            arr[j+1] = arr[j]\n",
    "            print(arr)\n",
    "            j = j - 1\n",
    "        \n",
    "        print(f'This is how array looks after iteration number {i}  ' + f'{arr}')\n",
    "        arr[j+1] = key\n",
    "    \n",
    "    return arr"
   ]
  },
  {
   "cell_type": "code",
   "execution_count": 55,
   "metadata": {},
   "outputs": [
    {
     "name": "stdout",
     "output_type": "stream",
     "text": [
      "This is how array looks after iteration number 1  [2, 4, 5, 6, 1]\n",
      "This is how array looks after iteration number 2  [2, 4, 5, 6, 1]\n",
      "This is how array looks after iteration number 3  [2, 4, 5, 6, 1]\n",
      "[2, 4, 5, 6, 6]\n",
      "[2, 4, 5, 5, 6]\n",
      "[2, 4, 4, 5, 6]\n",
      "[2, 2, 4, 5, 6]\n",
      "This is how array looks after iteration number 4  [2, 2, 4, 5, 6]\n"
     ]
    },
    {
     "data": {
      "text/plain": [
       "[1, 2, 4, 5, 6]"
      ]
     },
     "execution_count": 55,
     "metadata": {},
     "output_type": "execute_result"
    }
   ],
   "source": [
    "insertion_sort([2,4,5,6,1])"
   ]
  },
  {
   "cell_type": "markdown",
   "metadata": {},
   "source": [
    "# Complexity\n",
    "# Worst case time complexity: Θ(n^2)\n",
    "# Average case time complexity: Θ(n^2)\n",
    "# Best case time complexity: Θ(n)\n",
    "# Space complexity: Θ(1)\n",
    "\n",
    "# https://www.khanacademy.org/computing/computer-science/algorithms/insertion-sort/a/analysis-of-insertion-sort"
   ]
  }
 ],
 "metadata": {
  "kernelspec": {
   "display_name": "Python 3",
   "language": "python",
   "name": "python3"
  },
  "language_info": {
   "codemirror_mode": {
    "name": "ipython",
    "version": 3
   },
   "file_extension": ".py",
   "mimetype": "text/x-python",
   "name": "python",
   "nbconvert_exporter": "python",
   "pygments_lexer": "ipython3",
   "version": "3.8.3"
  }
 },
 "nbformat": 4,
 "nbformat_minor": 4
}

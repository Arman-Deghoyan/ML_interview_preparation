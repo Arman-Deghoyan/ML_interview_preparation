{
 "cells": [
  {
   "cell_type": "markdown",
   "metadata": {},
   "source": [
    "## <span style='background :yellow' > Python and Machine Learning Interview Questions </span>"
   ]
  },
  {
   "cell_type": "markdown",
   "metadata": {},
   "source": [
    "## What is CPu and Ram and how they are connected \n",
    "5 -8 rd videonerum sax tuyn asvuma inch a cpu n vorna ira gegaherc@ u ira core@ u voncen kapvac cpu n u ram@"
   ]
  },
  {
   "cell_type": "markdown",
   "metadata": {},
   "source": [
    "## 1. Inchi hamara cashy CPU in kpcrac ev inchi hamar a ogtagorcvum\n",
    "\n",
    "Menq gitenq vor cpu u rami mech kap ka, aysinqn xosqi cpu n ramic data ya asum tur indz ram jan, karduma et data vercum shprtum ira registrneri mech sksum inch vor circitry( intructionner ban man , alu arithmetich logit unit ov ), aysinqn gorcoxutyunnera anum xosqi a + b tranzistor circuitry ov u heto write a anum het ram i mech. Bayc vor cpu n amen anqam chgna ga asi ram jan ok a n tvir hmi b n tur heto xosqi mer axper Vzgoin tur processori mech ka cash vor@ kpcraca processorin( bayc vor tangnoc bana hamel cpu i vra shat poqr tex karas harmarcnes) vor ram ic mianqamic shat info cache i mech pahvi  vor cpu n mianqamic cashic verci el cheta asi ba Ram jan inch ka ban data tur indz. "
   ]
  },
  {
   "cell_type": "markdown",
   "metadata": {},
   "source": [
    "## 2. Inchi hamar a CPU i gegaherdzer y\n",
    "MI hat senc haskacoxutyun ka cycle count aysinqn xosqi cpu instructionneri mi hat cycle vor xosqi a n u b n irar gumarvecin bayc menq kompi vra daxuya gorcoxutyunenq anum miajamanak u cpu n vor karena daxuya gorcoxutyun ani pti power unena shat gorcoxutyunner anelu, u gigahert xosqi vor asumen 1,4 ghz nshanakuma kompi kara 1 herc chapoxakanutyamb vor@ varkyanic poqra kara 1.4 miliard gorcoxutyun katari.\n",
    "\n",
    "Short for gigahertz, GHz is a unit of measurement for AC (alternating current) or EM (electromagnetic) wave frequencies equal to 1,000,000,000 (one billion) Hz (hertz). The higher the GHz number for a processor, the faster the processor can run and process data. The first 1 GHz processors for consumer computers were released in March 2000 by AMD and Intel. Today, processors are reaching 3.8 GHz or higher speeds with multiple cores.\n",
    "\n",
    "Similarly, suppose a processor has a frequency of 1.8GHz then this means that it can produce 1,800,000,000 cycles per second. This means that if an instruction takes one cycle to complete then this CPU can execute 1,800,000,000 instructions in a single second."
   ]
  },
  {
   "cell_type": "markdown",
   "metadata": {},
   "source": [
    "# 3. Incha SSD n u kompi inchna inq@ irakanum aragacnum.\n",
    "\n",
    "SSD n en sarqna vordex vor ete kompt ssd ova pti pahvi sax windows i filer@, install arac programmanner sax xaxer@ xosqi u karevor@ ena vor ssd in ete daje komp@ anjates sax et infon ssd i mech pahvuma. U Inchna irakanum ssd n aragacnum vor komp@ miacnumes ssd ov aveli arag kmiana komp@ qan te hdd ov vortev ssd n inch vor pahac kar uzumes load anes xosqi programmaner ban man windows et file et sax load(read) u write(save) gorcoxutyunner@ shat aveli araga anum qan te hdd n bayc irakanum menq baci kompi mianaluc shat depqerum karanq et chzgang bayc mecamasamb ete shat banenq bacum mianqamic et depqum kzganq. \n",
    "\n",
    "Harca arachanum inchi voch ssd parz patcharov vortev mi qani anqam tanga hdd ic u xosqi shat komperum maximum 128 ssd kam 256 a isk xosqi playstation u ujex notebookner kan vor dnumen 1 terabyte hdd bayc tenc aveli ejana galis. U mi hat e pah ka vor ssd i n nenca vor hl@ tenc ujex ssd ner chen sarqe vor karan aveli erkar carayen qan te hdd ner@ u et harc@ der pti ira lucum@ stana."
   ]
  },
  {
   "cell_type": "markdown",
   "metadata": {},
   "source": [
    "# 4. Vorna aveli arag ram@ te ssd u irancic vor@ inch na aragacnum u erb\n",
    "\n",
    "Gexi lezvov asac parza vor Ram@ aveli araga u shat aveli anqam bayc shat aveli tanga qan te ssd vortev aknhayta de ram@ 8gb -32gb a linum himnakanum isk ssd n 128-256gb u amenakarevor tarberutyun@ vor xosqi ram@t en koder@ vor ashxatacnumes en videoner@ vor nayum en sayter@ vor bacumes konkret et pahin komp@ miacrac dranqa pahum ira mech vor karenas shat arag access anes saxin bayc henc komp@ anjatir fsyo sax infon korav zut programmanner install arac sax paher@ mnac vordex, parza ssd um.\n",
    "\n",
    "Ram and SSD are both different sort of hardware they both have different works. Like the main work of ram is to temporarly store data for the current task. Yes this is true that the ssd's are way more faster then the hdd's but the speed of your p'c processor is more faster then both of these devices i.e. hdd & ssd.\n",
    "\n",
    "When you open an application and start working on it the data of the whole application has to transferred from the storage to the processor and then the edited data has to be saved again and all of this process has to very very fast for smooth function the problem is that the hdd & ssd cannot match that speed due to which tasks cannot be performed smoothly. this is where ram comes into action. When you open an application the data of the whole application is transferred to the ram now as you start working on the application the data which is transferred to the processor is transferred through ram and the data which comes back from the processor is also saved into the ram. And when you close the application the whole modified data is agin saved back onto your storage devices because the ram has the capability to match the speed of your processor for smooth functioning and for quick action.\n",
    "\n",
    "This is why very high end software and games require very high capacity of ram because the data of those applications. Is huge and small capacity of ram cannot store full data.\n",
    "\n",
    "Now ssd cannot work like ram as it cannot match that sort of high speed but as we no nothing is perfect ram have a very high speed of data rransfer but they cannot store data permanently on them by the time you close an application on your system the ram saves that data onto your storage device and destroy all the data in it and get ready for new task. This is why if you are doing some work and have not saved it and if suddenly you system shuts down due to any reason your work does not get saved because the ram has not saved it and has destroyed all the data so now you cannot recover the data . But whereas ssd and hdd have an ability save the data permanently till you yourself don't delte it."
   ]
  },
  {
   "cell_type": "markdown",
   "metadata": {},
   "source": [
    "# 5. What is the difference between primary and secondary memory?\n",
    "\n",
    "Memory is a fundamental component of the computer that is categorized into primary and secondary memory. Primary memory is the main memory of the computer which can be directly accessed by the central processing unit, whereas secondary memory refers to the external storage device which can be used to store data or information permanently.\n",
    "\n",
    "It must first be copied into primary storage (also known as RAM). Secondary memory devices include magnetic disks like hard drives and floppy disks ; optical disks such as CDs and CDROMs ; and magnetic tapes, which were the first forms of secondary memory."
   ]
  },
  {
   "cell_type": "markdown",
   "metadata": {},
   "source": [
    "## 6. What are operating systems what are they responsible for  espeically in form of cpu and ram? \n",
    "\n",
    "An Operating System acts as a communication bridge (interface) between the user and computer hardware. The purpose of an operating system is to provide a platform on which a user can execute programs in a convenient and efficient manner.\n",
    "\n",
    "Important functions of an operating System:\n",
    "\n",
    "### Security –\n",
    "The operating system uses password protection to protect user data and similar other techniques. it also prevents unauthorized access to programs and user data.\n",
    "\n",
    "### Error detecting aids –\n",
    "Operating system constantly monitors the system to detect errors and avoid the malfunctioning of computer system.\n",
    "\n",
    "### Coordination between other software and users –\n",
    "Operating systems also coordinate and assign interpreters, compilers, assemblers and other software to the various users of the computer systems.\n",
    "\n",
    "### Memory Management –\n",
    "The operating system manages the Primary Memory or Main Memory. Main memory is made up of a large array of bytes or words where each byte or word is assigned a certain address. Main memory is a fast storage and it can be accessed directly by the CPU. For a program to be executed, it should be first loaded in the main memory. An Operating System performs the following activities for memory management:\n",
    "It keeps tracks of primary memory, i.e., which bytes of memory are used by which user program. The memory addresses that have already been allocated and the memory addresses of the memory that has not yet been used. In multi programming, the OS decides the order in which process are granted access to memory, and for how long. It Allocates the memory to a process when the process requests it and deallocates the memory when the process has terminated or is performing an I/O operation.\n",
    "\n",
    "### Processor Management –\n",
    "In a multi programming environment, the OS decides the order in which processes have access to the processor, and how much processing time each process has. This function of OS is called process scheduling. An Operating System performs the following activities for processor management.\n",
    "\n",
    "### File Management –\n",
    "A file system is organized into directories for efficient or easy navigation and usage. These directories may contain other directories and other files. An Operating System carries out the following file management activities. It keeps track of where information is stored, user access settings and status of every file and more… These facilities are collectively known as the file system.\n",
    "\n",
    "### Program Execution:\n",
    "The Operating System is responsible for execution of all types of programs whether it be user programs or system programs. The Operating System utilises various resources available for the efficient running of all types of functionalities."
   ]
  },
  {
   "cell_type": "markdown",
   "metadata": {},
   "source": [
    "# 7. IP and UDP in computer Network and TCP/IP\n",
    "\n",
    "Ip n which stands for Internet protocol and is used when transferring messsages like mec files, documents and etc from one computer to another with internet. Each big messages are divided into small packets and via network you send the message you want specifying the IP address xosqi Valodiki kompin em xrgum u aveli high level porti hamar vor xosqi Valodikin xrgumem skype i es dvijenin u aysinqn talisem skype i porti hamar@ ( udp get the packet to the right programm on the computer ).\n",
    "\n",
    "Since UDP doesn't have many requirements, it offers a faster connection. TCP, which stands for transmitting control protocol on the other hand, is slower but more reliable. If you need speed more than reliability, you should use UDP instead of TCP. TCP has provisions for data packet sequencing, acknowledgements, error detection, and correction.\n",
    "\n",
    "Each internet address has it own IP address and instead of writing xosqi google com karanq google i ip address@ havqenq chrome um et kgna tcp/ip ov kpni internet serverin i vordex ka et mapping @ ip address u google com u mer request in response kta an qez google i sayt@.\n"
   ]
  },
  {
   "cell_type": "markdown",
   "metadata": {},
   "source": [
    "# 8. WHat are the  7 abstract layers of open system interconnection and in which layer are tcp/ip and domain lookup name present? \n",
    "\n",
    "\n",
    "### Physical Layer\n",
    "The lowest layer of the OSI Model is concerned with electrically or optically transmitting raw unstructured data bits across the network from the physical layer of the sending device to the physical layer of the receiving device. It can include specifications such as voltages, pin layout, cabling, and radio frequencies. At the physical layer, one might find “physical” resources such as network hubs, cabling, repeaters, network adapters or modems.\n",
    "\n",
    "### Data Link Layer\n",
    "At the data link layer, directly connected nodes are used to perform node-to-node data transfer where data is packaged into frames. The data link layer also corrects errors that may have occurred at the physical layer.\n",
    "\n",
    "The data link layer encompasses two sub-layers of its own. The first, media access control (MAC), provides flow control and multiplexing for device transmissions over a network. The second, the logical link control (LLC), provides flow and error control over the physical medium as well as identifies line protocols.\n",
    "\n",
    "### Network Layer\n",
    "The network layer is responsible for receiving frames from the data link layer, and delivering them to their intended destinations among based on the addresses contained inside the frame. The network layer finds the destination by using logical addresses, such as IP (internet protocol). At this layer, routers are a crucial component used to quite literally route information where it needs to go between networks.\n",
    "\n",
    "### Transport Layer\n",
    "The transport layer manages the delivery and error checking of data packets. It regulates the size, sequencing, and ultimately the transfer of data between systems and hosts. One of the most common examples of the transport layer is TCP or the Transmission Control Protocol.\n",
    "\n",
    "### Session Layer\n",
    "The session layer controls the conversations between different computers. A session or connection between machines is set up, managed, and termined at layer 5. Session layer services also include authentication and reconnections.\n",
    "\n",
    "### Presentation Layer\n",
    "The presentation layer formats or translates data for the application layer based on the syntax or semantics that the application accepts. Because of this, it at times also called the syntax layer. This layer can also handle the encryption and decryption required by the application layer.\n",
    "\n",
    "### Application Layer\n",
    "At this layer, both the end user and the application layer interact directly with the software application. This layer sees network services provided to end-user applications such as a web browser or Office 365. The application layer identifies communication partners, resource availability, and synchronizes communication.\n",
    "\n",
    "Google chrome mtneluc hima naxord harcum tcp/ip n transport layer@ ogtagorcinq u session layer@ for serveric request einq anum domain@."
   ]
  },
  {
   "cell_type": "markdown",
   "metadata": {},
   "source": [
    "# 9. Domain vs URL: Understand the differences\n",
    "\n",
    "Firstly, a domain name (RFC 1035) is an internet resource name. It locates an organization or other entity on the Internet. In general, a domain name is an address via which internet users can access your website. The Domain names are assigned as per the rules and procedures of the Domain Name System (DNS protocol). Any publicly-accessible name in the DNS is a domain name. Kopit asac google com mtneluc en vor grumeinq IP address inq@ etum gtnumer ira domain name@ etier.\n",
    "\n",
    "URL stands for the Uniform Resource Locator (RFC 1738). It is a unique identifier that is used for locating the files on the internet. It’s a web address, that we use to identify a specific resource on the network. \n",
    "\n",
    "There are parts of a URL:\n",
    "\n",
    "Protocol:           usually HTTP or HTTPS\n",
    "Subdomain:          usually www\n",
    "Domain              name google com xosqi\n",
    "Path+internal page  /blog.html\n",
    "GET parameters      /courses xosqi"
   ]
  },
  {
   "cell_type": "markdown",
   "metadata": {},
   "source": [
    "# 10. HTTP request and the process after you write google.com\n",
    "\n",
    "High level karevora asel vor kam es DNS server u WEB Server@ sax irar het kapvac en internetov.\n",
    "The first thing that computer does is the DNS lookup in DNS Server via internet for the domain name of google com u DNS in a mez het tvec google i ip address y. Hima arden vor unenq mer uzac kompi IP Address@ mer web browser@ bacuma TCP connection to a commputer that is running a special piece of software called web server( port number 80 u vor eti chenq nshum default web serverin enq dimum ).\n",
    "\n",
    "Hima pastoren mer web browser@ tcp/ip connection a bacum web serveri google com hascein. Myus@ vor menq uzumenq et google com i grac hypper text na aysinqn ira parunakutyunna( HTML - hyppertext markup language ) u dra hamar http request enq anum ( hyppertext transmition protocol ) u get enq anum google sayti parunakutyun@ u response stanum et hyppertext@ vor mer browser@ abrabotkaya anum u mer ekranin cuyca talis google i ej@. \n",
    "\n",
    "Isk en errorner@ vor stanumenq asenq 404 asenq dranq http statusen kochvum vor ekav 200 xosqi eti ok na vor 404 et errorna."
   ]
  },
  {
   "cell_type": "markdown",
   "metadata": {},
   "source": [
    "# 11. What is miscrosoft azure and what is cloud computing\n",
    "CLoud computing is the delivery of computing services. Servers, Storage, Databases, Networking, Software.Analytics, Intelligence and even more.Now all of these services whether it be servers, storage, databases etc. all of these are delivered over the Internet, that's what the cloud is.\n",
    "\n",
    "Microsoft Azure provides you a platform wherein you can build, deploy and manage your solutions.\n",
    "So if you want to have an application that's hosted on a platform on the Internet, you can use Microsoft Azure. So Microsoft Azure is really a platform that has so many services that help you, i said build, deploy manage your application, So let's say you want to host a SQL database, you can go ahead onto the Azure SQL database service or if you want a server to host a virtual machine you can use Azure's Virtual Machine Service and use it. Host a Sql database aysiqn Azure@ uni eqa mec database kam virtual meqenanner voronq@ inq@ pahuma ira xosqi mec data centre nerum et storage ner processor ner inch ases voroncic du karas internetov kpnes u ogtves et service vor Azure@ provide a anum qez.\n",
    "\n",
    "\n",
    "# 12. What is a virtual machine ?\n",
    "\n",
    "Virtual Machine is a machine that helps you to run an OS on a different OS, for example, if you are a user of Windows app you can run Linux OS virutal machine on your computer and start working on LInux environment and executing Linux terminal commands and having Linux Interface on your Computer.\n",
    "\n",
    "# 13. What is deployment and what does it mean to deploy an application?\n",
    "\n",
    "Moving you conde on your local computer to public remote host ( web server ) so that everyone can assess it is called deployment. Aysinqn vor app unes pti web serveri mech qces vor sax karenan web serverov host anen kpnen use anen et process@ kochvuma deployment.\n",
    "Go for this link https://www.youtube.com/watch?v=nZ3BaTY8c9M \n",
    "\n",
    "# 14. What is restful api and where it is used in app service.\n",
    "\n",
    "It might seem strane but Restfull bacvuma Representation State transfer. Menq gitenq sax appliationneri mech hima ka client,aysinqn user u ka server u iranc kap@ interneti mijocov katarvuma http requestnerov menq serveric inch vor ban request enq anum u stanum response.\n",
    "Hima haskananq te inch a nshanakum restfull api. Restfull API mez talisa inch vor company xosqi mi hat kino ya sayt vor i sayt@ xosqi liq@ Linuma vor unena senc tesq xosqi http//vigly. com/api/customers .\n",
    "By saing restfull api or restfull convention is that menq gitenq vor ka http i mi qani hat method dranqen get put delete post u es http request neri methodnerov menq karanq es sayti resource nerin accesss anenq xosqi asenq en customernerin ovqer ogtvumen et kinoi saytic iranc get anenq iranc delete anenq kam xosqi avelacnenq post kommandaov aysinqn stacvuma mez et kinoi sayt@ restfull api i ya tve kam vor nuynna instagram@ mez tvela restfull api karanq man ganq u tarber mardkanc access anenq gtnenq te eti sxal aseci?\n",
    " \n",
    "https://www.youtube.com/watch?v=SLwpqD8n3d0\n",
    "\n",
    "# 15. Why are the subnets in virtual network exist and when are they used? \n",
    "So let's say you're having an application that is being hosted on this virtual machine and you want users over the Internet to actually access the application on this virtual machine. They would do so on the public IP address not the private IP address the private IP addresses only within this virtual network. So this is an isolation, an isolated virtual network. If you want to expose a service onto the Internet for your users then the virtual machine should have a public IP address.Now why would you want to have maybe another subnet with a virtual machine that does not have a public IP address. So let's say you have a web application hosted on this virtual machine. You could maybe have a database server on this virtual machine. So the web application connects to the database server to fetch data.Now the database server should ideally not be exposed to the Internet. Database server should only be accessible via this virtual machine. And that should be done via the private IP addresses. That's why you would probably have a logical separation have the database server on a separate subnet and make sure that that database server does not have a public IP address.You can use subnets to segment the virtual network into one or more sub-networks and allocate a portion of the virtual network's address space to each subnet\n",
    "\n",
    "By hosting multiple virtual machines across availability zones, you can achieve an SLA of 99.99%. With availability sets, you only achieve an SLA of 99.95%. And deploying virtual machines across regions basically help to bring your application closer to users or in the case of disaster recovery scenarios.\n"
   ]
  },
  {
   "cell_type": "code",
   "execution_count": null,
   "metadata": {},
   "outputs": [],
   "source": []
  },
  {
   "cell_type": "markdown",
   "metadata": {},
   "source": [
    "# <span style='background :yellow' > Python and Programming questions </span>"
   ]
  },
  {
   "cell_type": "markdown",
   "metadata": {},
   "source": [
    "### 1. What is the complexity of list append, extend and insert methods and why ?\n",
    "\n",
    "Insert at the 0th index of a list requires shifting every other element along which makes it an O(N) operation.\n",
    "\n",
    "Append is an amortized O(1) operation since it simply requires adding the item on to the end of the list and no shifting is done\n",
    "\n",
    "You are creating a new list object each time by concatenating (extending) . This requires copying all elements from the old list into a new one, plus one extra. So yes, using l = l + [i] is an O(N) algorithm, not O(1)\n",
    "\n",
    "### 2. Why is list comprehension faster better than for loop ?\n",
    "\n",
    "List comprehension is basically just a \"syntactic sugar\" for the regular for loop. In this case the reason that it performs better is because it doesn't need to load the append attribute of the list and call it as a function at each iteration. In other words and in general, list comprehensions perform faster because suspending and resuming a function's frame, or multiple functions in other cases, is slower than creating a list on demand. Aysinqn ste mianqamic list comprehensioni mech allocate enq anum memory imanalov iskakan chap@ isk @Ndex amen anqam append methodnenq kanchum vor@ aveli dandaxa. "
   ]
  },
  {
   "cell_type": "markdown",
   "metadata": {},
   "source": [
    "### 3. What is the difference between linked list and list:\n",
    "\n",
    "Following are the points in favor of Linked Lists.\n",
    "\n",
    "(1) The size of the arrays is fixed: So we must know the upper limit on the number of elements in advance. Also, generally, the allocated memory is equal to the upper limit irrespective of the usage, and in practical uses, the upper limit is rarely reached.\n",
    "\n",
    "(2) Inserting a new element in an array of elements is expensive because a room has to be created for the new elements and to create room existing elements have to be shifted.\n",
    "So Linked list provides the following two advantages over arrays\n",
    "1) Dynamic size\n",
    "2) Ease of insertion/deletion\n",
    "\n",
    "Linked lists have following drawbacks:\n",
    "1) Random access is not allowed. We have to access elements sequentially starting from the first node. So we cannot do a binary search with linked lists.\n",
    "2) Extra memory space for a pointer is required with each element of the list.\n",
    "3) Arrays have better cache locality that can make a pretty big difference in performance."
   ]
  },
  {
   "cell_type": "markdown",
   "metadata": {},
   "source": [
    "## 4. WHat do we mean by ammortized complexity for example for append method?\n",
    "\n",
    "ENtadrenq te mer arrayi 8 hatanoc a u uzumenq 1 hat element append annenq ...theory ic gitenq vor tex chka memory allocate aneluc 2 anqam mecacnuma python memomy manager@ aysinqn 9-16 rd elementner@ append anel@ klini 0(1) isk arden 17 ic sksac eli petqa 2 anqam mec memomy allocate lini ...aysinqnn aveli shat stacvuma vor ammortized 0(1) a isk ete tex chka petqa mecacnel stacvuma 0(1) chi."
   ]
  },
  {
   "cell_type": "markdown",
   "metadata": {},
   "source": [
    "### 5. Hashtable and what datatypes can be hashable and how is hash function working.\n",
    "\n",
    "The most practical data structures for implementinga map, and the one that is used by Python’s own implementation of the\n",
    "dict class. This structure is known as a hash table. The novel concept for a hash table is the use of a hash function to map\n",
    "general keys to corresponding indices in a table. Ideally, keys will be well distributed in the range from 0 to N −1 by a hash\n",
    "function, but in practice there may be two or more distinct keys that get mapped to the same index. As a result, we will \n",
    "conceptualize our table as a bucket array, as shown in Figure 10.4, in which each bucket may manage a collection of items\n",
    "that are sent to a specific index by the hash function.\n",
    "\n",
    "It is common to view the evaluation of a hash function, h(k), as consisting of two portions—a hash code that maps a key k to an integer, and a compressionfunction that maps the hash code to an integer within a range of indices, [0,N −1], for a bucket array. The advantage of separating the hash function into two such components is that the hash code portion of that computation is independent of a specific hash table size. This allows the development of a general hash code for each object that can\n",
    "be used for a hash table of any size; only the compression function depends upon the table size. This is particularly convenient, because the underlying bucket array for a hash table may be dynamically resized, depending on the number of items\n",
    "currently stored in the map.\n",
    "\n",
    "The first action that a hash function performs is to take an arbitrary key k in our map and compute an integer that is called the hash code for k; this integer need not be in the range [0,N −1], and may even be negative. We desire that the set of hash\n",
    "codes assigned to our keys should avoid collisions as much as possible. For if the hash codes of our keys cause collisions, then there is no hope for our compression function to avoid them.\n",
    "\n",
    "It is common to view the evaluation of a hash function, h(k), as consisting of two portions—a hash code that maps a key k to\n",
    "an integer, and a compression function that maps the hash code to an integer within a range of indices, [0,N −1], for a bucket\n",
    "array.\n",
    "\n",
    "Important to mention that the key of the dict can only be a immutable data object such as string, set, int, tuple, float. \n",
    "Dict@ chi kara unena nuyn 2 hat key ic bayc 2 hat tarber key karan unenan nuyn value. "
   ]
  },
  {
   "cell_type": "markdown",
   "metadata": {},
   "source": [
    "# 6. In Python, How is Memory Managed?\n",
    "\n",
    "In Python, memory is managed in a private heap space. This means that all the objects and data structures will be located in a private heap. However, the programmer won’t be allowed to access this heap. Instead, the Python interpreter will handle it. At the same time, the core API will enable access to some Python tools for the programmer to start coding.\n",
    "\n",
    "The memory manager will allocate the heap space for the Python objects while the inbuilt garbage collector will recycle all the memory that’s not being used to boost available heap space."
   ]
  },
  {
   "cell_type": "markdown",
   "metadata": {},
   "source": []
  },
  {
   "cell_type": "markdown",
   "metadata": {},
   "source": [
    "# Calculus for Machine Learning\n",
    "\n",
    "1. Go to folder Machine Learning Interview math for ml and calculus folder where I can find my_tetr, covered the topics of derivative, directional, derivative, gradient descent, Hessian and Jacobian Matrix\n",
    "\n",
    "2. In second folder I will find material about convex function and convex optimization ( Darbinyan Lab)\n",
    "\n",
    "3. For more material MML book 139 - 170\n",
    "\n",
    "4. Short and nice overview in https://ml-cheatsheet.readthedocs.io/en/latest/calculus.html "
   ]
  },
  {
   "cell_type": "markdown",
   "metadata": {},
   "source": [
    "## <span style='background :yellow' > Statistics and Probability  </span>"
   ]
  },
  {
   "cell_type": "markdown",
   "metadata": {},
   "source": [
    "## 1. WHat is the difference between probability and likelihood?\n",
    "\n",
    "Patkeracnenq unenq data Gaussian Normal disstributionic 32 mean ov u 2.5 standard deviationov. Aysinq grafiki kentron@ 32 na isk cayrer@ 24 u 40. Ete xosq@ gnuma havanakanutya masin karoxenq matematikoren hetevyal sahmanum@ tal orinaki vra. Entadrenq mez petqa e hashvel havanakanutyun that a random variable will take a value between 32 and 34. We know that the probability of falling in the certain interval is the given by the area in this normal distribution graph. Aysinqn petqe hashvenq voroshyal integral 32 ic 34 mer normal distributioni havasarum@ dx u et mez kta havanakanutyun@. Matematikoren dra greladzev@ klini \n",
    "\n",
    "P( 32 < x < 34 | mean = 32 and std = 2.5 )\n",
    "\n",
    "HIma ete uzumenq haskananq te likelihood i gaxapar@ apa petqe hashvenq likelihood@ inch vor konkret keti keti hamar. Entadrenq menq stacelenq vor mer random variable@ kshrume 34 gram. Mer normal disstributioni grafiki vra nayumenq te x = 34 ketin vor y na hamapatasxanum u kstananq tvyal keti likelihood@. Isk matematikoren ayn kgrvi hetevyal kerp\n",
    "\n",
    "L( mean = 32 and std = 2.5 | x = 34 )\n",
    "\n",
    "During the maximum likelihood you want the find the estimate of the parameters of certain distribution which you think maximizes the likelihood function or which you maximizes the likelihood that the this distribution with found parameters describes the data being observed the best. "
   ]
  },
  {
   "cell_type": "markdown",
   "metadata": {},
   "source": [
    "## 2. What is the difference between corelation and causation?\n",
    "\n",
    "Say you want to test the new shopping cart in your ecommerce app. Your hypothesis is that there are too many steps before a user can actually check out and pay for their item, and that this difficulty is the friction point that blocks them from buying more often. So you’ve rebuilt the shopping cart in your app and want to see if this will increase the chances of users buying stuff.\n",
    "\n",
    "Xosqi es orinak en vor pti eqa man gan micnhev et apranq@ gtnen vor arnenq cause a anum nran vor mardik uninstall anen u charnen et product. Isk charnel@ u uninstall anel dra stacvumen correlation.\n",
    "\n",
    "My mother-in-law recently complained to me: “Whenever I try to text message, my phone freezes.” A quick look at her smartphone confirmed my suspicion: she had five game apps open at the same time plus Facebook and YouTube. The act of trying to send a text message wasn’t causing the freeze, the lack of RAM was. But she immediately connected it with the last action she was doing before the freeze.\n",
    "\n",
    "Kam ste xosqi ete ram t qicha stacvuma heraxost freeze klini u text message ner@ karoxa chetan stacvuma vor ramt qicha n cause a anum myus 2 dvijeniin isk et 2 dvij@ irar het correlte en linum\n",
    "\n",
    "Menq irakanum ete unenq data menak menak karanq jogenq correlation@ feature neri chenq kara jogenq causation@ meki myus handep kam mi feature i causation@. Causation@ irakan shat djvar taska u mardik dra vra ashxatum en vor jogen. "
   ]
  },
  {
   "cell_type": "markdown",
   "metadata": {},
   "source": [
    "## 3. What is the difference between standart deviation and standard error?\n",
    "\n",
    "Entadrenq unenq 5 hat anoc data. Standart deviation hashvelu hamar zut hashvumenq mean@ hanum sax data pointneric square anum\n",
    "u armat hanum u stanum mi hat tiv. Hima patkeracnenq unenq 5 hatanoc 5 hat tarber data amen meki hamar vor hashvenq mean@ kstananq eli5 hat ket u hima vor et 5 hat keti hamar hashvenq standard deviation@ kstananq standard error@"
   ]
  },
  {
   "cell_type": "markdown",
   "metadata": {},
   "source": [
    "## 4. How do we get the likelihood function for the binomial distribution.\n",
    "Ditarkenq hetevyal xndir@ vor unenq 7 hat fanta 2 tesaki orange u red. U havanakanutyun@ vor mek@ orange fantata vercum 1/2 a u entadrenq 7 hoquc 4@ vercelen orange fanta. Hetevabar formulan density  functioni\n",
    "Prob( x = 4 | n = 7 and p = 1/2 ) = ( C 7 ic 4 akan ) 0.5 ** 4 * (1-0.5)** 3\n",
    "u nuyn formulane likelihoodi hamar enq stanum L( p = 0.5 | n = 7, x = 4 ) \n",
    "hima vor ira log a @ vercnenq kstananq en mer cross entropy i loss@ logistic regressioni vor galisa mer es maximum likelihood ic "
   ]
  },
  {
   "cell_type": "markdown",
   "metadata": {},
   "source": [
    "## 5. Why is standart normal distribution needed and what the Z scores are?\n",
    "\n",
    "In order to standartize our normal distribution we now we need to subtract the mean and divide by the standart deviation to go to 0 mean and 1 std normal distribution. It is used in general to allow us to compare things that are NOT in\n",
    "the same scale, as long as they are NORMALLY distributed ( Z score are used ).\n",
    "\n",
    "For example ete uzumenq jogenq ova lav gnahatakan stace Merin vor 24 a stace 40 ic ete mean dasarani stacac@ 22 a exe std ne 10\n",
    "te xosqi Valodik@ vor 39 a 50 ic havqe u mean@ 34 a exe isk std 15.\n",
    "\n",
    "Dra hamar hashvumenq irar z score @ \n",
    "\n",
    "Meri = (24 - 22) / 10 = 0.2 \n",
    "Valodik = (39 -34) / 15 = 0.3\n",
    "\n",
    "Hetevutyun Valodiki dasarani ktrvacqov aveli lav gnahatakana stace.\n",
    "\n",
    "Isk Z score ner i table@ vor online ka cuyc a talis et percentile ner@ vor asenq SAT, Toefl um ban man kan. Xosqi 0.2@ vor Z table ov nayenq hamapatasxanuma 57 tokosi stacvuma vor Merin dasarani ktrvacqov 57 tokosic shata havqel( kam gexi lezvov 100 hoquc xosqi 57 rd texuma xosqi asenq)."
   ]
  },
  {
   "cell_type": "markdown",
   "metadata": {},
   "source": [
    "# 6. Explain prior probability, likelihood and marginal likelihood in context of naiveBayes algorithm?\n",
    "\n",
    "Answer: Prior probability is nothing but, the proportion of dependent (binary) variable in the data set. It is the closest guess you can make about a class, without any further information. For example: In a data set, the dependent variable is binary (1 and 0). The proportion of 1 (spam) is 70% and 0 (not spam) is 30%. Hence, we can estimate that there are 70% chances that any new email would  be classified as spam.\n",
    "\n",
    "Likelihood is the probability of classifying a given observation as 1 in presence of some other variable. For example: The probability that the word ‘FREE’ is used in previous spam message is likelihood. Marginal likelihood is, the probability that the word ‘FREE’ is used in any message."
   ]
  },
  {
   "cell_type": "markdown",
   "metadata": {},
   "source": [
    "# 7. Estimation of the parameters of the normal distribution and what the 68 and 95 percentiles for this distribution.\n",
    "\n",
    "For parameter estimation visit the link https://towardsdatascience.com/maximum-likelihood-estimation-explained-normal-distribution-6207b322e47f \n",
    "\n",
    "and for the normal distribution part please go Machine Learnign interview and than prob and statistics Normal Distrubution folder"
   ]
  },
  {
   "cell_type": "markdown",
   "metadata": {},
   "source": [
    "# 8. Binomial Distribution and its parameters\n",
    "\n",
    "https://stattrek.com/probability-distributions/binomial.aspx u Machine learning interviews folder mtnem "
   ]
  },
  {
   "cell_type": "markdown",
   "metadata": {},
   "source": [
    "# Very good website for probability and statistics\n",
    "\n",
    "https://www.probabilitycourse.com/chapter7/7_1_2_central_limit_theorem.php"
   ]
  },
  {
   "cell_type": "markdown",
   "metadata": {},
   "source": []
  },
  {
   "cell_type": "markdown",
   "metadata": {},
   "source": [
    "## <span style='background :yellow' > Linear Algebra and Matrix Decomposition Interview Questions </span>"
   ]
  },
  {
   "cell_type": "markdown",
   "metadata": {},
   "source": [
    "## 6. What is group and what operations are defined there?\n",
    "\n",
    "Let us have a set G and an operation * which G : G -> G defined on G. Then ( G, * ) is called a group if this 4 things hold on.\n",
    "\n",
    "1. lyuboyoy x,y i hamar G ic x * y nela G ic \n",
    "2. lyuboy x,y,z i hamar G ic x * ( y * z ) = (x * y ) * z\n",
    "3. goytuyun uni neytral e element vor x * e = x patkanuma G \n",
    "4. lyuboy x i hamar goyutyun uni ira hakaradarc@ vor x * y = e patkanum e G \n",
    "\n",
    "Ete mech@ ka nayev x * y = y * x i dvijenin apa et gruppan Abelian gruppaya kochum.\n",
    "\n",
    "Groupi orinak kara lini amboxch tveri bazmutun@ + operationov, irakan tver@ hanac 0 akan element@ etela Abelian gruppa. Orinak nayev gruppaya m@ n i vra matricneri bazmutyunn@ + operationov u eli abelyana vortev A + B = B + A"
   ]
  },
  {
   "cell_type": "markdown",
   "metadata": {},
   "source": [
    "## 7. What is the vector space and what operations are defined there?\n",
    "\n",
    "A real valued vector space V = ( V, +, * ) is a set V with two operations vor + i depqum V + V -> V isk bazmapatkaci depqum \n",
    "R * V -> V ev vordex 8 hat property texi uni.\n",
    "\n",
    "1 - 5@ vor (V, + )@ Abelyan groupaya eti 5 \n",
    "6. lyuboy lambda u psi i hamar u x,y i patkanox V in lambda * ( x + y ) = lambda * x + lambda * y \n",
    "                                                     (lambda + psi) * x = lambda *x + psi * x\n",
    "7. lambda anqam psi anqam x @ havasara texerov poxac\n",
    "8. u mekel neutral elementov bazmapatkel@ 1 * x = x ( dzaxic bazmapatkel@ groupi mech achic einq bazmapatkum ) \n",
    "\n",
    "Vector space i elementner ne hamarvumen vectorner, u iranc kaaranq nerkayacnenq vorpes tox kam syun vorpes vonc uzenq, iranc mech ka bazmapatkum scalarov, 0 akan element ev ayln."
   ]
  },
  {
   "cell_type": "markdown",
   "metadata": {},
   "source": [
    "## 8. What is linear combination, linear independece, trivial linear combination?\n",
    "\n",
    "entadrenq unenq vector space ic x1, x2,...xn vectorner@ u unenq c1 ic cn koefficientner@ apa lineyni kombinacian hamapatasxan elementneri artadryalna irar gumarac, linear independence@ ene vor ete iranc gcayin kombinacian nayenq u havasarecnenq 0 i apa menak trivial kombinacian ete havasr exav 0 aysiqnn ete sax c1 ic cn@ 0 depqum ete havasarum@ texi uni uremn nor karanq asenq vor mer vecorner@ gcoren ankaxen. Ete hankarc koefficientneric mek@ chexav 0 uremn gcoren kaxvac en kam vor nuynna asenq  ete inch vor mi vector artahaytvuma myusneri gcain kombinaciayov uremn eli gcoren kaxvac en et vectorner@ u iranc voch trivial kombinaciana havasar 0 i."
   ]
  },
  {
   "cell_type": "markdown",
   "metadata": {},
   "source": [
    "## 9. If we have vectors give an algorithm that can be used to tell whether they are independent or which of them are independent. What are the pivot columns of the matrix.\n",
    "\n",
    "Entadrenq unenq n hat vector vonc jogenq iranq ankaxen te che. Dra hamar vekalenq sax vectorner@  u iranc vorpes column hamapatasxan dnenq mi hat matricayi mech kstananq m@ n i vra matrica ete de mer vectorner@ m dimensionic en. Heto Gaussian elimination kanenq kberenq stupenchti vidi u ete bolor columner@ exan pivot columner apa kstananq vor mer vectorner@ gcoren ankaxen. Isk ete xosqi unenq 5 hat vector  u 1,2,5 nen pivot uremn menak 3 nen gcoren ankax isk en myusner@ 3,4 @ artahaytvumen myusneri gcain kombinaciayi mijocov.\n",
    "\n",
    "Pivot columner@ xosqi ete unenq mmatrica \n",
    "\n",
    "1 2 3 0        \n",
    "0 6 4 3   \n",
    "0 0 4 2\n",
    "0 0 0 0\n",
    "\n",
    "asenq orinak es orinakum 4 rd column@ pivot chi, isk mnacac 1,2,3@ pivoten"
   ]
  },
  {
   "cell_type": "markdown",
   "metadata": {},
   "source": [
    "## 10. What is basis of vector space. What is dim ( dimension )?\n",
    "\n",
    "Ayn minimal qanaki vectorner@ gcoren ankax voronc bazmapatkman ev gumarnam kombinacianeri mijocov karelia stanal sax vector space i vectorner@ apa et minimal qanaki vectorner@ kochvumen et vector space i haamr basis isk gcoren ankax et vectorner@ bazisayin vectorner. Isk basisayin vectorneri qanak@ kochvuma tvyal vector space i dimension kam dim. U ete inch vor vector voch basisayin karelia stanal inch vor linear kombinaciayov eti unique a. Ete mi hat vector avelacnenq gcoren ankax vectorneric mekin apa et vector@ hastat mnacaci het linear kombinaciayov karelia stanal.\n",
    "\n",
    "Dimension is the number of basis vectors. Ete xosqi nayenq unenq matrica A ira dimension@ havasara matricayi column rankin kam vor nuynna pivot columneri qanaknin. AYsinnnq stacvuma vor dim column space of A is rank A.\n",
    "\n",
    "Isk ete uzumenq NUll space i dimension@ imananq apa hishenq vor null space i hamar xosqi unenq 2 hat pivot column 2 hat e free variable to free variable neri qanak@ klini mer dimension@ bayc kara xosqi ete 2 hat vector@ vor unenq iranq linen 4 hatikanoc karevor@ ena vor dimension@ et vectorneri qanakna vorne havasara n - r\n",
    "\n",
    "Aysinqn dim of A havasara n u havasara column space dimension gumarac null space dimenson = n - r + r = n"
   ]
  },
  {
   "cell_type": "markdown",
   "metadata": {},
   "source": [
    "## 11. WHat is rank of matrix and how can rank be applied to the solution of system of linear equations Ax = b.\n",
    "\n",
    "Matricai rank@ da matrica yi gcoren ankax toxeri ev syuneri qanakne, kam vor nuynna stupenchti bereluc heto voch zroyakan toxeri qanak@.\n",
    "\n",
    "Matrica n uni full rank ete stupenchti bereluc heto sax voch zroyakan en stacvum. Ev matricai inverse goyutyun uni ete ete matrican full rank i uni. Ete chunena et zroyakan toxov determinant@ khashvenq u kstananq 0.\n",
    "\n",
    "rank(A) = rank(A.T) ev karevor ban vor Ax = b n lucum uni en deqpum ete rank ( A ) = rank ( A |b) aysiqn A in kpcrac b column@.\n",
    "Es depqum uni mi hat lucum ete hankarc A n xosqi m@ n i vra matrica u rank@ rank(A) < min(m,n) u havasar rank ( A |b) apa unenq anverch lucum isk ete rank(A |b) mec exav rank A ic to hastat lucum chunenq vortev kstananq sax 0 tox@ havasara linum b in aysinqn lucum chunenq."
   ]
  },
  {
   "cell_type": "markdown",
   "metadata": {},
   "source": [
    "## 12. What is linear mapping or gomomorphism?\n",
    "\n",
    "For vector spaces V;W, a mapping linear mapping M : V ! W is called a linear mapping (or vector space homomorphism/\n",
    "vector space homomorphism (linear transformation) if\n",
    "\n",
    "lyuboy lyambayi hamar u psi i u x,y i V    M ( lambda*x + psi*y) = lambda* M(x) + psi * M(y)"
   ]
  },
  {
   "cell_type": "markdown",
   "metadata": {},
   "source": [
    "## 13. WHat is image and kernel( null-space)  Page 64 MML book"
   ]
  },
  {
   "cell_type": "markdown",
   "metadata": {},
   "source": [
    "## 14. WHat is norm on vector space V and three main points about norm.\n",
    "\n",
    "Let us have a vector space V. A norm sahmancac on vector space V is a function that maps each vector to its erkarutyun and that for each lambda and x,y V ic  texi unen hetevyal 3 dvijeniner@.\n",
    "\n",
    "1. Ete ||x|| = 0 apa x = 0 \n",
    "2. || lambda * x || = | lambda } || x ||\n",
    "3. || x + y || < || x || + || y ||"
   ]
  },
  {
   "cell_type": "markdown",
   "metadata": {},
   "source": [
    "## 15. WHat is the difference between inner product and dot product and what is the Euclidean norm.\n",
    "\n",
    "Definition 3.3. Let V be a vector space and M : V -> V patkanum e R be a bilinearmapping that takes two vectors and maps them onto a real number. ThenA positive definite, symmetric bilinear mapping V -> V  ! R is called an inner product on V . We typically write (x; y) for inner product\n",
    "\n",
    "The pair (V; (x,y) ) is called an inner product space or (real) vector space with inner product If we use the dot product defined in (3.5), we call (V; h\u0001; \u0001i) a Euclidean vector space. Aysiqnn uzumenq asenq mer hatni dot product@ aysinq X.T anqam y vor hamapatasxan elementneri bazmapatkuma nayum eti inner producti inch vor orinak a .aysinqn unenq sahmanvac inner product space vordex vectorneri inner product@ hashvumenq vorpes dot product\n",
    "\n",
    "Kara nenc lini inner product@ 2 vectorneri lriv urish dzev hashvi lriv urish logikayov xosqi x1*x2 - 2X1 + 4X2 xar@ vonc ases bayc amenahaytni n de dot product na u vor dot product ov enq ogtvum et space@ anvanum enq Eclidean vector space."
   ]
  },
  {
   "cell_type": "markdown",
   "metadata": {},
   "source": [
    "## 16. WHat are positive definite matrices and how are they connected to inner product.\n",
    "\n",
    "De pozitive definite en en matricner@ voronc hamar cankacac x i depqum vordex x@ matric a x.T * A * x > 0. Isk te vonc kap unen inner producti het zut karelia nshel vor xosqi unenq basisain vectorner@ mer x vector@ xosqi stacvela basisayin vectorneri lineyni kombinaciayov u hima vor artadryal@ nayenq 2 vectori x y xosqi kstananq x.T bi bj y vordex bi bj n knshanakenq A ov xosqi u tenc texic voncor kapa linum bayc aveli manramasn karam kardam 79 ejim MML booki."
   ]
  },
  {
   "cell_type": "markdown",
   "metadata": {},
   "source": [
    "## 17. What is metric and Eclidean distance. Main 3 points in metric space?\n",
    "\n",
    "Definition 3.6 (Distance and Metric). Consider an inner product space (V; h\u0001; \u0001i). Then d(x; y) = || x - y || = qarakusi armat x - y i dot product vobshem is called the distance between x and y . If we use the dot distance product as the inner product, then the distance is called Euclidean distance\n",
    "\n",
    "Isk vabshe zut metrica yi sahmanum@ hetevyalna ete unenq vectorakan taracucyun V to metrican eli normi pes function a vor map a anum V ic R i vra u hetevyal 3 karevor paymanner@ texi unen\n",
    "\n",
    "1. lyubuy x ev y i hamar ete | x - y | = 0 uremn x = y \n",
    "2. d ( x , y ) = d ( y, x ) \n",
    "3. d ( x , z ) < d ( x, y ) + d ( y, z)  triangle inequality "
   ]
  },
  {
   "cell_type": "markdown",
   "metadata": {},
   "source": [
    "## 18. WHat is the difference between orthogonal and orthoormal vectors and what is the formula for angle between vectors. \n",
    "\n",
    "Orthogonal en ete kazmac ankyun@ 90 a isk ete dot pruduct i lezvov uremn iranc dot product@ hasavar a 0. Inchi vortev 2 vectorneri michev kazmac ankyan formulan cos ( a ) = dot product( x, y ) bajanac x i erkarutun anqam y i erkatutyun. Isk orhtonomral en en vectorner@ voronq baci nranic vor uxxahayac en irar u iranc erkarutyun@ 1 a. Aveli manramasn 82 ej MML"
   ]
  },
  {
   "cell_type": "markdown",
   "metadata": {},
   "source": [
    "## 19. What are the orthogonal matrices and what special property they have if we tranform by an orthogonal matrix.\n",
    "\n",
    "Orthogonal a kochvum en matrican vor i bolor columner@ orthonormal en u A i transpose@ havasar a ira inverse in aysinqn vor naes A * A.T taluya eli ediishni matrica.\n",
    "\n",
    "Transformations by orthogonal matrices are special because the length of a vector x is not changed when transforming it using an orthogonal matrix A. For the dot product, we obtain || Ax || ** 2 = || x || ** 2\n",
    "\n",
    "Moreover, the angle between any two vectors x; y, as measured by theirinner product, is also unchanged when transforming both of them using an orthogonal matrix A. Assuming the dot product as the inner product, the angle of the images Ax and Ay is given as cos alphan kstananq nuyn mer formula n inch vor verevna ete daje x nel y nel transform anenq orthogonal matricov."
   ]
  },
  {
   "cell_type": "markdown",
   "metadata": {},
   "source": [
    "## 20. WHat is projection and what does it mean to project in the inner product space where dot prodcut is the way of writing our     dot products. Describe the process of projecting a line on the basis space.\n",
    "## 21. WHat is the projection matrix and how is it artahaytvum with basis vectors b of the basis space where we project our data.\n",
    "## 22. Connection between projection and linear regression normal equation.\n",
    "\n",
    "Es 3 harci masin arji mianqamic MML i grqic kardal vor sax jogel 88 - 92 kardumes toshnia "
   ]
  },
  {
   "cell_type": "markdown",
   "metadata": {},
   "source": [
    "## 23. WHat is roation and rotation matrix. \n",
    "\n",
    "rotation is a linear mapping (more specifically, an automorphism of rotation a Euclidean vector space) that rotates a plane by an angle tetta about the origin, i.e., the origin is a fixed point. For a positive angle tetta > 0, by commonconvention, we rotate in a counterclockwise direction. An example is shown in Figure 3.14, where the transformation matrix is orinak \n",
    "\n",
    "R = [ [􀀀0:38 􀀀0:92 0:92 􀀀0:38 ]] 2@ 2 i vra matric eli \n",
    "\n",
    "In contrast to the R2 case, in R3 we can rotate any two-dimensional plane about a one-dimensional axis. The easiest way to specify the general rotation matrix is to specify how the images of the standard basis e1; e2; e3 are supposed to be rotated, and making sure these images Re1;Re2;Re3 are orthonormal to each other. We can then obtain a general rotation matrix\n",
    "R by combining the images of the standard basis. u karanq asenq qani vor @st origini enq rotate anum u vercumenq basisayin vectorneri handep enq rotate anum rotation @ kara haskacvi vorpes basis change nayev u ira kordinatner@ et roation i matrici stacvumen basis ayin elemnent eri kombinacia inch vor. "
   ]
  },
  {
   "cell_type": "markdown",
   "metadata": {},
   "source": [
    "## 24. What is det of the matrix, couple of properties and theorem about invertibily when is the matrix invertible( det and   rankA = n).\n",
    "\n",
    "Matrican invertible a menak en jamanak erb ira det@ havasar chi 0 i. Det @ karanq naenq nayev vorpes measure of volume i xosqi bazmankyunneri 0 0 kentronov ancnox uxxankyan xosqi 0,b u g,0 kordinatnerov asenq vor ira matric@ grenq klni b anqam g - 0 .\n",
    "\n",
    "The determinant of a matrix product is the product of the corresponding determinants, det(AB) = det(A)det(B).\n",
    "Determinants are invariant to transposition, i.e., det(A) = det(A>).\n",
    "If A is regular (invertible), then det(A - 1) = 1 /det(A) .\n",
    "Adding a multiple of a column/row to another one does not change det(A).\n",
    "Multiplication of a column/row with lambda patk. R, scales det(A) by lambda. In particular, det(lambda A) = lambda** n det(A).\n",
    "Swapping two rows/columns changes the sign of det(A).\n"
   ]
  },
  {
   "cell_type": "markdown",
   "metadata": {},
   "source": [
    "## 25. Eigen values and eigen vectors and charecteristic polynomial of matrix. \n",
    "\n",
    "Ete A n qarakusi matrica e apa nra eigen value kanvanenq lambda tiv@ isk hamapatasxan eigen vector@ X @ ete A anqam x havasara lambda anqam x. Aysiqin eigen value ner@ dranq en value ner nen voronq vectorner@ scale en anum zut. Aysinqn matric@ vectori vra kirarel@ nuynna linum inch lambda tvov scale anel@. \n",
    "\n",
    "Gtnelu hamar mer eigen ner@ pti matricayi characteristic polynomial@ grenq. (A - lambda anqam I) anqam x mer hasavarumic stacvuma vor  havasarvuma 0. Isk Ax @ en jamanak lucum uni miak erb vor det A = 0. dranic khetevi det ( A - lambda I ) = 0\n",
    "u det@ hashveluc stacvuma n rd karqi bazmandam vorne henc mer charecteristic polynomialna. "
   ]
  },
  {
   "cell_type": "markdown",
   "metadata": {},
   "source": [
    "## 26. ALgebraic multiplicasity of eigen vector ann difference with geometric multiplicacity.\n",
    "\n",
    "Let a square matrix A have an eigenvalue lambda i. The algebraic multiplicity multiplicity of lambda i is the number of times the root appears in the characteristic polynomial. ( stacvuma korni kratnost@ ) \n",
    "\n",
    "Let lambda i be an eigenvalue of a square matrix A. Then the geometric geometric multiplicity of lambda i is the number of linearly independent eigenmultiplicity vectors associated with lambda i. In other words, it is the dimensionality of the eigenspace spanned by the eigenvectors associated with lambda i.\n",
    "\n",
    "Remark. A specific eigenvalue’s geometric multiplicity must be at least one because every eigenvalue has at least one associated eigenvector. An eigenvalue’s geometric multiplicity cannot exceed its algebraic multiplicity, but it may be lower. Orinak ete armat@ 4 kratni ya algebraic bayc iran hamapatasxan 4 eigen vectorneric 3 ne xosqi independent stacvuma geometric@ poqra algebraicic."
   ]
  },
  {
   "cell_type": "markdown",
   "metadata": {},
   "source": [
    "## 27. IF the matrix has n different eigen values are the corresponding eigen vectors independent and do A and A transpose have the same eigen values and eigen vectors. (117)\n",
    "\n",
    "Ayo ete matrica n uni n hat eigen value ape hamapatasxan eigein vectorner@ ankax en bayc partadir che vor orthogonal linen zut independent en. Orthogonality n en depqum a erb vor iranc inner product@ artahaytvac dot productov et space um havasar a 0 i.\n",
    "Isk A u A.T a misht unen nuyn eigen value ner@ bayc unen tarber eigen vectorner ete matrica n symmetric chi."
   ]
  },
  {
   "cell_type": "markdown",
   "metadata": {},
   "source": [
    "## 28. If the A is m na n than is A anqam A transpose is symmetric and always pozitive definite why? What can we say about eigen values for for this matrices and eigenvectors.\n",
    "\n",
    "Menq gitenq vor pozitiv definite en en matricner@ vor cankacac x i depqum X.T A X > 0. Mer matric@ AA.T na ira X.T A.T A X dvijenin vor nayenq esi karanq grenq (Ax).T anqam Ax vornel dot product a 2 hat nuyn bani u stacvuma norm voncor u mec a linum 0 ic. Karevor e nshel vor A n u A.T @ partadir unen nuyn eigen value ner @ bayc unen tarber eigen vectorner ete mre matric a symmetric chi. Isk te inchu nranqn unenq nuyn eigen value ner@ vortev nran charecteristic polynomialner@ nuynnen lriv.\n",
    "\n",
    "det ( A.T - lambda I ) = det ( A - lambda I ).T = det ( A - lambda I ) vortev det(A) = det(A.T) "
   ]
  },
  {
   "cell_type": "markdown",
   "metadata": {},
   "source": [
    "## 29. WHen is matrix A diagonazible ( eigen value decomposition matrix form ) and when does the eigen decomposition of matrix form exist. Does the simmetric matrix always possess a eigen value decomposition.\n",
    "\n",
    "The matrix is A is diagonasble if and only if goyutytun uni P invertible matrica aynpisi vor D = P-1 A P ( ekvivalent sahmanum eigen value decompositioni hamar). Symmetric matricaneri hamar always goyutyun uni eigen value decomposition. "
   ]
  },
  {
   "cell_type": "markdown",
   "metadata": {},
   "source": [
    "## 30. WHy is the determinant of matrix A equal to the product of its eigen values. ( 125 )\n",
    "\n",
    "Menq gitenq miayn ayn matricanneri hamar karox enq hashvel det voronq vor square en. Isk matrican uni ira inverse@ ete det@ ira havasar chi 0 dra hamar petqa pahanjenq vor matrican unena n hat ankax tox ev syun vor ira rank@ havasar lini n i. Isk en matricaner@ voronq unen n hat eigen ankax independent vectorner voronq form en anum anum basis R n um apa nranc hamar eigen value decomposition@ goyutyun uni A = P D P-1 , u qani vor P i sax columner@ ankax en rank e havasar e n ape nra inverse@ goyutyun uni u det@ havasar chi 0 i. Hima hashvenq A i det@ ev ogtvenq en det i hatkutyunic vor A matrici det@ ete havasar e k apa nra inverse i det@ havasar a 1/k , dranic hetevuma\n",
    "\n",
    "det(A) = det(p) det(D) det ( p-1 ) = det ( D ) vornel havasar e diagonali vra elementneri artadryalin voronq eigen valuenernen"
   ]
  },
  {
   "cell_type": "markdown",
   "metadata": {},
   "source": [
    "## 31. WHat is SVD, what are the corresponding matrix dimension and what does each matric with geometric untuition. WHat do the singular values equal to.\n",
    "\n",
    "Cankacac matric rectangular m@ n i vra karelia SVD decompose anel  A = U sigma V.T vortex U m@ m i vra matricaya, sigman m@ n i vra V.T n@ n i vra. Bayc esi voncor kochvuma lriv SVD vortev mer matica yi rank@ havasar e m, isk ete r i ya havasar kochvuma reduced SVD u myus harci mech nerkayacnumem stacum@. \n",
    "\n",
    "Matrices U and V apahovumen rotation kam vor nuynna bazis change isk sigma matrica n apahovuma scaling@. Singular value ner@ A anqam A.T i kam A.T anqam A i eigen value neri armatner nen vorov ev karucvuma mer sigma diagonal matrican. U ev V matricaner@ stacvuma orthonormal matricaner aysinqn iranc columner@ orthogonoal en ( orthogonal eigen vectorneren stacvum ) u nranc erkarutyun@ 1 a aysinqn columns ov Matrices is of U and V form an othonormal basis ( ONB )."
   ]
  },
  {
   "cell_type": "markdown",
   "metadata": {},
   "source": [
    "## 32. How are matrices constructed and how are their dimensions formed. U u V matricner@ nuynnen te tarber te vonc xosqi.\n",
    "\n",
    "Here the most important part is the A anqam A t vorov V matricnenq stanum ira orthonormal vectorner@ u A transpose anqam A matrici eigen value ner@ nuynnen @st haytni mer theoremi prosto stacvuma nenc vor A A.T i eigen vectorner@ hamapatasxan eigen value neri urishen linum A.T A i n@ urish u tenc sarqvumen u ev v tarber matricner@ u stacvuma ete xosqi matrica A n m@ n i vraya asenq orinak u ira rank@ r a kstananq vor A Vi = sigma Ui vortev i = 1,...r kstacvi vor sigma matrican r@ r i vra matricaya u m - r hat toxenq avelacnum vortev A n m@ n i vra er u mi hat n - r hatel syun.\n",
    "\n",
    "Orinaki vra mi hat ban jogenq karevor xosqi vor matrican n@ p i vraya vortex xosqi n - 4 a p nel 2 mi hat paha karevor jogel vor ete singular value decomposition enq anum  A A.T i hamar kstananq parza 2 hat eigen value mec zroic u aftomat diagonal mer matrican mechtexi 2@ 2 i vra kstananq. Ba harca arachanum vor 2 hat eigen value a vorduca 4@ 4 i vra U n ihayt gali. Irakanum vor A.T A i eigen value decompositionnenq anum stanumenq 2 hat nuyn eigen valu ner@ Inch A A.T i hamar u 2 hat e eigen value voronq vor NUll SPace ic en aysinqn 0 en u lambdan 0 vekalelov karucumenq 4@ 4 i vra eigenvectorneri mer U matric@ vortev U n petqa lini 4@ 4i sigmna n 2@ 2 i v nel 2 @ erkusi .\n",
    "\n",
    "Vabshe ete unenq A n m@ n i vra matricaya u r ne rank na ira kstananq hetevyal paher@ \n",
    "\n",
    "u1, . . . ,ur is an orthonormal basis for the column space\n",
    "ur+1, . . . ,um is an orthonormal basis for the left nullspace N(AT)\n",
    "v1, . . . , vr is an orthonormal basis for the row space\n",
    "vr+1, . . . , vn is an orthonormal basis for the nullspace N(A).\n",
    "\n",
    "Orinakneri hamar pti nayvi https://math.mit.edu/classes/18.095/2016IAP/lec2/SVD_Notes.pdf es link@ mekel \n",
    "http://web.mit.edu/course/other/be.400/OldFiles/www/SVD/Singular_Value_Decomposition.htm "
   ]
  },
  {
   "cell_type": "markdown",
   "metadata": {},
   "source": [
    "## 33. Main diferences between eigen value decomposition and singular value decomposition.\n",
    "\n",
    "Let us consider the eigendecomposition A = PDP􀀀1 and the SVD A = U\u0006V > and review the core elements of the past sections.\n",
    "\n",
    "The SVD always exists for any matrix Rm\u0002n. The eigendecomposition isonly defined for square matrices Rn\u0002n and only exists if we can find a basis of eigenvectors of Rn.\n",
    "\n",
    "The vectors in the eigendecomposition matrix P are not necessarily orthogonal, i.e., the change of basis is not a simple rotation and scaling.\n",
    "\n",
    "On the other hand, the vectors in the matrices U and V in the SVD are orthonormal, so they do represent rotations.\n",
    "\n",
    "Both the eigendecomposition and the SVD are compositions of three linear mappings:\n",
    "\n",
    "1. Change of basis in the domain\n",
    "2. Independent scaling of each new basis vector and mapping from domain to codomain\n",
    "3. Change of basis in the codomain\n",
    "\n",
    "A key difference between the eigendecomposition and the SVD is that in the SVD, domain and codomain can be vector spaces of different dimensions. In the SVD, the left- and right-singular vector matrices U and V aregenerally not inverse of each other (they perform basis changes in different vector spaces). In the eigendecomposition, the basis change matrices\n",
    "P and P􀀀1 are inverses of each other.\n",
    "\n",
    "In the SVD, the entries in the diagonal matrix \u0006 are all real and nonnegative, which is not generally true for the diagonal matrix in the eigendecomposition.\n",
    "\n",
    "The SVD and the eigendecomposition are closely related through their\n",
    "projections\n",
    "– The left-singular vectors of A are eigenvectors of AA>\n",
    "– The right-singular vectors of A are eigenvectors of A>A.\n",
    "– The nonzero singular values of A are the square roots of the nonzeroeigenvalues of AA> and are equal to the nonzero  eigenvalues of A>A.\n",
    "\n",
    "For symmetric matrices A 2 Rn\u0002n, the eigenvalue decomposition and the SVD are one and the same, which follows from the spectral theorem"
   ]
  },
  {
   "cell_type": "markdown",
   "metadata": {},
   "source": [
    "# 34. What are the subspaces of the R2 and R3\n",
    "\n",
    "For R2 the subspaces are R2, the zero vector and lines passing through the origin and for R3 es sax asacners plyus planeer@ voronq ancnum en originov."
   ]
  },
  {
   "cell_type": "markdown",
   "metadata": {},
   "source": [
    "# 35. When does the Ax = b have solution in the language of column space and rows combination and what is a natural way to finding the solution to Ax = b when we have rank of the matrix is smaller than min(m,n) and so we have free variables.\n",
    "\n",
    "1. Ax = b has a solution if the column b is in the column space of A that is linear combination of columns of A with coefficients x produces b.\n",
    "\n",
    "2. Another way to say is Ax = b has a solution and linear combination of rows of A gives a particular zero row than the same condition must be satisfied for the rows of the b. ( Gaus elimination aneluc ete stanumenq 0 akan tox xosqi nenc pti anenq vor b i et dirqume grac lini 0.\n",
    "\n",
    "# Now lets move to the main question how to find all the solutions to the Ax = b if rank r < min(m,n).\n",
    "\n",
    "1.  Gaussian elimination of Ax = b berenq stupenchti vidi u entadrenq stacelenq free variable ner 2 hat 2 hat e pivot columner \n",
    "    particular solution stanalu hamar free variable ner@ ksarqenq 0 u pivot variablener@ aftomat kkarenanq gtnenq u dranov \n",
    "    stanumenq inch vor Xp lucum X particulat vor@ mi hat column vector a \n",
    "2.  Gtnumenq Ax =  0 nullspace i lucumner@ voronq hamarvum en special lucumner u stanumenq c1 * x1 + c2 * x2 vordex x1 i free\n",
    "    variablener@ vercracen 0,1 isk x2 in@ 1,0 isk c1 c2 ov vercnumenq nranc linear combination@ vortev dranq sax lucumen\n",
    "    hamarvum.\n",
    "3.  Sax lucumner@ gtnelu hamar Xp in gumarumenq Xn null spacei lucumner@ vor stananqn sax lucumner@, isk te xi Xp n inch vor\n",
    "    gorcakcov chenq bazmapatkum vortev A * Xp = b chem kara Xp n inch vor gorcakcov bazmapatkem vortev kstanam 3b isk ete ach \n",
    "    mas@ voncor null space um zroya dra hamar karam vercnem stacvac lucumneri gcayin kombinacian.\n",
    "    \n",
    "    Es depqum stacvuma vor kam chunenq lucum kamel chuennq unenq infinitely many solutionner.\n",
    "    \n",
    "# Now in the case when the Ax = b has the full column rank that is rank = n how to find the solutions.\n",
    "\n",
    "1. Eli parza anumenq gausian elimination u stacvuma nenc vor free variable ner chenq unenum, u nenca stacvuma vor null space@\n",
    "   menak 0 akan vectorna u mer miak solution@ klini Xp @ vor kara goyutyun unena kara ev chunena bayc ete goyutyun uni to menq\n",
    "   unenq mi hat unique solution vor@ X particularna.\n",
    "   Xi karoxa solution chunenanq vortev nayi ete matric@ 4@ 2 i vraya kstacvi vor 2 hat pivot column kstananq u u nerqevi 2 tox@\n",
    "   0 u en jamanak lucum kunenq vor b n lini es 2 columni i kombinacia aysinqn xosqi lini 0 akan vector kam xosqi q anqam arachi \n",
    "   column gumarac k anqam 2 rd column.\n",
    "   \n",
    "# Now in the case when the Ax = b has the full row rank so that rank = m toxeri qanakin how to find the solutions.\n",
    "\n",
    "1. Eli parza anumenq gausian elimination u stacvuma nenc nor unenumenq n - r hat aysinqn n - m hat free variable u stacvuma nenc vor cankacac b i hamar unenumenq solution, free variable neri ktanq arjeqner u klucenq u kstacvi infinitely many solutions\n",
    "\n",
    "# Now in the case when the Ax = b has the full  rank so that rank = m = n how to find the solutions.\n",
    "\n",
    "Es depqum qani vor unenq square matrica u independent en sax columnner@ kstananq vor unenq unique 1 hat solution.\n",
    "\n"
   ]
  },
  {
   "cell_type": "code",
   "execution_count": null,
   "metadata": {},
   "outputs": [],
   "source": [
    "# when can mean mode and median be equal \n",
    "# what is batch normalization fiztexi video \n",
    "# what is naive bayes method\n",
    "# how can we apply kernel trick to linear regression \n"
   ]
  },
  {
   "cell_type": "markdown",
   "metadata": {},
   "source": []
  },
  {
   "cell_type": "markdown",
   "metadata": {},
   "source": []
  },
  {
   "cell_type": "markdown",
   "metadata": {},
   "source": [
    "## <span style='background :yellow' > Machine Learning Interview Questions. </span>"
   ]
  },
  {
   "cell_type": "markdown",
   "metadata": {},
   "source": [
    "## 1. The question how to calculate number of trainable parameters in neural network?\n",
    "\n",
    "Let us say we have 500 training examples, input 2 neurons hidden layer with 4 neurons and output layer with 1 output neuron. \n",
    "Let us write the number of neurons in each layer. Input = 2, Hidden = 4 output = 1. The special formula for calculating the\n",
    "number of parameters needed to be trained for the neural network is ( input * hidden + hidden * output) + bias( hidden + output). \n",
    "iN our case we will have ( 2*4 + 4*1 ) + ( 4 + 1 ) = 17 \n",
    "\n",
    "To understand the matrix multiplacation part in our model architecture the input is 500x2 matrix which we multiply by 4*2 weight matrix to go into the hidden layer ( w * X.t + b => 4 x 2 * 2 * 500 + 4 x 1 = 4 * 500) and after to go from the hidden layer to the final output layer we have the hidden layer which is 4 * 500 matrix and weight matrix is 4 * 1 ( w * X.t + b = 500 x 1) so we get the desirable 500 predictions after the forward pass which we need to compare to the real 500 real labels to calculate the MSE score for the current model. "
   ]
  },
  {
   "cell_type": "markdown",
   "metadata": {},
   "source": [
    "## 2. What are the main disadvatages of PCA that tht t-SNE fixes? ( Smartclick interview ) \n",
    "\n",
    "If we have to many categorical variables than PCA will fail because it actually changes the distance between the points after projecting. t-SNE uses local structure. It attempts to map points of higher dimension onto a lower dimensional space so that the distances between points remain almost the same.\n",
    "\n",
    "There are in fact other dimensionality reduction algorithms that attempt\n",
    "this such as Local Linear Embeddings and Kernel PCA. However, t-SNE\n",
    "works best in practice.\n",
    "\n",
    "The reason t-SNE works so well is that is solves the crowding problem\n",
    "caused by the curse of dimensionality, When mapping these higher\n",
    "dimensional points onto a lower dimension we end up with all the points\n",
    "squashed, causing crowding.\n",
    "\n",
    "t-SNE solves this by making the optimization spread-out."
   ]
  },
  {
   "cell_type": "markdown",
   "metadata": {},
   "source": [
    "## 3. What is the kernel trick and where is it used? \n",
    "\n",
    "The trick that calculates the relationship of observed data pairs in higher dimensions than the actual data is, without transforming the data in higher dimension is called the kernel trick. The kernel trick reduces the amount of computation required for the Support Vector Machines by avoind the math that transforms that data into high dimensional space and it makes calculating the dot product relationnships in the infinite dimensions with the hel of the radial kernel and with the help of the gausian or polynomial kernel with finite high dimensions. Ays kernel trick@ ogtagorcvume himnakanum ayn jamanak erb mer data n linear separable chi u non linear separability i hamar mer support vector machine move the data into high dimensional space where it can find the best support vector classifier in high dimensional space that effectively classifies the data into sevaral categories ( 2 or more )."
   ]
  },
  {
   "cell_type": "markdown",
   "metadata": {},
   "source": [
    "# 4. How is kNN different from kmeans clustering?\n",
    "\n",
    "Answer: Don’t get mislead by ‘k’ in their names. You should know that the fundamental difference between both these algorithms is, kmeans is unsupervised in nature and kNN is supervised in nature. kmeans is a clustering algorithm. kNN is a classification (or regression) algorithm.\n",
    "\n",
    "kmeans algorithm partitions a data set into clusters such that a cluster formed is homogeneous and the points in each cluster are close to each other. The algorithm tries to maintain enough separability between these clusters. Due to unsupervised nature, the clusters have no labels.\n",
    "\n",
    "kNN algorithm tries to classify an unlabeled observation based on its k (can be any number ) surrounding neighbors. It is also known as lazy learner because it involves minimal training of model. Hence, it doesn’t use training data to make generalization on unseen data set."
   ]
  },
  {
   "cell_type": "markdown",
   "metadata": {},
   "source": [
    "# 5. Rise in global average temperature led to decrease in number of pirates around the world. Does that mean that decrease in number of pirates caused the climate change?\n",
    "\n",
    "Answer: After reading this question, you should have understood that this is a classic case of “causation and correlation”. No, we can’t conclude that decrease in number of pirates caused the climate change because there might be other factors (lurking or confounding variables) influencing this phenomenon.\n",
    "\n",
    "Therefore, there might be a correlation between global average temperature and number of pirates, but based on this information we can’t say that pirated died because of rise in global average temperature."
   ]
  },
  {
   "cell_type": "markdown",
   "metadata": {},
   "source": [
    "# 6. While working on a data set, how do you select important variables? Explain your methods.\n",
    "\n",
    "Answer: Following are the methods of variable selection you can use:\n",
    "\n",
    "1. Remove the correlated variables prior to selecting important variables\n",
    "2. Use linear regression and select variables based on p values\n",
    "3. Use Forward Selection, Backward Selection, Stepwise Selection\n",
    "4. Use Random Forest, Xgboost and plot variable importance chart"
   ]
  },
  {
   "cell_type": "markdown",
   "metadata": {},
   "source": [
    "# 7. You’ve got a data set to work having p (no. of variable) > n (no. of observation). Why is OLS as bad option to work with? Which techniques would be best to use? Why?\n",
    "\n",
    "Answer: In such high dimensional data sets, we can’t use classical regression techniques, since their assumptions tend to fail. When p > n, we can no longer calculate a unique least square coefficient estimate, the variances become infinite, so OLS cannot be used at all.\n",
    "\n",
    "Nayi asenq ete featurener@ aveli shaten kstacvi thetanner@ aveli shaten u vor loss function@ grenq u havasaracnenq zroi u uzenanq minimum @ gtnenq kstacvi unenq aveli shat anhayt qan te havasarum vortev sample neri qanak@ aveli shata qan te parametreri qanak@ u kstacvi kunenanq anverch qanaki lucum.\n",
    "\n",
    "To combat this situation, we can use penalized regression methods like lasso, LARS, ridge which can shrink the coefficients to reduce variance. Precisely, ridge regression works best in situations where the least square estimates have higher variance."
   ]
  },
  {
   "cell_type": "markdown",
   "metadata": {},
   "source": [
    "# 8. What cross validation technique would you use on time series data set? Is it k-fold or LOOCV?\n",
    "\n",
    "Answer: Neither.\n",
    "\n",
    "In time series problem, k fold can be troublesome because there might be some pattern in year 4 or 5 which is not in year 3. Resampling the data set will separate these trends, and we might end up validation on past years, which is incorrect. Instead, we can use forward chaining strategy with 5 fold as shown below:\n",
    "\n",
    "fold 1 : training [1], test [2]\n",
    "fold 2 : training [1 2], test [3]\n",
    "fold 3 : training [1 2 3], test [4]\n",
    "fold 4 : training [1 2 3 4], test [5]\n",
    "fold 5 : training [1 2 3 4 5], test [6]\n",
    "where 1,2,3,4,5,6 represents “year”."
   ]
  },
  {
   "cell_type": "markdown",
   "metadata": {},
   "source": [
    "# 9. You are working on a classification problem. For validation purposes, you’ve randomly sampled the training data set into train and validation. You are confident that your model will work incredibly well on unseen data since your validation accuracy is high. However, you get shocked after getting poor test accuracy. What went wrong?\n",
    "\n",
    "Answer: In case of classification problem, we should always use stratified sampling instead of random sampling. A random sampling doesn’t takes into consideration the proportion of target classes. On the contrary, stratified sampling helps to maintain the distribution of target variable in the resultant distributed samples also.\n",
    "\n",
    "Stratified sampling offers some advantages and disadvantages compared to simple random sampling. Because it uses specific characteristics, it can provide a more accurate representation of the population based on what's used to divide it into different subsets. This often requires a smaller sample size, which can save resources and time. In addition, by including sufficient sample points from each stratum, the researchers can conduct a separate analysis on each individual stratum."
   ]
  },
  {
   "cell_type": "markdown",
   "metadata": {},
   "source": [
    "# 10. In k-means or kNN, we use euclidean distance to calculate the distance between nearest neighbors. Why not manhattan distance ?\n",
    "\n",
    "Answer: We don’t use manhattan distance because it calculates distance horizontally or vertically only. It has dimension restrictions. On the other hand, euclidean metric can be used in any space to calculate distance. Since, the data points can be present in any dimension, euclidean distance is a more viable option.\n",
    "\n",
    "Example: Think of a chess board, the movement made by a bishop or a rook is calculated by manhattan distance because of their respective vertical & horizontal movements. \n",
    "\n",
    "But this is very tricky questions and needs a research"
   ]
  },
  {
   "cell_type": "markdown",
   "metadata": {},
   "source": [
    "# 11. What is ROC and AUC and how is AUC Score calculated?\n",
    "\n",
    "First, the definitions. A ROC curve plots the performance of a binary classifier under various threshold settings; this is measured by true positive rate and false positive rate. If your classifier predicts “true” more often, it will have more true positives (good) but also more false positives (bad). If your classifier is more conservative, predicting “true” less often, it will have fewer false positives but fewer true positives as well. The ROC curve is a graphical representation of this tradeoff.\n",
    "\n",
    "A perfect classifier has a 100% true positive rate and 0% false positive rate, so its ROC curve passes through the upper left corner of the square. A completely random classifier (ie: predicting “true” with probability p and “false” with probability 1-p for all inputs) will by random chance correctly classify proportion p of the actual true values and incorrectly classify proportion p of the false values, so its true and false positive rates are both p. Therefore, a completely random classifier’s ROC curve is a straight line through the diagonal of the plot.\n",
    "\n",
    "The AUC (Area Under Curve) is the area enclosed by the ROC curve. A perfect classifier has AUC = 1 and a completely random classifier has AUC = 0.5. Usually, your model will score somewhere in between. The range of possible AUC values is [0, 1]. However, if your AUC is below 0.5, that means you can invert all the outputs of your classifier and get a better score, so you did something wrong.\n",
    "\n",
    "Why do we care about AUC, why not just score by percentage accuracy?\n",
    "\n",
    "AUC is good for classification problems with a class imbalance. Suppose the task is to detect dementia from speech, and 99% of people don’t have dementia and only 1% do. Then you can submit a classifier that always outputs “no dementia”, and that would achieve 99% accuracy. It would seem like your 99% accurate classifier is pretty good, when in fact it is completely useless. Using AUC scoring, your classifier would score 0.5.\n",
    "\n",
    "Accuracy deals with ones and zeros, meaning you either got the class label right or you didn’t. But many classifiers are able to quantify their uncertainty about the answer by outputting a probability value. To compute accuracy from probabilities you need a threshold to decide when zero turns into one. The most natural threshold is of course 0.5.\n",
    "\n",
    "Let’s suppose you have a quirky classifier. It is able to get all the answers right, but it outputs 0.7 for negative examples and 0.9 for positive examples. Clearly, a threshold of 0.5 won’t get you far here. But 0.8 would be just perfect.\n",
    "\n",
    "That’s the whole point of using AUC - it considers all possible thresholds. Various thresholds result in different true positive/false positive rates. As you decrease the threshold, you get more true positives, but also more false positives. The relation between them can be plotted:\n",
    "\n",
    "Maximum makeres@ klini en jamanak erb vor tp rate@ 1 a isk false positive rate@ 0 u kstacvi qarakusu makeres 1 1 koxmerov vor@ 1, bayc tenc case er hamarya te chi linum stanal.\n",
    "\n",
    "Roc curve function@ stanauma 2 himnakanum parametrer y_test@ labelner@ u mer testi vra predictionner@ u veradarcnuma 3 hat ban tp i list, fp_list list u thresholdneri list aysinqn xar@ thresholdneri hamar tp i rate u fp i rate u heto et tp u fp rate er@ talis enq auc function in inqne hashvuma makeres@ et curve i taki."
   ]
  },
  {
   "cell_type": "markdown",
   "metadata": {},
   "source": [
    "# 12. Why is Bayes method naive?\n",
    "\n",
    "Despite its practical applications, especially in text mining, Naive Bayes is considered “Naive” because it makes an assumption that is virtually impossible to see in real-life data: the conditional probability is calculated as the pure product of the individual probabilities of components. This implies the absolute independence of features — a condition probably never met in real life. Chen kara sax feature ner@ independent linen himnakanum tenc ban chi linum."
   ]
  },
  {
   "attachments": {
    "image.png": {
     "image/png": "[encoded data removed]"
    }
   },
   "cell_type": "markdown",
   "metadata": {},
   "source": [
    "# 13 What is conditional independence and Naive Bayes model?\n",
    "\n",
    "𝑃(𝑎,𝑏│𝑐)=𝑃(𝑎│𝑐)𝑃(𝑏│𝑐)  ⇿ 𝑎⊥𝑏|𝑐\n",
    "\n",
    "![image.png](attachment:image.png)"
   ]
  },
  {
   "attachments": {
    "image.png": {
     "image/png": "[encoded data removed]"
    }
   },
   "cell_type": "markdown",
   "metadata": {},
   "source": [
    "The above is the equation of the conditional independence\n",
    "\n",
    "How to infer:\n",
    "We need to predict 𝐶 𝑔𝑖𝑣𝑒𝑛 𝑋 where:\n",
    "𝐶 is a class\n",
    "𝑋 is a d dimensional input vector.\n",
    "\n",
    "According to Naïve Bayes model: \n",
    "𝑃(𝑋,𝐶)=𝑃(𝑋_1│𝐶)𝑃(𝑋_2│𝐶)𝑃(𝑋_3│𝐶)…𝑃(𝑋_𝑑│𝐶)𝑃(𝐶)\n",
    "\n",
    "So\n",
    "𝐶_𝑝𝑟𝑒𝑑𝑖𝑐𝑡𝑒𝑑=argmax┬𝑐⁡〖𝑃(𝑐│𝑋)〗=argmax┬𝑐⁡〖𝑃(𝑋, 𝑐)/(𝑃(𝑋))〗=argmax┬𝑐⁡𝑃(𝑋,𝑐)=argmax┬𝑐⁡〖𝑃(𝑐)∏▒〖𝑃(𝑋_𝑖 |𝑐)〗〗![image.png](attachment:image.png)"
   ]
  },
  {
   "attachments": {
    "image.png": {
     "image/png": "[encoded data removed]"
    }
   },
   "cell_type": "markdown",
   "metadata": {},
   "source": [
    "𝑃(𝐶) is called class prior and can be learned or be set based on prior knowledge, e.g.:\n",
    "\n",
    "𝑃(𝑐_𝑗 )=(∑▒1_(𝑐_𝑖=𝑐_𝑗 ) )/𝑁\n",
    "What about 𝑃(𝑋|𝐶)?\n",
    "It depends on a feature. For example:\n",
    "Multinomial distribution is used for text classification\n",
    "Gaussian distribution is used for numerical features\n",
    "Categorical for categorical features\n",
    "\n",
    "We are particularly interested in Multinomial distribution today, as we are going to apply it to NLP.\n",
    "![image.png](attachment:image.png)"
   ]
  },
  {
   "cell_type": "markdown",
   "metadata": {},
   "source": [
    "For later knowledge and use of Naive Bayes please refer to my Naive_Bayes.pptx file in Machine Learning interview."
   ]
  },
  {
   "cell_type": "markdown",
   "metadata": {},
   "source": [
    "# 14. What is batch normalization and how it is connected to covariate shift and shuffling the data.\n",
    "\n",
    "Datasets shift appears when we have distribution of train and test set is different. U es dataset shift i tesakneric mek@ cvariate shift na et en depqum a linum erb vor training u testi distributionner@ nuynnen bayc mer indepent variable ner@ distrubutionner@ tarberen linum. Asenq xosqi unenqn dataset vor skzbic galisen koshkeqi data heto shneri heto el pxeri u menq talisenq mer neural networkin input skzbic catunerin heto shnerin heto pxerin. ET shat vata vortev vor mer neural network @ skzbic sksi catuneri vra sovorel mi batch ov asenq u heto urish bachov shneri weighteri shat mec popoxutyun texi kunena u trainin@ shat anhart kntana dra hamar karevora vor input taluc partadir shuffle anenq datan mer vor amen batch um distribution@ nuyn@ lini mer indepent variable neri. \n",
    "\n",
    "Kam grakanutyunner kan vor dataset shift in asumen covariate shift isk isk nerqin independent variable nerin@ asumen internal covariate shift.\n",
    "\n",
    "Isk batch normalization i mech menq amen mi layer um enq anum shuffle ing vor et covariate shiftic azatvenq u amen mi layer um unenanq normalized u distributional shift. Isk menq et anumenq logichniya te inchi hamar vortev patkeracnenq mer arachi input layer@ hl@ morananq ira output layer ic ete sksenq ira output layer@ kara normalized u shuffled arac chi lini u ete texic sksenq train anel hart training chi gna. Dra hamar vorpes mer sax subnetworkneri trainin@ u mer sax networkin training @ hart @ntana logichniya vor arji batch normalization anel u amen layer umm normalization u covariate shift anel vor ham mer training u testing seteri distribution@ nuyn@ lini hamel her independent variablenerin@\n",
    "\n",
    "Mi hate karevor intuicia xosqi ete menak arachi layer@ normalize u shuffle arecinq mi hat epoch gnacinq ekanq inputi weighter@ update exan u arden 2 rd epochi jamanak 2 rd layer distribution@ inch@ vor arahci epochi jamanaker kpoxvi u ete deep network unenq sax layerneri distribution@ kxarnvi u mer training@ lav chi @Ntana dra hamar nenc enq anum vor amen layer um karenanq covariate shift anenq vor mer network@ voroshi te inch shifting ani vor ira training @ hart @ntana. EN etta u betta parametrer@ vor kan baci normalize aneluc et henc covariate shifti hamar en. \n",
    "\n",
    "![title](https://kratzert.github.io/images/bn_backpass/bn_algorithm.PNG)"
   ]
  },
  {
   "cell_type": "markdown",
   "metadata": {},
   "source": [
    "# 15. When are the weight of CNN lets say updated during batch size training ? \n",
    "\n",
    "Whenever you train the network using batch means that you have chosen to train using batch gradient descent. There are three variants for gradient descent algorithm:\n",
    "\n",
    "Gradient Descent\n",
    "Stochastic Gradient Descent\n",
    "Batch Gradient Descent\n",
    "\n",
    "The last one tries to find a trade-off between the above approaches. You specify a batch size and you will update the weights after passing the data samples in each batch, means the gradients are calculated after passing each batch. Suppose you have one thousand data sample and you have specified a batch size with one hundred data sample. You will have 10 weight update for each epoch. This method is more accurate than the second approach and is more faster than the first approach.\n",
    "\n",
    "So to answer the question Do I back propagate after each batch has been presented to network or after each image?\n",
    "\n",
    "Your method is the last one. Consequently, after passing the entire batch, you would update the weights."
   ]
  },
  {
   "cell_type": "code",
   "execution_count": null,
   "metadata": {},
   "outputs": [],
   "source": [
    "# calculating number of parameters in sgd and gradient descent for the number of samples and their formulas\n",
    "# how to get the cnn input matrix to the fully connected neural network\n",
    "# what does the singular values of a matrix tell us about the matrix ( low rank matrices gill ic baci mi hat uler patmum dra mas)\n",
    "# which kind of matrices have orthogonal eigen vectors \n",
    "# what is fast forier transorm and what is the fourier matrix"
   ]
  },
  {
   "cell_type": "markdown",
   "metadata": {},
   "source": [
    "# Machine Learning Algorithms\n",
    "\n",
    "1. Linear Regression - regression analysis\n",
    "2. Logistic Regression - classification algorithm\n",
    "3. Decision Tree - both classification and regression algorithm\n",
    "4. SVM - classificaton algorithm\n",
    "5. Naive Bayes - classification algorithm\n",
    "6. kNN - classificattion algorithm\n",
    "7. Clustering algorithms\n",
    "    1. KMeans\n",
    "    2. Hierarchical Clustering\n",
    "    3. DBSCAN \n",
    "    4. EM and Gausian Mixture \n",
    "    5. TSNE\n",
    "8. Random Forest - both classification and regression algorithm\n",
    "9. PCA, SVD, TSNE - Dimensionality Reduction Algorithms\n",
    "10. Boosting AlgorithmsGradient Boosting algorithms\n",
    "    1. GBM\n",
    "    2. XGBoost\n",
    "    3. LightGBM\n",
    "    4. CatBoost\n",
    "11. Neural Networks - both classification and regression algorithm\n",
    "12. Convolution Neural Networks - Working with Images, Computer vision\n",
    "13. Recurrent Neural Networks, LSTM - Working With sequences, time series data\n",
    "14. NLP - working with text\n",
    "    1. Word to Vector - Skipgram( Bag of words ) and CBow\n",
    "    2. Glove\n",
    "    3. Fasttext ( Facebook)\n",
    "    4. TF-IDF"
   ]
  },
  {
   "cell_type": "markdown",
   "metadata": {},
   "source": [
    "# All terms used in Data Science Which are important to know.\n",
    "\n",
    "Introduction\n",
    "\n",
    "# Simple Linear Regression \n",
    "\n",
    "1.Simple regression, Cost function ( MSE ), OLS, bias and intercept calculation formulas\n",
    "\n",
    "2.Multivariable regression, Gaus Markov Theorem, Effectiveness of Coefficients Estimation \n",
    "\n",
    "3.Statsmodel Library, R squared and adjusted R squared, P value and confidence intervals in regression analysis\n",
    "\n",
    "4.Simplifying with matrices Normalization and normal equation for calculating the coefficients, Sample error and standart error \n",
    "\n",
    "5.Forward and Backward Feature selections, Feature Importance\n",
    "\n",
    "6.Gradient descent, Stochastic Gradient, Descent,MIni Batch gradient descent\n",
    "\n",
    "# Logistic Regression\n",
    "\n",
    "7. Logistic Regression, Cost function, Cross ENtropy Loss, Sigmoid Actiovation Function\n",
    "\n",
    "8. Derivation of Logsitic Regression Cross ENtropy loss with Maximum Likelihood and intuition behind that Loss\n",
    "\n",
    "9. Softmax activation functon and multiclass classification techniques\n",
    "\n",
    "10. Evaluation metrics Confusion Matrix, Precision, Recall, ROC curve, AUC score, F1 score, accuracy,\n",
    "\n",
    "11. Type 1 and Type 2 error and in which case which error is more important\n",
    "\n",
    "12. Regularization techniques L1 and L2 and when to use which one depending one features\n",
    "\n",
    "13. regularized logistic and linear regression formulas for cost function and gradient descent\n",
    "\n",
    "\n",
    "# Decision Trees and Random Forests\n",
    "\n",
    "14. What is decision tree and parts of decision tree\n",
    "\n",
    "15. Spliting gini index and entropy techniques, information gain\n",
    "\n",
    "16. greedy aproach and types of pruning the trees\n",
    "\n",
    "17. ensemble methods bagging and bosting and why are they used\n",
    "\n",
    "18. Random forest, sampling with replacement and random feature selection\n",
    "\n",
    "19. Cross validation technique and its use in random forest and decision trees, hyper parameters tuning\n",
    "\n",
    "\n",
    "# Boosting \n",
    "\n",
    "20. Simple Boosting technique step by step \n",
    "\n",
    "21. AdaBoost ALgorithm and difference between adaboost and random forest\n",
    "\n",
    "22. Gradient boosting and its Efficiency, XGBoost, CatBoost, LightGBM\n",
    "\n",
    "\n",
    "# Clustering \n",
    "\n",
    "23. KMeans, Siluette Score, Elbow method, Expectation Maximization\n",
    "\n",
    "24. DBSCAN, TSNE, Gausian Mixture Methods\n",
    "\n"
   ]
  },
  {
   "cell_type": "code",
   "execution_count": null,
   "metadata": {},
   "outputs": [],
   "source": []
  }
 ],
 "metadata": {
  "kernelspec": {
   "display_name": "Python 3",
   "language": "python",
   "name": "python3"
  },
  "language_info": {
   "codemirror_mode": {
    "name": "ipython",
    "version": 3
   },
   "file_extension": ".py",
   "mimetype": "text/x-python",
   "name": "python",
   "nbconvert_exporter": "python",
   "pygments_lexer": "ipython3",
   "version": "3.7.4"
  }
 },
 "nbformat": 4,
 "nbformat_minor": 2
}
